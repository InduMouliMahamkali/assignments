{
 "cells": [
  {
   "cell_type": "markdown",
   "id": "c9375686",
   "metadata": {},
   "source": [
    "1.\tWrite a Python Program to find sum of array?\n",
    "2.\tWrite a Python Program to find largest element in an array?\n",
    "3.\tWrite a Python Program for array rotation?\n",
    "4.\tWrite a Python Program to Split the array and add the first part to the end?\n",
    "5.\tWrite a Python Program to check if given array is Monotonic?\n"
   ]
  },
  {
   "cell_type": "code",
   "execution_count": 3,
   "id": "f9f26bab",
   "metadata": {},
   "outputs": [
    {
     "name": "stdout",
     "output_type": "stream",
     "text": [
      "enter the number of values to be in a list: 5\n",
      "enter the values of list: 2\n",
      "enter the values of list: 3\n",
      "enter the values of list: 4\n",
      "enter the values of list: 5\n",
      "enter the values of list: 6\n",
      "sum of the numbers in the provided list is: 20\n"
     ]
    }
   ],
   "source": [
    "#1\n",
    "\n",
    "m=int(input(\"enter the number of values to be in a list: \"))\n",
    "l=[]\n",
    "for j in range(m):\n",
    "    k=int(input(\"enter the values of list: \"))\n",
    "    l.append(k)\n",
    "    \n",
    "def fun1(k):\n",
    "    print(\"sum of the numbers in the provided list is: {}\".format(sum(k)))\n",
    "    \n",
    "fun1(l)"
   ]
  },
  {
   "cell_type": "code",
   "execution_count": 3,
   "id": "53c77d70",
   "metadata": {},
   "outputs": [
    {
     "name": "stdout",
     "output_type": "stream",
     "text": [
      "enter the number of values to be in a list: 8\n",
      "enter the values of list: 34\n",
      "enter the values of list: 54\n",
      "enter the values of list: 5432\n",
      "enter the values of list: 543\n",
      "enter the values of list: 567\n",
      "enter the values of list: 78\n",
      "enter the values of list: 67\n",
      "enter the values of list: 987\n",
      "largest value in the given list is: 5432\n"
     ]
    }
   ],
   "source": [
    "#2\n",
    "\n",
    "m=int(input(\"enter the number of values to be in a list: \"))\n",
    "l=[]\n",
    "for j in range(m):\n",
    "    k=int(input(\"enter the values of list: \"))\n",
    "    l.append(k)\n",
    "    \n",
    "def fun2(l):\n",
    "    print(\"largest value in the given list is: {}\".format(max(l)))\n",
    "    \n",
    "fun2(l)"
   ]
  },
  {
   "cell_type": "code",
   "execution_count": 5,
   "id": "57967d99",
   "metadata": {},
   "outputs": [
    {
     "name": "stdout",
     "output_type": "stream",
     "text": [
      "enter the number of values to be in a list: 6\n",
      "enter the values of list: 1\n",
      "enter the values of list: 2\n",
      "enter the values of list: 3\n",
      "enter the values of list: 4\n",
      "enter the values of list: 5\n",
      "enter the values of list: 6\n",
      "array before rotation is: [1, 2, 3, 4, 5, 6]\n",
      "array after rotation is: [3, 4, 5, 6, 1, 2]\n"
     ]
    }
   ],
   "source": [
    "#3\n",
    "\n",
    "m=int(input(\"enter the number of values to be in a list: \"))\n",
    "l=[]\n",
    "for j in range(m):\n",
    "    k=int(input(\"enter the values of list: \"))\n",
    "    l.append(k)\n",
    "\n",
    "\n",
    "def fun3(arr, n, d):\n",
    "    temp = []\n",
    "    i = 0\n",
    "    while (i < d):\n",
    "        temp.append(arr[i])\n",
    "        i = i + 1\n",
    "    i = 0\n",
    "    while (d < n):\n",
    "        arr[i] = arr[d]\n",
    "        i = i + 1\n",
    "        d = d + 1\n",
    "    arr[:] = arr[: i] + temp\n",
    "    return arr\n",
    "\n",
    "print(\"array before rotation is: {}\".format(l))\n",
    "\n",
    "print(\"array after rotation is: {}\".format(fun3(l,len(l),2)))"
   ]
  },
  {
   "cell_type": "code",
   "execution_count": 6,
   "id": "fb7c666a",
   "metadata": {},
   "outputs": [
    {
     "name": "stdout",
     "output_type": "stream",
     "text": [
      "enter the number of values to be in a list: 7\n",
      "enter the values of list: 1\n",
      "enter the values of list: 2\n",
      "enter the values of list: 3\n",
      "enter the values of list: 4\n",
      "enter the values of list: 5\n",
      "enter the values of list: 6\n",
      "enter the values of list: 7\n",
      "4 5 6 7 1 2 3 "
     ]
    }
   ],
   "source": [
    "#4\n",
    "\n",
    "m=int(input(\"enter the number of values to be in a list: \"))\n",
    "l=[]\n",
    "for j in range(m):\n",
    "    k=int(input(\"enter the values of list: \"))\n",
    "    l.append(k)\n",
    "\n",
    "\n",
    "def fun4(arr, n, k): \n",
    "    for i in range(0, k): \n",
    "        x = arr[0]\n",
    "        for j in range(0, n-1):\n",
    "            arr[j] = arr[j + 1]\n",
    "          \n",
    "        arr[n-1] = x\n",
    "\n",
    "\n",
    "n = len(l)\n",
    "position = n//2\n",
    "  \n",
    "fun4(l, n, position)\n",
    "  \n",
    "for i in range(0, n): \n",
    "    print(l[i], end = ' ')"
   ]
  },
  {
   "cell_type": "code",
   "execution_count": 10,
   "id": "7996a53a",
   "metadata": {},
   "outputs": [
    {
     "name": "stdout",
     "output_type": "stream",
     "text": [
      "enter the number of values to be in a list: 7\n",
      "enter the values of list: 9\n",
      "enter the values of list: 1\n",
      "enter the values of list: 7\n",
      "enter the values of list: 2\n",
      "enter the values of list: 6\n",
      "enter the values of list: 26\n",
      "enter the values of list: 84\n",
      "False\n"
     ]
    }
   ],
   "source": [
    "#5\n",
    "\n",
    "m=int(input(\"enter the number of values to be in a list: \"))\n",
    "l=[]\n",
    "for j in range(m):\n",
    "    k=int(input(\"enter the values of list: \"))\n",
    "    l.append(k)\n",
    "\n",
    "def fun5(A):\n",
    "  \n",
    "    return (all(A[i] <= A[i + 1] for i in range(len(A) - 1)) or\n",
    "            all(A[i] >= A[i + 1] for i in range(len(A) - 1)))\n",
    "\n",
    "print(fun5(l))"
   ]
  },
  {
   "cell_type": "code",
   "execution_count": null,
   "id": "19beb2a4",
   "metadata": {},
   "outputs": [],
   "source": []
  }
 ],
 "metadata": {
  "kernelspec": {
   "display_name": "Python 3",
   "language": "python",
   "name": "python3"
  },
  "language_info": {
   "codemirror_mode": {
    "name": "ipython",
    "version": 3
   },
   "file_extension": ".py",
   "mimetype": "text/x-python",
   "name": "python",
   "nbconvert_exporter": "python",
   "pygments_lexer": "ipython3",
   "version": "3.8.8"
  }
 },
 "nbformat": 4,
 "nbformat_minor": 5
}
