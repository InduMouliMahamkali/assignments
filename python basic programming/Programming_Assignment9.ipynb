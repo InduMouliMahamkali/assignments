{
 "cells": [
  {
   "cell_type": "markdown",
   "id": "ca15dd8c",
   "metadata": {},
   "source": [
    "1.\tWrite a Python program to check if the given number is a Disarium Number?\n",
    "2.\tWrite a Python program to print all disarium numbers between 1 to 100?\n",
    "3.\tWrite a Python program to check if the given number is Happy Number?\n",
    "4.\tWrite a Python program to print all happy numbers between 1 and 100?\n",
    "5.\tWrite a Python program to determine whether the given number is a Harshad Number?\n",
    "6.\tWrite a Python program to print all pronic numbers between 1 and 100?\n"
   ]
  },
  {
   "cell_type": "code",
   "execution_count": 3,
   "id": "13f212b0",
   "metadata": {},
   "outputs": [
    {
     "name": "stdout",
     "output_type": "stream",
     "text": [
      "enter a number to check if its disarium number or not: 2345\n",
      "2345 is not a disarium number\n"
     ]
    }
   ],
   "source": [
    "#1\n",
    "\n",
    "def fun1(n):    \n",
    "    length = 0 \n",
    "    while(n != 0):\n",
    "        length = length + 1\n",
    "        n = n//10\n",
    "    return length\n",
    "    \n",
    "num = int(input(\"enter a number to check if its disarium number or not: \"))\n",
    "rem = sum = 0  \n",
    "len = fun1(num)  \n",
    "     \n",
    "\n",
    "n = num  \n",
    "   \n",
    "while(num > 0):    \n",
    "    rem = num%10\n",
    "    sum = sum + int(rem**len)\n",
    "    num = num//10  \n",
    "    len = len - 1   \n",
    "     \n",
    "if(sum == n):    \n",
    "    print(str(n) + \" is a disarium number\") \n",
    "else:    \n",
    "    print(str(n) + \" is not a disarium number\")   "
   ]
  },
  {
   "cell_type": "code",
   "execution_count": 5,
   "id": "8930e3fd",
   "metadata": {},
   "outputs": [
    {
     "name": "stdout",
     "output_type": "stream",
     "text": [
      "enter the starting value of range: 1\n",
      "enter the ending value of range: 100\n",
      "Disarium numbers between 1 and 100 are\n",
      "1\n",
      "2\n",
      "3\n",
      "4\n",
      "5\n",
      "6\n",
      "7\n",
      "8\n",
      "9\n",
      "89\n"
     ]
    }
   ],
   "source": [
    "#2\n",
    "\n",
    "k=int(input(\"enter the starting value of range: \"))\n",
    "m=int(input(\"enter the ending value of range: \"))\n",
    "\n",
    "\n",
    "def fun2_calculate(n):    \n",
    "    length = 0;    \n",
    "    while(n != 0):    \n",
    "        length = length + 1;    \n",
    "        n = n//10;    \n",
    "    return length;    \n",
    "     \n",
    "\n",
    "def fun2_sum(num):    \n",
    "    rem = sum = 0;    \n",
    "    len = fun2_calculate(num);    \n",
    "        \n",
    "    while(num > 0):    \n",
    "        rem = num%10;    \n",
    "        sum = sum + (rem**len);    \n",
    "        num = num//10;    \n",
    "        len = len - 1;    \n",
    "    return sum;    \n",
    "      \n",
    "result = 0;    \n",
    "       \n",
    "print(\"Disarium numbers between {} and {} are\".format(k,m));    \n",
    "for i in range(k, m+1):    \n",
    "    result = fun2_sum(i);    \n",
    "        \n",
    "    if(result == i):    \n",
    "        print(i),    "
   ]
  },
  {
   "cell_type": "code",
   "execution_count": 6,
   "id": "43ead81c",
   "metadata": {},
   "outputs": [
    {
     "name": "stdout",
     "output_type": "stream",
     "text": [
      "enter a number to find if its a happy number: 2345\n",
      "2345 is not a Happy number\n"
     ]
    }
   ],
   "source": [
    "#3\n",
    "\n",
    "def fun3_square(n):\n",
    "    squareSum = 0\n",
    "    while(n):\n",
    "        squareSum += (n % 10) * (n % 10)\n",
    "        n = int(n / 10)\n",
    "    return squareSum\n",
    "\n",
    "def fun3(n):\n",
    "\n",
    "    slow = n\n",
    "    fast = n\n",
    "    while(True):\n",
    "         \n",
    "\n",
    "        slow = fun3_square(slow)\n",
    " \n",
    "\n",
    "        fast = fun3_square(fun3_square(fast))\n",
    "        if(slow != fast):\n",
    "            continue\n",
    "        else:\n",
    "            break\n",
    " \n",
    "\n",
    "    return (slow == 1)\n",
    " \n",
    "\n",
    "n = int(input(\"enter a number to find if its a happy number: \"))\n",
    "if (fun3(n)):\n",
    "    print(n , \"is a Happy number\")\n",
    "else:\n",
    "    print(n , \"is not a Happy number\")"
   ]
  },
  {
   "cell_type": "code",
   "execution_count": 8,
   "id": "924bb686",
   "metadata": {},
   "outputs": [
    {
     "name": "stdout",
     "output_type": "stream",
     "text": [
      "enter the starting value of range: 1\n",
      "enter the ending value of range: 101\n",
      "List of happy numbers between 1 and 100: \n",
      "1\n",
      "7\n",
      "10\n",
      "13\n",
      "19\n",
      "23\n",
      "28\n",
      "31\n",
      "32\n",
      "44\n",
      "49\n",
      "68\n",
      "70\n",
      "79\n",
      "82\n",
      "86\n",
      "91\n",
      "94\n",
      "97\n",
      "100\n"
     ]
    }
   ],
   "source": [
    "#4\n",
    "m=int(input(\"enter the starting value of range: \"))\n",
    "k=int(input(\"enter the ending value of range: \"))\n",
    "\n",
    "\n",
    "def fun4(num):    \n",
    "    rem = sum = 0\n",
    "        \n",
    "\n",
    "    while(num > 0):    \n",
    "        rem = num%10\n",
    "        sum = sum + (rem*rem)\n",
    "        num = num//10 \n",
    "    return sum\n",
    "            \n",
    "print(\"List of happy numbers between 1 and 100: \")  \n",
    "for i in range(m, k):    \n",
    "    result = i \n",
    "        \n",
    "   \n",
    "    while(result != 1 and result != 4):    \n",
    "        result = fun4(result)  \n",
    "        \n",
    "    if(result == 1):    \n",
    "        print(i)"
   ]
  },
  {
   "cell_type": "code",
   "execution_count": 9,
   "id": "01909ed6",
   "metadata": {},
   "outputs": [
    {
     "name": "stdout",
     "output_type": "stream",
     "text": [
      "enter a number to find if its harshad number or not: 2345\n",
      "No\n"
     ]
    }
   ],
   "source": [
    "#5\n",
    "\n",
    "a=int(input(\"enter a number to find if its harshad number or not: \"))\n",
    "\n",
    "\n",
    "def fun5( n ) :\n",
    "    sum = 0\n",
    "    temp = n\n",
    "    while temp > 0 :\n",
    "        sum = sum + temp % 10\n",
    "        temp = temp // 10\n",
    "\n",
    "    return n % sum == 0\n",
    " \n",
    "\n",
    "if(fun5(a)) :\n",
    "    print(\"Yes\")\n",
    "else :\n",
    "    print (\"No\")\n"
   ]
  },
  {
   "cell_type": "code",
   "execution_count": 10,
   "id": "9fbb6b60",
   "metadata": {},
   "outputs": [
    {
     "name": "stdout",
     "output_type": "stream",
     "text": [
      "enter the starting value of range: 1\n",
      "enter the ending value of range: 101\n",
      "Pronic numbers between 1 and 101: \n",
      "2\n",
      "6\n",
      "12\n",
      "20\n",
      "30\n",
      "42\n",
      "56\n",
      "72\n",
      "90\n"
     ]
    }
   ],
   "source": [
    "#6\n",
    "\n",
    "k=int(input(\"enter the starting value of range: \"))\n",
    "m=int(input(\"enter the ending value of range: \"))\n",
    "\n",
    "\n",
    "def fun6(num):    \n",
    "    flag = False;    \n",
    "        \n",
    "    for j in range(1, num+1):    \n",
    "  \n",
    "        if((j*(j+1)) == num):    \n",
    "            flag = True;    \n",
    "            break;    \n",
    "    return flag;    \n",
    "     \n",
    "print(\"Pronic numbers between {} and {}: \".format(k,m));    \n",
    "for i in range(k, m):    \n",
    "    if(fun6(i)):    \n",
    "        print(i),    "
   ]
  },
  {
   "cell_type": "code",
   "execution_count": null,
   "id": "4a5339e4",
   "metadata": {},
   "outputs": [],
   "source": []
  }
 ],
 "metadata": {
  "kernelspec": {
   "display_name": "Python 3",
   "language": "python",
   "name": "python3"
  },
  "language_info": {
   "codemirror_mode": {
    "name": "ipython",
    "version": 3
   },
   "file_extension": ".py",
   "mimetype": "text/x-python",
   "name": "python",
   "nbconvert_exporter": "python",
   "pygments_lexer": "ipython3",
   "version": "3.8.8"
  }
 },
 "nbformat": 4,
 "nbformat_minor": 5
}
