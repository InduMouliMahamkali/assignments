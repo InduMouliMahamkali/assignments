{
 "cells": [
  {
   "cell_type": "markdown",
   "id": "252805f9",
   "metadata": {},
   "source": [
    "1.\tWrite a Python Program to Add Two Matrices?\n",
    "2.\tWrite a Python Program to Multiply Two Matrices?\n",
    "3.\tWrite a Python Program to Transpose a Matrix?\n",
    "4.\tWrite a Python Program to Sort Words in Alphabetic Order?\n",
    "5.\tWrite a Python Program to Remove Punctuation From a String?\n"
   ]
  },
  {
   "cell_type": "code",
   "execution_count": 13,
   "id": "e5a7b8d5",
   "metadata": {},
   "outputs": [
    {
     "name": "stdout",
     "output_type": "stream",
     "text": [
      "Enter the number of rows:2\n",
      "Enter the number of columns:3\n",
      "Enter the entries rowwise:\n",
      "1\n",
      "2\n",
      "3\n",
      "4\n",
      "5\n",
      "6\n",
      "1 2 3 \n",
      "4 5 6 \n",
      "Enter the number of rows:2\n",
      "Enter the number of columns:3\n",
      "Enter the entries rowwise:\n",
      "9\n",
      "8\n",
      "7\n",
      "6\n",
      "5\n",
      "4\n",
      "9 8 7 \n",
      "6 5 4 \n",
      "Enter the number of rows:2\n",
      "Enter the number of columns:3\n",
      "Enter the entries rowwise:\n",
      "0\n",
      "0\n",
      "0\n",
      "0\n",
      "0\n",
      "0\n",
      "0 0 0 \n",
      "0 0 0 \n",
      "[10, 10, 10]\n",
      "[10, 10, 10]\n"
     ]
    }
   ],
   "source": [
    "#1\n",
    "\n",
    "\n",
    "\n",
    "R = int(input(\"Enter the number of rows:\"))\n",
    "C = int(input(\"Enter the number of columns:\"))\n",
    "\n",
    "    \n",
    "matrix = []\n",
    "print(\"Enter the entries rowwise:\")\n",
    "\n",
    "      \n",
    "for i in range(R):        \n",
    "    a =[]\n",
    "    for j in range(C):     \n",
    "        a.append(int(input()))\n",
    "    matrix.append(a)\n",
    "\n",
    "for i in range(R):\n",
    "    for j in range(C):\n",
    "        print(matrix[i][j], end = \" \")\n",
    "    print()\n",
    "    \n",
    "e = int(input(\"Enter the number of rows:\"))\n",
    "r = int(input(\"Enter the number of columns:\"))\n",
    "\n",
    "       \n",
    "matrix1 = []\n",
    "print(\"Enter the entries rowwise:\")\n",
    "\n",
    "      \n",
    "for i in range(e):         \n",
    "    b =[]\n",
    "    for j in range(r):    \n",
    "        b.append(int(input()))\n",
    "    matrix1.append(b)\n",
    "\n",
    "for i in range(e):\n",
    "    for j in range(r):\n",
    "        print(matrix1[i][j], end = \" \")\n",
    "    print()\n",
    "            \n",
    "u = int(input(\"Enter the number of rows:\"))\n",
    "d = int(input(\"Enter the number of columns:\"))\n",
    "\n",
    "     \n",
    "matrix2 = []\n",
    "print(\"Enter the entries rowwise:\")\n",
    "\n",
    "       \n",
    "for i in range(u):      \n",
    "    c =[]\n",
    "    for j in range(d):     \n",
    "        c.append(int(input()))\n",
    "    matrix2.append(c)\n",
    "\n",
    "for i in range(u):\n",
    "    for j in range(d):\n",
    "        print(matrix2[i][j], end = \" \")\n",
    "    print()\n",
    "            \n",
    "            \n",
    "def fun1(a,b,y):\n",
    "    for i in range(len(a)):  \n",
    "\n",
    "        for j in range(len(a[0])):\n",
    "            y[i][j] = a[i][j] + b[i][j]\n",
    " \n",
    "    for r in y:\n",
    "        print(r)\n",
    "fun1(matrix,matrix1,matrix2)"
   ]
  },
  {
   "cell_type": "code",
   "execution_count": 18,
   "id": "57fbae42",
   "metadata": {},
   "outputs": [
    {
     "name": "stdout",
     "output_type": "stream",
     "text": [
      "miltiplication of your matricies is: [94, 82, 70]\n",
      "miltiplication of your matricies is: [274, 238, 202]\n"
     ]
    }
   ],
   "source": [
    "#2\n",
    "\n",
    "\n",
    "def fun2(a,b,y):\n",
    "    for i in range(len(a)):\n",
    "\n",
    "\n",
    "        for j in range(len(b[0])):\n",
    "\n",
    "  \n",
    "            for k in range(len(b)):\n",
    "                y[i][j] += a[i][k] * b[k][j]\n",
    "\n",
    "    for r in y:\n",
    "        print(\"miltiplication of your matricies is: {}\".format(r))\n",
    "        \n",
    "fun2(matrix,matrix1,matrix2)"
   ]
  },
  {
   "cell_type": "code",
   "execution_count": 20,
   "id": "6e439ec3",
   "metadata": {},
   "outputs": [
    {
     "name": "stdout",
     "output_type": "stream",
     "text": [
      "Enter the number of rows:3\n",
      "Enter the number of columns:2\n",
      "Enter the entries rowwise:\n",
      "0\n",
      "0\n",
      "0\n",
      "0\n",
      "0\n",
      "0\n",
      "0 0 \n",
      "0 0 \n",
      "0 0 \n",
      "[1, 4]\n",
      "[2, 5]\n",
      "[3, 6]\n"
     ]
    }
   ],
   "source": [
    "#3\n",
    "\n",
    "u = int(input(\"Enter the number of rows:\"))\n",
    "d = int(input(\"Enter the number of columns:\"))\n",
    "\n",
    "     \n",
    "matrix3 = []\n",
    "print(\"Enter the entries rowwise:\")\n",
    "\n",
    "       \n",
    "for i in range(u):      \n",
    "    z =[]\n",
    "    for j in range(d):     \n",
    "        z.append(int(input()))\n",
    "    matrix3.append(z)\n",
    "\n",
    "for i in range(u):\n",
    "    for j in range(d):\n",
    "        print(matrix3[i][j], end = \" \")\n",
    "    print()\n",
    "\n",
    "def fun3(a,y):\n",
    "    for i in range(len(a)):\n",
    "       # iterate through columns\n",
    "        for j in range(len(a[0])):\n",
    "            y[j][i] = a[i][j]\n",
    "\n",
    "    for r in y:\n",
    "        print(r)\n",
    "        \n",
    "fun3(matrix,matrix3)"
   ]
  },
  {
   "cell_type": "code",
   "execution_count": 23,
   "id": "949adbbe",
   "metadata": {},
   "outputs": [
    {
     "name": "stdout",
     "output_type": "stream",
     "text": [
      "enter the number of values to be in a list: 6\n",
      "enter the words of list: qwerty\n",
      "enter the words of list: piuy\n",
      "enter the words of list: lkjhg\n",
      "enter the words of list: asdfg\n",
      "enter the words of list: mnbv\n",
      "enter the words of list: zxcv\n",
      "list before re-arranging: ['qwerty', 'piuy', 'lkjhg', 'asdfg', 'mnbv', 'zxcv']\n",
      "list after re-arranging: ['asdfg', 'lkjhg', 'mnbv', 'piuy', 'qwerty', 'zxcv']\n"
     ]
    }
   ],
   "source": [
    "#4\n",
    "\n",
    "m=int(input(\"enter the number of values to be in a list: \"))\n",
    "l=[]\n",
    "for j in range(m):\n",
    "    k=str(input(\"enter the words of list: \"))\n",
    "    l.append(k)\n",
    "    \n",
    "def fun4(l):\n",
    "    c=sorted(l)\n",
    "    print(\"list before re-arranging: {}\".format(l))\n",
    "    print(\"list after re-arranging: {}\".format(c))\n",
    "    \n",
    "fun4(l)"
   ]
  },
  {
   "cell_type": "code",
   "execution_count": 26,
   "id": "9ff46b8a",
   "metadata": {},
   "outputs": [
    {
     "name": "stdout",
     "output_type": "stream",
     "text": [
      "enter a punctuated sentence to remve its punctuations: hriojg@# rgoihrg#$%^ rfhgr^&*drfurg :\"{} ewruygrf%^\n",
      "your un punctuated sentence is: hriojg rgoihrg rfhgrdrfurg  ewruygrf\n"
     ]
    }
   ],
   "source": [
    "#5\n",
    "\n",
    "def fun5(a):\n",
    " \n",
    "\n",
    "    punctuations = '''!()-[]{};:'\"\\,<>./?@#$%^&*_~'''\n",
    " \n",
    "    for x in a.lower():\n",
    "        if x in punctuations:\n",
    "            a = a.replace(x, \"\")\n",
    "\n",
    "    print(\"your un punctuated sentence is: {}\".format(a))\n",
    "\n",
    "d =str(input(\"enter a punctuated sentence to remve its punctuations: \"))\n",
    "fun5(d)"
   ]
  },
  {
   "cell_type": "code",
   "execution_count": null,
   "id": "d208510a",
   "metadata": {},
   "outputs": [],
   "source": []
  }
 ],
 "metadata": {
  "kernelspec": {
   "display_name": "Python 3",
   "language": "python",
   "name": "python3"
  },
  "language_info": {
   "codemirror_mode": {
    "name": "ipython",
    "version": 3
   },
   "file_extension": ".py",
   "mimetype": "text/x-python",
   "name": "python",
   "nbconvert_exporter": "python",
   "pygments_lexer": "ipython3",
   "version": "3.8.8"
  }
 },
 "nbformat": 4,
 "nbformat_minor": 5
}
