{
 "cells": [
  {
   "cell_type": "markdown",
   "id": "f77ce9d2",
   "metadata": {},
   "source": [
    "1.\tWrite a Python program to find sum of elements in list?\n",
    "2.\tWrite a Python program to  Multiply all numbers in the list?\n",
    "3.\tWrite a Python program to find smallest number in a list?\n",
    "4.\tWrite a Python program to find largest number in a list?\n",
    "5.\tWrite a Python program to find second largest number in a list?\n",
    "6.\tWrite a Python program to find N largest elements from a list?\n",
    "7.\tWrite a Python program to print even numbers in a list?\n",
    "8.\tWrite a Python program to print odd numbers in a List?\n",
    "9.\tWrite a Python program to Remove empty List from List?\n",
    "10.\tWrite a Python program to Cloning or Copying a list?\n",
    "11.\tWrite a Python program to Count occurrences of an element in a list?\n"
   ]
  },
  {
   "cell_type": "code",
   "execution_count": 28,
   "id": "e875867e",
   "metadata": {},
   "outputs": [
    {
     "name": "stdout",
     "output_type": "stream",
     "text": [
      "enter the number of values to be in a list: 7\n",
      "enter the values of list: 234\n",
      "enter the values of list: 6543\n",
      "enter the values of list: 76543\n",
      "enter the values of list: 2345\n",
      "enter the values of list: 34\n",
      "enter the values of list: 56\n",
      "enter the values of list: 23\n",
      "sum of elements in the given list is: 85778\n"
     ]
    }
   ],
   "source": [
    "#1\n",
    "\n",
    "m=int(input(\"enter the number of values to be in a list: \"))\n",
    "l=[]\n",
    "for j in range(m):\n",
    "    k=int(input(\"enter the values of list: \"))\n",
    "    l.append(k)\n",
    "    \n",
    "def fun1(k):\n",
    "    print(\"sum of elements in the given list is: {}\".format(sum(k)))\n",
    "    \n",
    "fun1(l)"
   ]
  },
  {
   "cell_type": "code",
   "execution_count": 2,
   "id": "ce79f421",
   "metadata": {},
   "outputs": [
    {
     "data": {
      "text/plain": [
       "236073806771396256"
      ]
     },
     "execution_count": 2,
     "metadata": {},
     "output_type": "execute_result"
    }
   ],
   "source": [
    "#2\n",
    "\n",
    "def fun2(g):\n",
    "    re=1\n",
    "    \n",
    "    for i in g:\n",
    "        re=re*i\n",
    "    return re\n",
    "fun2(l)"
   ]
  },
  {
   "cell_type": "code",
   "execution_count": 3,
   "id": "084c35cc",
   "metadata": {},
   "outputs": [
    {
     "name": "stdout",
     "output_type": "stream",
     "text": [
      "smallest number in the given list is: 54\n"
     ]
    }
   ],
   "source": [
    "#3\n",
    "\n",
    "def fun3(g):\n",
    "    print(\"smallest number in the given list is: {}\".format(min(g)))\n",
    "    \n",
    "fun3(l)"
   ]
  },
  {
   "cell_type": "code",
   "execution_count": 4,
   "id": "42811cc4",
   "metadata": {},
   "outputs": [
    {
     "name": "stdout",
     "output_type": "stream",
     "text": [
      "largest number in the given list is: 654\n"
     ]
    }
   ],
   "source": [
    "#4\n",
    "\n",
    "def fun4(g):\n",
    "    print(\"largest number in the given list is: {}\".format(max(g)))\n",
    "    \n",
    "fun4(l)"
   ]
  },
  {
   "cell_type": "code",
   "execution_count": 8,
   "id": "447faf01",
   "metadata": {},
   "outputs": [
    {
     "name": "stdout",
     "output_type": "stream",
     "text": [
      "second largest number in the given list is: 8654\n"
     ]
    }
   ],
   "source": [
    "#5\n",
    "\n",
    "def fun5(g):\n",
    "    g.sort()\n",
    "    print(\"second largest number in the given list is: {}\".format(g[-2]))\n",
    "    \n",
    "fun5(l)"
   ]
  },
  {
   "cell_type": "code",
   "execution_count": 15,
   "id": "556903da",
   "metadata": {},
   "outputs": [
    {
     "name": "stdout",
     "output_type": "stream",
     "text": [
      "enter how many largest elements you want to know: 3\n",
      "last 3 largest number in the given list are: [543, 8654, 87654]\n"
     ]
    }
   ],
   "source": [
    "#6\n",
    "\n",
    "def fun6(g):\n",
    "    j=int(input(\"enter how many largest elements you want to know: \"))\n",
    "    g.sort()\n",
    "    print(\"last {} largest number in the given list are: {}\".format(j,g[-j:]))\n",
    "\n",
    "fun6(l)"
   ]
  },
  {
   "cell_type": "code",
   "execution_count": 16,
   "id": "987aad76",
   "metadata": {},
   "outputs": [
    {
     "name": "stdout",
     "output_type": "stream",
     "text": [
      "56\n",
      "8654\n",
      "87654\n"
     ]
    }
   ],
   "source": [
    "#7\n",
    "\n",
    "def fun7(g):\n",
    "    for i in g:\n",
    "        if i%2==0:\n",
    "            print(i)\n",
    "fun7(l)"
   ]
  },
  {
   "cell_type": "code",
   "execution_count": 17,
   "id": "a8f51be7",
   "metadata": {},
   "outputs": [
    {
     "name": "stdout",
     "output_type": "stream",
     "text": [
      "23\n",
      "89\n",
      "345\n",
      "543\n"
     ]
    }
   ],
   "source": [
    "#8\n",
    "\n",
    "def fun8(g):\n",
    "    for i in g:\n",
    "        if i%2!=0:\n",
    "            print(i)\n",
    "fun8(l)"
   ]
  },
  {
   "cell_type": "code",
   "execution_count": 30,
   "id": "9dbc861d",
   "metadata": {},
   "outputs": [
    {
     "name": "stdout",
     "output_type": "stream",
     "text": [
      "The original list is : [5, 6, [], 3, [], [], 9]\n",
      "List after empty list removal : [5, 6, 3, 9]\n"
     ]
    }
   ],
   "source": [
    "#9\n",
    "\n",
    "test_list = [5, 6, [], 3, [], [], 9]\n",
    "  \n",
    "\n",
    "print(\"The original list is : \" + str(test_list))\n",
    "  \n",
    "\n",
    "res = list(filter(None, test_list))\n",
    "  \n",
    "\n",
    "print (\"List after empty list removal : \" + str(res))"
   ]
  },
  {
   "cell_type": "code",
   "execution_count": 32,
   "id": "c7649b71",
   "metadata": {},
   "outputs": [
    {
     "name": "stdout",
     "output_type": "stream",
     "text": [
      "[4, 8, 2, 10, 15, 18]\n",
      "[4, 8, 2, 10, 15, 18]\n"
     ]
    }
   ],
   "source": [
    "#10\n",
    "\n",
    "def Cloning(li1):\n",
    "    li_copy = []\n",
    "    li_copy.extend(li1)\n",
    "    return li_copy\n",
    "  \n",
    "\n",
    "l1 = [4, 8, 2, 10, 15, 18]\n",
    "l2 = Cloning(l1)\n",
    "print(l1)\n",
    "print(l2)"
   ]
  },
  {
   "cell_type": "code",
   "execution_count": 33,
   "id": "05f2c302",
   "metadata": {},
   "outputs": [
    {
     "name": "stdout",
     "output_type": "stream",
     "text": [
      "the occurance of 234 in the given list is: 1\n",
      "the occurance of 6543 in the given list is: 1\n",
      "the occurance of 76543 in the given list is: 1\n",
      "the occurance of 2345 in the given list is: 1\n",
      "the occurance of 34 in the given list is: 1\n",
      "the occurance of 56 in the given list is: 1\n",
      "the occurance of 23 in the given list is: 1\n"
     ]
    }
   ],
   "source": [
    "#11\n",
    "\n",
    "def fun11(g):\n",
    "    for i in g:\n",
    "        print(\"the occurance of {} in the given list is: {}\".format(i,l.count(i)))\n",
    "        \n",
    "\n",
    "fun11(l)"
   ]
  },
  {
   "cell_type": "code",
   "execution_count": null,
   "id": "81308436",
   "metadata": {},
   "outputs": [],
   "source": []
  }
 ],
 "metadata": {
  "kernelspec": {
   "display_name": "Python 3",
   "language": "python",
   "name": "python3"
  },
  "language_info": {
   "codemirror_mode": {
    "name": "ipython",
    "version": 3
   },
   "file_extension": ".py",
   "mimetype": "text/x-python",
   "name": "python",
   "nbconvert_exporter": "python",
   "pygments_lexer": "ipython3",
   "version": "3.8.8"
  }
 },
 "nbformat": 4,
 "nbformat_minor": 5
}
