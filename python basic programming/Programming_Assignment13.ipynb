{
 "cells": [
  {
   "cell_type": "markdown",
   "id": "000082d8",
   "metadata": {},
   "source": [
    "Question 1:\n",
    "\n",
    "Write a program that calculates and prints the value according to the given formula:\n",
    "\n",
    "Q = Square root of [(2 * C * D)/H]\n",
    "\n",
    "Following are the fixed values of C and H:\n",
    "\n",
    "C is 50. H is 30.\n",
    "\n",
    "D is the variable whose values should be input to your program in a comma-separated sequence.\n",
    "\n",
    "Example\n",
    "\n",
    "Let us assume the following comma separated input sequence is given to the program:\n",
    "\n",
    "100,150,180\n",
    "\n",
    "The output of the program should be:\n",
    "\n",
    "18,22,24\n",
    "\n",
    "Question 2:\n",
    "Write a program which takes 2 digits, X,Y as input and generates a 2-dimensional array. The element value in the i-th row and j-th column of the array should be i*j.\n",
    "\n",
    "Note: i=0,1.., X-1; j=0,1,¡¬Y-1.\n",
    "\n",
    "Example\n",
    "\n",
    "Suppose the following inputs are given to the program:\n",
    "\n",
    "3,5\n",
    "\n",
    "Then, the output of the program should be:\n",
    "\n",
    "[[0, 0, 0, 0, 0], [0, 1, 2, 3, 4], [0, 2, 4, 6, 8]] \n",
    "\n",
    "\n",
    "Question 3:\n",
    "Write a program that accepts a comma separated sequence of words as input and prints the words in a comma-separated sequence after sorting them alphabetically.\n",
    "\n",
    "Suppose the following input is supplied to the program:\n",
    "\n",
    "without,hello,bag,world\n",
    "\n",
    "Then, the output should be:\n",
    "\n",
    "bag,hello,without,world\n",
    "\n",
    "\n",
    "\n",
    "Question 4:\n",
    "Write a program that accepts a sequence of whitespace separated words as input and prints the words after removing all duplicate words and sorting them alphanumerically.\n",
    "\n",
    "Suppose the following input is supplied to the program:\n",
    "\n",
    "hello world and practice makes perfect and hello world again\n",
    "\n",
    "Then, the output should be:\n",
    "\n",
    "again and hello makes perfect practice world\n",
    "\n",
    "Question 5:\n",
    "Write a program that accepts a sentence and calculate the number of letters and digits.\n",
    "\n",
    "Suppose the following input is supplied to the program:\n",
    "\n",
    "hello world! 123\n",
    "\n",
    "Then, the output should be:\n",
    "\n",
    "LETTERS 10\n",
    "\n",
    "DIGITS 3\n",
    "\n",
    "Question 6:\n",
    "A website requires the users to input username and password to register. Write a program to check the validity of password input by users.\n",
    "\n",
    "Following are the criteria for checking the password:\n",
    "\n",
    "1. At least 1 letter between [a-z]\n",
    "\n",
    "2. At least 1 number between [0-9]\n",
    "\n",
    "1. At least 1 letter between [A-Z]\n",
    "\n",
    "3. At least 1 character from [$#@]\n",
    "\n",
    "4. Minimum length of transaction password: 6\n",
    "\n",
    "5. Maximum length of transaction password: 12\n",
    "\n",
    "Your program should accept a sequence of comma separated passwords and will check them according to the above criteria. Passwords that match the criteria are to be printed, each separated by a comma.\n",
    "\n",
    "Example\n",
    "\n",
    "If the following passwords are given as input to the program:\n",
    "\n",
    "ABd1234@1,a F1#,2w3E*,2We3345\n",
    "\n",
    "Then, the output of the program should be:\n",
    "\n",
    "ABd1234@1\n"
   ]
  },
  {
   "cell_type": "code",
   "execution_count": 2,
   "id": "fa91978e",
   "metadata": {},
   "outputs": [
    {
     "name": "stdout",
     "output_type": "stream",
     "text": [
      "18.257418583505537\n",
      "22.360679774997898\n",
      "24.49489742783178\n"
     ]
    }
   ],
   "source": [
    "#1\n",
    "\n",
    "import math\n",
    "\n",
    "C=50\n",
    "H=30\n",
    "D=[100,150,180]\n",
    "\n",
    "for i in D:\n",
    "    r=2*C*i\n",
    "    g=r/H\n",
    "    Q=math.sqrt(g)\n",
    "    print(Q)"
   ]
  },
  {
   "cell_type": "code",
   "execution_count": 4,
   "id": "6b12e6ae",
   "metadata": {},
   "outputs": [
    {
     "name": "stdout",
     "output_type": "stream",
     "text": [
      "Enter the number of rows:3\n",
      "Enter the number of columns:5\n",
      "Enter the entries rowwise:\n",
      "0\n",
      "0\n",
      "0\n",
      "0\n",
      "0\n",
      "0\n",
      "1\n",
      "2\n",
      "3\n",
      "4\n",
      "0\n",
      "2\n",
      "4\n",
      "6\n",
      "8\n",
      "0 0 0 0 0 \n",
      "0 1 2 3 4 \n",
      "0 2 4 6 8 \n"
     ]
    }
   ],
   "source": [
    "#2\n",
    "\n",
    "R = int(input(\"Enter the number of rows:\"))\n",
    "C = int(input(\"Enter the number of columns:\"))\n",
    "  \n",
    "\n",
    "matrix = []\n",
    "print(\"Enter the entries rowwise:\")\n",
    "  \n",
    "\n",
    "for i in range(R): \n",
    "    a =[]\n",
    "    for j in range(C): \n",
    "         a.append(int(input()))\n",
    "    matrix.append(a)\n",
    "\n",
    "for i in range(R):\n",
    "    for j in range(C):\n",
    "        print(matrix[i][j], end = \" \")\n",
    "    print()"
   ]
  },
  {
   "cell_type": "code",
   "execution_count": 7,
   "id": "43aa9976",
   "metadata": {},
   "outputs": [
    {
     "name": "stdout",
     "output_type": "stream",
     "text": [
      "enter a coma seperated sentence or words: hi,there,how,are,you\n",
      "are,hi,how,there,you\n"
     ]
    }
   ],
   "source": [
    "#3\n",
    "\n",
    "\n",
    "s = input(\"enter a coma seperated sentence or words: \")  \n",
    "e = [i for i in s.split(\",\")]  \n",
    "print(\",\".join(sorted(list(set(e)))))  "
   ]
  },
  {
   "cell_type": "code",
   "execution_count": 8,
   "id": "069b7560",
   "metadata": {},
   "outputs": [
    {
     "name": "stdout",
     "output_type": "stream",
     "text": [
      "enter a coma seperated sentence or words: hello world and practice makes perfect and hello world again\n",
      "again and hello makes perfect practice world\n"
     ]
    }
   ],
   "source": [
    "#4\n",
    "\n",
    "s = input(\"enter a coma seperated sentence or words: \")  \n",
    "e = [i for i in s.split(\" \")]  \n",
    "print(\" \".join(sorted(list(set(e)))))  "
   ]
  },
  {
   "cell_type": "code",
   "execution_count": 10,
   "id": "0ac2a637",
   "metadata": {},
   "outputs": [
    {
     "name": "stdout",
     "output_type": "stream",
     "text": [
      "enter a alphanumeric sentence to find the count of alphabets and numbers: hello world! 123\n",
      "number of digits are: 3\n",
      "number of letters are: 10\n"
     ]
    }
   ],
   "source": [
    "#5\n",
    "\n",
    "s=input(\"enter a alphanumeric sentence to find the count of alphabets and numbers: \")\n",
    "\n",
    "def fun5(d):\n",
    "    r=y=0\n",
    "    for i in d:\n",
    "        if i.isdigit():\n",
    "            r+=1\n",
    "        elif i.isalpha():\n",
    "            y+=1\n",
    "        else:\n",
    "            pass\n",
    "    print(\"number of digits are: \"+str(r)+\"\\nnumber of letters are: \"+str(y))\n",
    "\n",
    "fun5(s)"
   ]
  },
  {
   "cell_type": "code",
   "execution_count": 13,
   "id": "46ba787e",
   "metadata": {},
   "outputs": [
    {
     "name": "stdout",
     "output_type": "stream",
     "text": [
      "Type in: ABd1234@1,a F1#,2w3E*,2We3345\n",
      "ABd1234@1\n"
     ]
    }
   ],
   "source": [
    "#6\n",
    "\n",
    "import re\n",
    "\n",
    "passwords = input(\"Type in: \")\n",
    "\n",
    "def fun6(passwords):\n",
    "    passwords = passwords.split(\",\")\n",
    "\n",
    "    accepted_pass = []\n",
    "    for i in passwords:\n",
    "\n",
    "        if len(i) < 6 or len(i) > 12:\n",
    "            continue\n",
    "\n",
    "        elif not re.search(\"([a-z])+\", i):\n",
    "            continue\n",
    "\n",
    "        elif not re.search(\"([A-Z])+\", i):\n",
    "            continue\n",
    "\n",
    "        elif not re.search(\"([0-9])+\", i):\n",
    "            continue\n",
    "\n",
    "        elif not re.search(\"([!@$%^&])+\", i):\n",
    "            continue\n",
    "\n",
    "        else:\n",
    "            accepted_pass.append(i)\n",
    "    print((\" \").join(accepted_pass))\n",
    "    \n",
    "fun6(passwords)"
   ]
  },
  {
   "cell_type": "code",
   "execution_count": null,
   "id": "9e44fbcf",
   "metadata": {},
   "outputs": [],
   "source": []
  }
 ],
 "metadata": {
  "kernelspec": {
   "display_name": "Python 3",
   "language": "python",
   "name": "python3"
  },
  "language_info": {
   "codemirror_mode": {
    "name": "ipython",
    "version": 3
   },
   "file_extension": ".py",
   "mimetype": "text/x-python",
   "name": "python",
   "nbconvert_exporter": "python",
   "pygments_lexer": "ipython3",
   "version": "3.8.8"
  }
 },
 "nbformat": 4,
 "nbformat_minor": 5
}
