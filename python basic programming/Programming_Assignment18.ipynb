{
 "cells": [
  {
   "cell_type": "markdown",
   "id": "338d9a71",
   "metadata": {},
   "source": [
    "Question 1\n",
    "Create a function that takes a list of non-negative integers and strings and return a new list without the strings.\n",
    "Examples\n",
    "filter_list([1, 2, \"a\", \"b\"]) ➞ [1, 2]\n",
    "\n",
    "filter_list([1, \"a\", \"b\", 0, 15]) ➞ [1, 0, 15]\n",
    "\n",
    "filter_list([1, 2, \"aasf\", \"1\", \"123\", 123]) ➞ [1, 2, 123]\n",
    "\n",
    "Question 2\n",
    "The \"Reverser\" takes a string as input and returns that string in reverse order, with the opposite case.\n",
    "Examples\n",
    "reverse(\"Hello World\") ➞ \"DLROw OLLEh\"\n",
    "\n",
    "reverse(\"ReVeRsE\") ➞ \"eSrEvEr\"\n",
    "\n",
    "reverse(\"Radar\") ➞ \"RADAr\"\n",
    "\n",
    "Question 3\n",
    "You can assign variables from lists like this:\n",
    "lst = [1, 2, 3, 4, 5, 6]\n",
    "first = lst[0]\n",
    "middle = lst[1:-1]\n",
    "last = lst[-1]\n",
    "\n",
    "print(first) ➞ outputs 1\n",
    "print(middle) ➞ outputs [2, 3, 4, 5]\n",
    "print(last) ➞ outputs 6\n",
    "With Python 3, you can assign variables from lists in a much more succinct way. Create variables first, middle and last from the given list using destructuring assignment (check the Resources tab for some examples), where:\n",
    "first  ➞ 1\n",
    "\n",
    "middle ➞ [2, 3, 4, 5]\n",
    "\n",
    "last ➞ 6\n",
    "Your task is to unpack the list writeyourcodehere into three variables, being first, middle, and last, with middle being everything in between the first and last element. Then print all three variables.\n",
    "\n",
    "Question 4\n",
    "Write a function that calculates the factorial of a number recursively.\n",
    "Examples\n",
    "factorial(5) ➞ 120\n",
    "\n",
    "factorial(3) ➞ 6\n",
    "\n",
    "factorial(1) ➞ 1\n",
    "\n",
    "factorial(0) ➞ 1\n",
    "\n",
    "Question 5\n",
    "Write a function that moves all elements of one type to the end of the list.\n",
    "Examples\n",
    "move_to_end([1, 3, 2, 4, 4, 1], 1) ➞ [3, 2, 4, 4, 1, 1]\n",
    "# Move all the 1s to the end of the array.\n",
    "\n",
    "move_to_end([7, 8, 9, 1, 2, 3, 4], 9) ➞ [7, 8, 1, 2, 3, 4, 9]\n",
    "\n",
    "move_to_end([\"a\", \"a\", \"a\", \"b\"], \"a\") ➞ [\"b\", \"a\", \"a\", \"a\"]\n"
   ]
  },
  {
   "cell_type": "code",
   "execution_count": 7,
   "id": "55ff8b71",
   "metadata": {},
   "outputs": [
    {
     "name": "stdout",
     "output_type": "stream",
     "text": [
      "given list [1, 2, 'a', 'b'] output list ➞ [1, 2]\n",
      "given list [1, 'a', 'b', 0, 15] output list ➞ [1, 0, 15]\n",
      "given list [1, 2, 'aasf', '1', '123', 123] output list ➞ [1, 2, 123]\n"
     ]
    }
   ],
   "source": [
    "#1\n",
    "\n",
    "def fun1(w):\n",
    "    r=[]\n",
    "    for i in w:\n",
    "        if type(i)==int and i>=0:\n",
    "            r.append(i)\n",
    "    print(f\"given list {w} output list ➞ {r}\")\n",
    "    \n",
    "\n",
    "fun1([1, 2, \"a\", \"b\"])\n",
    "fun1([1, \"a\", \"b\", 0, 15])\n",
    "fun1([1, 2, \"aasf\", \"1\", \"123\", 123])"
   ]
  },
  {
   "cell_type": "code",
   "execution_count": 9,
   "id": "8203ceab",
   "metadata": {},
   "outputs": [
    {
     "name": "stdout",
     "output_type": "stream",
     "text": [
      "enter the number of inputs to be provide3\n",
      "enter the string: Hello World\n",
      "given string Hello World after reversing and case swapping ➞➞ DLROw OLLEh \n",
      "--------------------------------------------------------------------------------\n",
      "enter the string: ReVeRsE\n",
      "given string ReVeRsE after reversing and case swapping ➞➞ eSrEvEr \n",
      "--------------------------------------------------------------------------------\n",
      "enter the string: Radar\n",
      "given string Radar after reversing and case swapping ➞➞ RADAr \n",
      "--------------------------------------------------------------------------------\n"
     ]
    }
   ],
   "source": [
    "#2\n",
    "\n",
    "def fun2(w):\n",
    "    print(f\"given string {w} after reversing and case swapping ➞➞ {w[::-1].swapcase()} \")\n",
    "    \n",
    "t=int(input(\"enter the number of inputs to be provide\"))\n",
    "for i in range(t):\n",
    "    d=str(input(\"enter the string: \"))\n",
    "    fun2(d)\n",
    "    print(\"--\"*40)"
   ]
  },
  {
   "cell_type": "code",
   "execution_count": 10,
   "id": "c7b20cc4",
   "metadata": {},
   "outputs": [
    {
     "name": "stdout",
     "output_type": "stream",
     "text": [
      "first ➞➞ 1\n",
      "middle ➞➞ [2, 3, 4, 5]\n",
      "last ➞➞ 6\n"
     ]
    }
   ],
   "source": [
    "#3\n",
    "\n",
    "def fun3(w):\n",
    "    first,*middle,last=w\n",
    "    print(f\"first ➞➞ {first}\")\n",
    "    print(f\"middle ➞➞ {middle}\")\n",
    "    print(f\"last ➞➞ {last}\")\n",
    "fun3([1, 2, 3, 4, 5, 6])"
   ]
  },
  {
   "cell_type": "code",
   "execution_count": 11,
   "id": "61a96b9a",
   "metadata": {},
   "outputs": [
    {
     "name": "stdout",
     "output_type": "stream",
     "text": [
      "enter the number of inputs you provide: 4\n",
      "enter the factorial number: 5\n",
      "factorial(5) is ➞ 120\n",
      "----------------------------------------\n",
      "enter the factorial number: 3\n",
      "factorial(3) is ➞ 6\n",
      "----------------------------------------\n",
      "enter the factorial number: 1\n",
      "factorial(1) is ➞ 1\n",
      "----------------------------------------\n",
      "enter the factorial number: 0\n",
      "factorial(0) is ➞ 1\n",
      "----------------------------------------\n"
     ]
    }
   ],
   "source": [
    "#4\n",
    "\n",
    "def fun_factorial(n):\n",
    "    if n==0:\n",
    "        return 1\n",
    "    return n*fun_factorial(n-1)\n",
    "t=int(input(\"enter the number of inputs you provide: \"))\n",
    "for i in range(t):\n",
    "    d=int(input(\"enter the factorial number: \"))\n",
    "    print(f\"factorial({d}) is ➞ {fun_factorial(d)}\")\n",
    "    print(\"--\"*20)"
   ]
  },
  {
   "cell_type": "code",
   "execution_count": 17,
   "id": "eb6117e5",
   "metadata": {},
   "outputs": [
    {
     "name": "stdout",
     "output_type": "stream",
     "text": [
      "given inputs list [1, 3, 2, 4, 4, 1] and the element 1 the final output ➞➞ [3, 2, 4, 4, 1, 1]\n",
      "------------------------------------------------------------\n",
      "given inputs list [7, 8, 9, 1, 2, 3, 4] and the element 9 the final output ➞➞ [7, 8, 1, 2, 3, 4, 9]\n",
      "------------------------------------------------------------\n",
      "given inputs list ['a', 'a', 'a', 'b'] and the element a the final output ➞➞ ['b', 'a', 'a', 'a']\n",
      "------------------------------------------------------------\n"
     ]
    }
   ],
   "source": [
    "#5\n",
    "\n",
    "def move_to_end(w,e):\n",
    "    l1=[]\n",
    "    l2=[]\n",
    "    for i in w:\n",
    "        if i==e:\n",
    "            l2.append(i)\n",
    "        if i!=e:\n",
    "            l1.append(i)\n",
    "    l1.extend(l2)\n",
    "    print(f\"given inputs list {w} and the element {e} the final output ➞➞ {l1}\")\n",
    "    print(\"--\"*30)\n",
    "    \n",
    "move_to_end([1, 3, 2, 4, 4, 1], 1)\n",
    "move_to_end([7, 8, 9, 1, 2, 3, 4], 9)\n",
    "move_to_end([\"a\", \"a\", \"a\", \"b\"], \"a\")"
   ]
  },
  {
   "cell_type": "code",
   "execution_count": null,
   "id": "70c55c77",
   "metadata": {},
   "outputs": [],
   "source": []
  }
 ],
 "metadata": {
  "kernelspec": {
   "display_name": "Python 3",
   "language": "python",
   "name": "python3"
  },
  "language_info": {
   "codemirror_mode": {
    "name": "ipython",
    "version": 3
   },
   "file_extension": ".py",
   "mimetype": "text/x-python",
   "name": "python",
   "nbconvert_exporter": "python",
   "pygments_lexer": "ipython3",
   "version": "3.8.8"
  }
 },
 "nbformat": 4,
 "nbformat_minor": 5
}
