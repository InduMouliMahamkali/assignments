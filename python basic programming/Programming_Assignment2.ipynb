{
 "cells": [
  {
   "cell_type": "markdown",
   "id": "d94a0aa7",
   "metadata": {},
   "source": [
    "1.\tWrite a Python program to convert kilometers to miles?\n",
    "2.\tWrite a Python program to convert Celsius to Fahrenheit?\n",
    "3.\tWrite a Python program to display calendar?\n",
    "4.\tWrite a Python program to solve quadratic equation?\n",
    "5.\tWrite a Python program to swap two variables without temp variable?"
   ]
  },
  {
   "cell_type": "code",
   "execution_count": 1,
   "id": "0f09c9f9",
   "metadata": {},
   "outputs": [
    {
     "name": "stdout",
     "output_type": "stream",
     "text": [
      "enter the number of kilometers:55\n",
      "number of miles are:34.175405\n"
     ]
    }
   ],
   "source": [
    "#1\n",
    "\n",
    "w=int(input(\"enter the number of kilometers:\"))\n",
    "\n",
    "def fun1(a):\n",
    "    e=a*0.621371\n",
    "    print(\"number of miles are:\"+str(e))\n",
    "\n",
    "fun1(w)"
   ]
  },
  {
   "cell_type": "code",
   "execution_count": 5,
   "id": "a7f42b2e",
   "metadata": {},
   "outputs": [
    {
     "name": "stdout",
     "output_type": "stream",
     "text": [
      "enter the temperature in celsius:8\n",
      "the temperature in Fahrenheit is:46.4F\n"
     ]
    }
   ],
   "source": [
    "#2\n",
    "\n",
    "e=int(input(\"enter the temperature in celsius:\"))\n",
    "\n",
    "def fun2(t):\n",
    "    r=(t * 9/5) + 32\n",
    "    print(\"the temperature in Fahrenheit is:\"+str(r)+\"F\")\n",
    "    \n",
    "fun2(e)"
   ]
  },
  {
   "cell_type": "code",
   "execution_count": 11,
   "id": "bb37833f",
   "metadata": {},
   "outputs": [
    {
     "name": "stdout",
     "output_type": "stream",
     "text": [
      "enter the month as mm :3\n",
      "enter the year as yyyy :2011\n",
      "     March 2011\n",
      "Mo Tu We Th Fr Sa Su\n",
      "    1  2  3  4  5  6\n",
      " 7  8  9 10 11 12 13\n",
      "14 15 16 17 18 19 20\n",
      "21 22 23 24 25 26 27\n",
      "28 29 30 31\n",
      "\n"
     ]
    }
   ],
   "source": [
    "#3\n",
    "\n",
    "w=int(input(\"enter the month as mm :\"))\n",
    "r=int(input(\"enter the year as yyyy :\"))\n",
    "\n",
    "import calendar\n",
    "\n",
    "def fun3(d,f):\n",
    "    print(calendar.month(f,d))\n",
    "    \n",
    "fun3(w,r)"
   ]
  },
  {
   "cell_type": "code",
   "execution_count": 16,
   "id": "af8842b9",
   "metadata": {},
   "outputs": [
    {
     "name": "stdout",
     "output_type": "stream",
     "text": [
      "enter the value of a in equation:66\n",
      "enter the value of b in equation:1356\n",
      "enter the value of c in equation:8909\n",
      "Complex Roots\n",
      "-10.272727272727273  + i 716.4077051511939\n",
      "-10.272727272727273  - i 716.4077051511939\n"
     ]
    }
   ],
   "source": [
    "#4\n",
    "\n",
    "import math \n",
    "  \n",
    "def fun4( a, b, c): \n",
    "  \n",
    "    \n",
    "    dis = b * b - 4 * a * c \n",
    "    sqrt_val = math.sqrt(abs(dis)) \n",
    "      \n",
    "    \n",
    "    if dis > 0: \n",
    "        print(\" real and different roots \") \n",
    "        print((-b + sqrt_val)/(2 * a)) \n",
    "        print((-b - sqrt_val)/(2 * a)) \n",
    "      \n",
    "    elif dis == 0: \n",
    "        print(\" real and same roots\") \n",
    "        print(-b / (2 * a)) \n",
    "      \n",
    "    \n",
    "    else:\n",
    "        print(\"Complex Roots\") \n",
    "        print(- b / (2 * a), \" + i\", sqrt_val) \n",
    "        print(- b / (2 * a), \" - i\", sqrt_val) \n",
    "\n",
    "\n",
    "a = int(input(\"enter the value of a in equation:\"))\n",
    "b = int(input(\"enter the value of b in equation:\"))\n",
    "c = int(input(\"enter the value of c in equation:\"))\n",
    "  \n",
    "\n",
    "if a == 0: \n",
    "    print(\"Input correct quadratic equation\") \n",
    "else:\n",
    "    fun4(a, b, c)"
   ]
  },
  {
   "cell_type": "code",
   "execution_count": 15,
   "id": "07f49d15",
   "metadata": {},
   "outputs": [
    {
     "name": "stdout",
     "output_type": "stream",
     "text": [
      "enter the first number to be swap:67\n",
      "enter the second number to be swap:32\n",
      "first number before swap:67\n",
      "second number before swap:32\n",
      "first number after swap:32\n",
      "second number after swap:67\n"
     ]
    }
   ],
   "source": [
    "#5\n",
    "\n",
    "r=int(input(\"enter the first number to be swap:\"))\n",
    "t=int(input(\"enter the second number to be swap:\"))\n",
    "\n",
    "def fun5(q,w):\n",
    "    print(\"first number before swap:\"+str(q))\n",
    "    print(\"second number before swap:\"+str(w))\n",
    "    q,w=w,q\n",
    "    print(\"first number after swap:\"+str(q))\n",
    "    print(\"second number after swap:\"+str(w))\n",
    "    \n",
    "fun4(r,t)"
   ]
  },
  {
   "cell_type": "code",
   "execution_count": null,
   "id": "6abaefaa",
   "metadata": {},
   "outputs": [],
   "source": []
  }
 ],
 "metadata": {
  "kernelspec": {
   "display_name": "Python 3",
   "language": "python",
   "name": "python3"
  },
  "language_info": {
   "codemirror_mode": {
    "name": "ipython",
    "version": 3
   },
   "file_extension": ".py",
   "mimetype": "text/x-python",
   "name": "python",
   "nbconvert_exporter": "python",
   "pygments_lexer": "ipython3",
   "version": "3.8.8"
  }
 },
 "nbformat": 4,
 "nbformat_minor": 5
}
