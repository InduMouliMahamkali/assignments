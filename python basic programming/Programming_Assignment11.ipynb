{
 "cells": [
  {
   "cell_type": "markdown",
   "id": "2e9ac119",
   "metadata": {},
   "source": [
    "1.\tWrite a Python program to find words which are greater than given length k?\n",
    "2.\tWrite a Python program for removing i-th character from a string?\n",
    "3.\tWrite a Python program to split and join a string?\n",
    "4.\tWrite a Python to check if a given string is binary string or not?\n",
    "5.\tWrite a Python program to find uncommon words from two Strings?\n",
    "6.\tWrite a Python to find all duplicate characters in string?\n",
    "7.\tWrite a Python Program to check if a string contains any special character?\n"
   ]
  },
  {
   "cell_type": "code",
   "execution_count": 2,
   "id": "58357fac",
   "metadata": {},
   "outputs": [
    {
     "name": "stdout",
     "output_type": "stream",
     "text": [
      "enter any sentence: wertgh sdfg utyre cvbnytrd xscfvgbres drthb e rfty cdtyh efdv efdcvgbh edcvbjkt ertyhb zxcvb jhtjbve vbrdvb\n",
      "enter a number to know which word length are greater than given number: 4\n"
     ]
    },
    {
     "data": {
      "text/plain": [
       "['wertgh',\n",
       " 'utyre',\n",
       " 'cvbnytrd',\n",
       " 'xscfvgbres',\n",
       " 'drthb',\n",
       " 'cdtyh',\n",
       " 'efdcvgbh',\n",
       " 'edcvbjkt',\n",
       " 'ertyhb',\n",
       " 'zxcvb',\n",
       " 'jhtjbve',\n",
       " 'vbrdvb']"
      ]
     },
     "execution_count": 2,
     "metadata": {},
     "output_type": "execute_result"
    }
   ],
   "source": [
    "#1\n",
    "\n",
    "def fun1(g,s):\n",
    "    \n",
    "    f=[]\n",
    "    \n",
    "    j=s.split(\" \")\n",
    "    \n",
    "    for i in j:\n",
    "        if len(i)>g:\n",
    "            f.append(i)\n",
    "            \n",
    "    return f\n",
    "\n",
    "t=str(input(\"enter any sentence: \"))\n",
    "h=int(input(\"enter a number to know which word length are greater than given number: \"))\n",
    "\n",
    "fun1(h,t)"
   ]
  },
  {
   "cell_type": "code",
   "execution_count": 4,
   "id": "32e6fa62",
   "metadata": {},
   "outputs": [
    {
     "name": "stdout",
     "output_type": "stream",
     "text": [
      "enter a sentence to remove particular letter: wetyuikgvsd ertyruijnbvcewrtyu we56rutjnbvce456 45ye6ujgmnbvc3w4rt5 frvnbj65tr\n",
      "enter a value to remove that numbered letter from given string: 0\n"
     ]
    },
    {
     "data": {
      "text/plain": [
       "'etyuikgvsd ertyruijnbvcewrtyu we56rutjnbvce456 45ye6ujgmnbvc3w4rt5 frvnbj65tr'"
      ]
     },
     "execution_count": 4,
     "metadata": {},
     "output_type": "execute_result"
    }
   ],
   "source": [
    "#2\n",
    "\n",
    "s=str(input(\"enter a sentence to remove particular letter: \"))\n",
    "g=int(input(\"enter a value to remove that numbered letter from given string: \"))\n",
    "\n",
    "def fun2(w,e):\n",
    "    e=e.replace(e[w],\"\",1)\n",
    "    return e\n",
    "\n",
    "fun2(g,s)"
   ]
  },
  {
   "cell_type": "code",
   "execution_count": 9,
   "id": "ca6b9c73",
   "metadata": {},
   "outputs": [
    {
     "name": "stdout",
     "output_type": "stream",
     "text": [
      "enter a sentence: qwertyuijnbv xcvbkiuyt wscvhtr jkmnber scvytrefghjk wsgyuikmnbvde iuytedcvb543vbn 4erkmwyujnb\n",
      "['qwertyuijnbv', 'xcvbkiuyt', 'wscvhtr', 'jkmnber', 'scvytrefghjk', 'wsgyuikmnbvde', 'iuytedcvb543vbn', '4erkmwyujnb']\n",
      "q-w-e-r-t-y-u-i-j-n-b-v- -x-c-v-b-k-i-u-y-t- -w-s-c-v-h-t-r- -j-k-m-n-b-e-r- -s-c-v-y-t-r-e-f-g-h-j-k- -w-s-g-y-u-i-k-m-n-b-v-d-e- -i-u-y-t-e-d-c-v-b-5-4-3-v-b-n- -4-e-r-k-m-w-y-u-j-n-b\n"
     ]
    }
   ],
   "source": [
    "#3\n",
    "\n",
    "\n",
    "\n",
    "def fun3_split(w):\n",
    "    e=w.split(\" \")\n",
    "    return e\n",
    "\n",
    "def fun3_join(w):\n",
    "    r='-'.join(w)\n",
    "    return r\n",
    "\n",
    "if __name__==\"__main__\":\n",
    "    s=str(input(\"enter a sentence: \"))\n",
    "    print(fun3_split(s))\n",
    "    print(fun3_join(s))"
   ]
  },
  {
   "cell_type": "code",
   "execution_count": 11,
   "id": "a84fa881",
   "metadata": {},
   "outputs": [
    {
     "name": "stdout",
     "output_type": "stream",
     "text": [
      "enter a binary number: 01010101010101101010101010\n",
      "yes\n"
     ]
    }
   ],
   "source": [
    "#4\n",
    "\n",
    "\n",
    "s=str(input(\"enter a binary number: \"))\n",
    "\n",
    "def fun4(g):\n",
    "    y=set(g)\n",
    "    u={'0','1'}\n",
    "    \n",
    "    if u==y or y=={'0'} or y=={'1'}:\n",
    "        print(\"yes\")\n",
    "    else:\n",
    "        print(\"no\")\n",
    "        \n",
    "fun4(s)\n",
    "        "
   ]
  },
  {
   "cell_type": "code",
   "execution_count": 20,
   "id": "8559f0f8",
   "metadata": {},
   "outputs": [
    {
     "name": "stdout",
     "output_type": "stream",
     "text": [
      "enter a sentence or word: this is my first song\n",
      "enter a sentence or word: this is your second chance\n"
     ]
    },
    {
     "data": {
      "text/plain": [
       "{'chance', 'first', 'my', 'second', 'song', 'your'}"
      ]
     },
     "execution_count": 20,
     "metadata": {},
     "output_type": "execute_result"
    }
   ],
   "source": [
    "#5\n",
    "\n",
    "s=str(input(\"enter a sentence or word: \"))\n",
    "t=str(input(\"enter a sentence or word: \"))\n",
    "\n",
    "\n",
    "\n",
    "def fun5(a,b):\n",
    "    a=a.split()\n",
    "    b=b.split()\n",
    "    k=set(a).symmetric_difference(set(b))\n",
    "    return k\n",
    "\n",
    "\n",
    "fun5(s, t)\n",
    "\n"
   ]
  },
  {
   "cell_type": "code",
   "execution_count": 21,
   "id": "732a8789",
   "metadata": {},
   "outputs": [
    {
     "name": "stdout",
     "output_type": "stream",
     "text": [
      "enter a sentence or word to find duplicae letters: alliuytfvbnewrehfnvrthgfbkjngvfiurjnvsfmdfiojer\n"
     ]
    },
    {
     "data": {
      "text/plain": [
       "['l', 'i', 'u', 't', 'f', 'v', 'b', 'n', 'e', 'r', 'h', 'g', 'j']"
      ]
     },
     "execution_count": 21,
     "metadata": {},
     "output_type": "execute_result"
    }
   ],
   "source": [
    "#6\n",
    "\n",
    "s=str(input(\"enter a sentence or word to find duplicae letters: \"))\n",
    "\n",
    "def fun6(g):\n",
    "    l=[]\n",
    "    for i in g:\n",
    "        if g.count(i)>1:\n",
    "            if i not in l:\n",
    "                l.append(i)\n",
    "    return l\n",
    "\n",
    "fun6(s)"
   ]
  },
  {
   "cell_type": "code",
   "execution_count": 23,
   "id": "77664895",
   "metadata": {},
   "outputs": [
    {
     "name": "stdout",
     "output_type": "stream",
     "text": [
      "enter a sentence or word to find special characters: kjhygfdxcvh!@#$%^&mnbvcdrtyukmnb)(*&^%$#@\n"
     ]
    },
    {
     "data": {
      "text/plain": [
       "['!', '@', '#', '$', '%', '^', '&', ')', '(', '*']"
      ]
     },
     "execution_count": 23,
     "metadata": {},
     "output_type": "execute_result"
    }
   ],
   "source": [
    "#7\n",
    "\n",
    "s=str(input(\"enter a sentence or word to find special characters: \"))\n",
    "\n",
    "def fun7(g):\n",
    "    p = '''!()-[]{};:'\"\\,<>./?@#$%^&*_~'''\n",
    "    l=[]\n",
    "    for i in g:\n",
    "        for j in p:\n",
    "            if i==j:\n",
    "                if i not in l:\n",
    "                    l.append(i)\n",
    "    return l\n",
    "\n",
    "fun7(s)\n"
   ]
  },
  {
   "cell_type": "code",
   "execution_count": null,
   "id": "d16fdd94",
   "metadata": {},
   "outputs": [],
   "source": []
  }
 ],
 "metadata": {
  "kernelspec": {
   "display_name": "Python 3",
   "language": "python",
   "name": "python3"
  },
  "language_info": {
   "codemirror_mode": {
    "name": "ipython",
    "version": 3
   },
   "file_extension": ".py",
   "mimetype": "text/x-python",
   "name": "python",
   "nbconvert_exporter": "python",
   "pygments_lexer": "ipython3",
   "version": "3.8.8"
  }
 },
 "nbformat": 4,
 "nbformat_minor": 5
}
