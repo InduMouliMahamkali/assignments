{
 "cells": [
  {
   "cell_type": "markdown",
   "id": "9e6e4778",
   "metadata": {},
   "source": [
    "1.\tWrite a Python Program to Display Fibonacci Sequence Using Recursion?\n",
    "2.\tWrite a Python Program to Find Factorial of Number Using Recursion?\n",
    "3.\tWrite a Python Program to calculate your Body Mass Index?\n",
    "4.\tWrite a Python Program to calculate the natural logarithm of any number?\n",
    "5.\tWrite a Python Program for cube sum of first n natural numbers?"
   ]
  },
  {
   "cell_type": "code",
   "execution_count": 2,
   "id": "fd358d1d",
   "metadata": {},
   "outputs": [
    {
     "name": "stdout",
     "output_type": "stream",
     "text": [
      "enter a number to find its fibonacci series: 23\n",
      "How many terms? 10\n",
      "Fibonacci sequence:\n",
      "0\n",
      "1\n",
      "1\n",
      "2\n",
      "3\n",
      "5\n",
      "8\n",
      "13\n",
      "21\n",
      "34\n"
     ]
    },
    {
     "data": {
      "text/plain": [
       "28657"
      ]
     },
     "execution_count": 2,
     "metadata": {},
     "output_type": "execute_result"
    }
   ],
   "source": [
    "#1\n",
    "\n",
    "w=int(input(\"enter a number to find its fibonacci series: \"))\n",
    "\n",
    "def recur_fibo(n):  \n",
    "    if n <= 1:  \n",
    "        return n  \n",
    "    else:  \n",
    "        return(fun1(n-1) + fun1(n-2))  \n",
    "\n",
    "nterms = int(input(\"How many terms? \"))  \n",
    "\n",
    "if nterms <= 0:  \n",
    "    print(\"Plese enter a positive integer\")  \n",
    "else:\n",
    "    print(\"Fibonacci sequence:\")  \n",
    "    for i in range(nterms):  \n",
    "        print(fun1(i))  \n",
    "        \n",
    "fun1(w)"
   ]
  },
  {
   "cell_type": "code",
   "execution_count": 4,
   "id": "17ed11be",
   "metadata": {},
   "outputs": [
    {
     "name": "stdout",
     "output_type": "stream",
     "text": [
      "enter the number to find its factorial: 5\n",
      "Factorial :  120\n"
     ]
    }
   ],
   "source": [
    "#2\n",
    "\n",
    "\n",
    "def factorial(n): \n",
    "      \n",
    "    if (n==1 or n==0):\n",
    "          \n",
    "        return 1\n",
    "      \n",
    "    else:\n",
    "          \n",
    "        return (n * factorial(n - 1)) \n",
    "\n",
    "w= int(input(\"enter the number to find its factorial: \"))\n",
    "print(\"Factorial : \",factorial(w))"
   ]
  },
  {
   "cell_type": "code",
   "execution_count": 8,
   "id": "13a314b8",
   "metadata": {},
   "outputs": [
    {
     "name": "stdout",
     "output_type": "stream",
     "text": [
      "enter your height in meters: 5.0\n",
      "enter your weight in Kgs: 79\n",
      "The BMI is 2.794152190691379 so underweight\n"
     ]
    }
   ],
   "source": [
    "#3\n",
    "\n",
    "height = float(input(\"enter your height in meters: \"))\n",
    "weight = float(input(\"enter your weight in Kgs: \"))\n",
    "\n",
    "def fun3(height, weight):\n",
    "    fun3 = weight/(height**2)\n",
    "    return bmi\n",
    " \n",
    "bmi = fun3(height, weight)\n",
    "print(\"The BMI is\", format(bmi), \"so \", end='')\n",
    " \n",
    "\n",
    "if (bmi < 18.5):\n",
    "    print(\"underweight\")\n",
    "elif ( bmi >= 18.5 and bmi < 24.9):\n",
    "    print(\"Healthy\")\n",
    "elif ( bmi >= 24.9 and bmi < 30):\n",
    "    print(\"overweight\")\n",
    "elif ( bmi >=30):\n",
    "    print(\"Suffering from Obesity\")"
   ]
  },
  {
   "cell_type": "code",
   "execution_count": 10,
   "id": "db65c99b",
   "metadata": {},
   "outputs": [
    {
     "name": "stdout",
     "output_type": "stream",
     "text": [
      "enter the value of base: 23\n",
      "enter the value of n: 56789\n",
      "3.491346872326641\n"
     ]
    }
   ],
   "source": [
    "#4\n",
    "\n",
    "import math\n",
    "\n",
    "e=int(input(\"enter the value of base: \"))\n",
    "r=float(input(\"enter the value of n: \"))\n",
    "\n",
    "def fun4(t,y):\n",
    "    print(math.log(t,y))\n",
    "    \n",
    "fun4(r,e)"
   ]
  },
  {
   "cell_type": "code",
   "execution_count": 12,
   "id": "55f16d3f",
   "metadata": {},
   "outputs": [
    {
     "name": "stdout",
     "output_type": "stream",
     "text": [
      "enter the value to know its cube's sum: 4567\n",
      "108806345136784\n"
     ]
    }
   ],
   "source": [
    "#5\n",
    "\n",
    "w=int(input(\"enter the value to know its cube's sum: \"))\n",
    "def fun5(n):\n",
    "    sum = 0\n",
    "    for i in range(1, n+1):\n",
    "        sum +=i*i*i\n",
    "          \n",
    "    return sum\n",
    "  \n",
    "print(fun5(w))"
   ]
  },
  {
   "cell_type": "code",
   "execution_count": null,
   "id": "b32dba3d",
   "metadata": {},
   "outputs": [],
   "source": []
  }
 ],
 "metadata": {
  "kernelspec": {
   "display_name": "Python 3",
   "language": "python",
   "name": "python3"
  },
  "language_info": {
   "codemirror_mode": {
    "name": "ipython",
    "version": 3
   },
   "file_extension": ".py",
   "mimetype": "text/x-python",
   "name": "python",
   "nbconvert_exporter": "python",
   "pygments_lexer": "ipython3",
   "version": "3.8.8"
  }
 },
 "nbformat": 4,
 "nbformat_minor": 5
}
