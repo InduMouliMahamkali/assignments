{
 "cells": [
  {
   "cell_type": "markdown",
   "id": "a2d42980",
   "metadata": {},
   "source": [
    "1.\tWrite a Python Program to Find LCM?\n",
    "2.\tWrite a Python Program to Find HCF?\n",
    "3.\tWrite a Python Program to Convert Decimal to Binary, Octal and Hexadecimal?\n",
    "4.\tWrite a Python Program To Find ASCII value of a character?\n",
    "5.\tWrite a Python Program to Make a Simple Calculator with 4 basic mathematical operations?"
   ]
  },
  {
   "cell_type": "code",
   "execution_count": 6,
   "id": "3859aa61",
   "metadata": {},
   "outputs": [
    {
     "name": "stdout",
     "output_type": "stream",
     "text": [
      "enter the first value: 1234\n",
      "enter the second value: 5678\n"
     ]
    },
    {
     "data": {
      "text/plain": [
       "3503326"
      ]
     },
     "execution_count": 6,
     "metadata": {},
     "output_type": "execute_result"
    }
   ],
   "source": [
    "w=int(input(\"enter the first value: \"))\n",
    "t=int(input(\"enter the second value: \"))\n",
    "\n",
    "\n",
    "def fun1(x, y):\n",
    "    if x > y:\n",
    "        greater = x\n",
    "    else:\n",
    "        greater = y\n",
    "        \n",
    "    while(True):\n",
    "        if((greater % x == 0) and (greater % y == 0)):\n",
    "            lcm = greater\n",
    "            break\n",
    "        greater += 1\n",
    "\n",
    "    return lcm\n",
    "\n",
    "fun1(w,t)"
   ]
  },
  {
   "cell_type": "code",
   "execution_count": 10,
   "id": "3dc01965",
   "metadata": {},
   "outputs": [
    {
     "name": "stdout",
     "output_type": "stream",
     "text": [
      "enter the first value: 234\n",
      "enter the second value: 77642458\n"
     ]
    },
    {
     "data": {
      "text/plain": [
       "2"
      ]
     },
     "execution_count": 10,
     "metadata": {},
     "output_type": "execute_result"
    }
   ],
   "source": [
    "#2\n",
    "\n",
    "w=int(input(\"enter the first value: \"))\n",
    "t=int(input(\"enter the second value: \"))\n",
    "\n",
    "\n",
    "def fun2(x, y):\n",
    "\n",
    "\n",
    "    if x > y:\n",
    "        smaller = y\n",
    "    else:\n",
    "        smaller = x\n",
    "    for i in range(1, smaller+1):\n",
    "        if((x % i == 0) and (y % i == 0)):\n",
    "            hcf = i \n",
    "    return hcf\n",
    "\n",
    "fun2(w,t)"
   ]
  },
  {
   "cell_type": "code",
   "execution_count": 11,
   "id": "a25a76ca",
   "metadata": {},
   "outputs": [
    {
     "name": "stdout",
     "output_type": "stream",
     "text": [
      "enter the neber to find its decimal, octal and binary: 557\n",
      "The decimal value of 557 is:\n",
      "0b1000101101 in binary.\n",
      "0o1055 in octal.\n",
      "0x22d in hexadecimal.\n"
     ]
    }
   ],
   "source": [
    "#3\n",
    "\n",
    "w=int(input(\"enter the neber to find its decimal, octal and binary: \"))\n",
    "\n",
    "def fun3(e):\n",
    "    print(\"The decimal value of\", e, \"is:\")\n",
    "    print(bin(e), \"in binary.\")\n",
    "    print(oct(e), \"in octal.\")\n",
    "    print(hex(e), \"in hexadecimal.\")\n",
    "    \n",
    "fun3(w)"
   ]
  },
  {
   "cell_type": "code",
   "execution_count": 14,
   "id": "5519e52d",
   "metadata": {},
   "outputs": [
    {
     "name": "stdout",
     "output_type": "stream",
     "text": [
      "enter the alphabert to know its ASCII value: z\n",
      "The ASCII value of 'z' is 122\n"
     ]
    }
   ],
   "source": [
    "#4\n",
    "\n",
    "w=str(input(\"enter the alphabert to know its ASCII value: \"))\n",
    "\n",
    "def fun4(e):\n",
    "    print(\"The ASCII value of '\" + e + \"' is\", ord(e))\n",
    "    \n",
    "fun4(w)"
   ]
  },
  {
   "cell_type": "code",
   "execution_count": 16,
   "id": "c1bd7f59",
   "metadata": {},
   "outputs": [
    {
     "name": "stdout",
     "output_type": "stream",
     "text": [
      "enter the first number: 55\n",
      "enter the second number: 88\n",
      "addition of your numbers are: 143\n",
      "multiplication of your numbers are: 4840\n",
      "division of your numbers are: 0.625\n",
      "subtraction of your numbers are: -33\n"
     ]
    }
   ],
   "source": [
    "w=int(input(\"enter the first number: \"))\n",
    "t=int(input(\"enter the second number: \"))\n",
    "\n",
    "def fun5(e,r):\n",
    "    d=e+r\n",
    "    f=e*r\n",
    "    g=e/r\n",
    "    h=e-r\n",
    "    print(\"addition of your numbers are: \"+str(d))\n",
    "    print(\"multiplication of your numbers are: \"+str(f))\n",
    "    print(\"division of your numbers are: \"+str(g))\n",
    "    print(\"subtraction of your numbers are: \"+str(h))\n",
    "    \n",
    "fun5(w,t)"
   ]
  },
  {
   "cell_type": "code",
   "execution_count": null,
   "id": "37906d53",
   "metadata": {},
   "outputs": [],
   "source": []
  }
 ],
 "metadata": {
  "kernelspec": {
   "display_name": "Python 3",
   "language": "python",
   "name": "python3"
  },
  "language_info": {
   "codemirror_mode": {
    "name": "ipython",
    "version": 3
   },
   "file_extension": ".py",
   "mimetype": "text/x-python",
   "name": "python",
   "nbconvert_exporter": "python",
   "pygments_lexer": "ipython3",
   "version": "3.8.8"
  }
 },
 "nbformat": 4,
 "nbformat_minor": 5
}
