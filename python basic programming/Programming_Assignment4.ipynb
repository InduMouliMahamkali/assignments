{
 "cells": [
  {
   "cell_type": "markdown",
   "id": "4a2f8197",
   "metadata": {},
   "source": [
    "1.\tWrite a Python Program to Find the Factorial of a Number?\n",
    "2.\tWrite a Python Program to Display the multiplication Table?\n",
    "3.\tWrite a Python Program to Print the Fibonacci sequence?\n",
    "4.\tWrite a Python Program to Check Armstrong Number?\n",
    "5.\tWrite a Python Program to Find Armstrong Number in an Interval?\n",
    "6.\tWrite a Python Program to Find the Sum of Natural Numbers?\n"
   ]
  },
  {
   "cell_type": "code",
   "execution_count": 2,
   "id": "41e7af83",
   "metadata": {},
   "outputs": [
    {
     "name": "stdout",
     "output_type": "stream",
     "text": [
      "enter the value to find its factorial:5\n"
     ]
    },
    {
     "data": {
      "text/plain": [
       "120"
      ]
     },
     "execution_count": 2,
     "metadata": {},
     "output_type": "execute_result"
    }
   ],
   "source": [
    "#1\n",
    "\n",
    "w=int(input(\"enter the value to find its factorial:\"))\n",
    "\n",
    "def fun1(n):  \n",
    "    return 1 if (n==1 or n==0) else n * fun1(n - 1);\n",
    "\n",
    "fun1(w)  "
   ]
  },
  {
   "cell_type": "code",
   "execution_count": 4,
   "id": "c32660aa",
   "metadata": {},
   "outputs": [
    {
     "name": "stdout",
     "output_type": "stream",
     "text": [
      "enter the table to know its multiplication table: 6\n",
      "6\n",
      "12\n",
      "18\n",
      "24\n",
      "30\n",
      "36\n",
      "42\n",
      "48\n",
      "54\n",
      "60\n"
     ]
    }
   ],
   "source": [
    "#2\n",
    "\n",
    "w=int(input(\"enter the table to know its multiplication table: \"))\n",
    "\n",
    "def fun2(e):\n",
    "    for i in range(1,11):\n",
    "        print(e*i)\n",
    "        \n",
    "fun2(w)"
   ]
  },
  {
   "cell_type": "code",
   "execution_count": 5,
   "id": "6f47f0e6",
   "metadata": {},
   "outputs": [
    {
     "name": "stdout",
     "output_type": "stream",
     "text": [
      "enter the value to find its fibonacci series: 7\n",
      "0\n",
      "1\n",
      "1\n",
      "2\n",
      "3\n",
      "5\n",
      "8\n"
     ]
    }
   ],
   "source": [
    "#3\n",
    "\n",
    "w=int(input(\"enter the value to find its fibonacci series: \"))\n",
    "\n",
    "def fun3(n):\n",
    "    a = 0\n",
    "    b = 1\n",
    "    if n == 1:\n",
    "        print(a)\n",
    "    else:\n",
    "        print(a)\n",
    "        print(b)\n",
    "        for i in range(2,n):\n",
    "            c = a + b\n",
    "            a = b\n",
    "            b = c\n",
    "            print(c)\n",
    "fun3(w)"
   ]
  },
  {
   "cell_type": "code",
   "execution_count": 8,
   "id": "204e1f29",
   "metadata": {},
   "outputs": [
    {
     "name": "stdout",
     "output_type": "stream",
     "text": [
      "enter a number to know if its a amstrong number or not: 153\n",
      "153 is an Armstrong number\n"
     ]
    }
   ],
   "source": [
    "#4\n",
    "\n",
    "w=int(input(\"enter a number to know if its a amstrong number or not: \"))\n",
    "\n",
    "def fun4(r):\n",
    "    sumn = 0  \n",
    "    temp = r\n",
    "    \n",
    "    while temp > 0:\n",
    "        digit = temp % 10  \n",
    "        sumn += digit ** 3  \n",
    "        temp //= 10  \n",
    "\n",
    "    if r == sumn:\n",
    "        print(r,\"is an Armstrong number\")  \n",
    "    else:\n",
    "        print(r,\"is not an Armstrong number\")\n",
    "        \n",
    "fun4(w)"
   ]
  },
  {
   "cell_type": "code",
   "execution_count": 10,
   "id": "b42ec659",
   "metadata": {},
   "outputs": [
    {
     "name": "stdout",
     "output_type": "stream",
     "text": [
      "enter the starting value of the interval: 1\n",
      "enter the ending value of the interval: 500\n",
      "1\n",
      "2\n",
      "3\n",
      "4\n",
      "5\n",
      "6\n",
      "7\n",
      "8\n",
      "9\n",
      "153\n",
      "370\n",
      "371\n",
      "407\n"
     ]
    }
   ],
   "source": [
    "#5\n",
    "\n",
    "w=int(input(\"enter the starting value of the interval: \"))\n",
    "t=int(input(\"enter the ending value of the interval: \"))\n",
    "\n",
    "def fun5(e,y):\n",
    "    for i in range(e, y + 1):\n",
    "        order = len(str(i))\n",
    "        sumn = 0\n",
    "        temp = i\n",
    "        while temp > 0:\n",
    "            digit = temp % 10\n",
    "            sumn += digit ** order\n",
    "            temp //= 10\n",
    "        if i == sumn:\n",
    "            print(i)\n",
    "\n",
    "fun5(w,t)"
   ]
  },
  {
   "cell_type": "code",
   "execution_count": 12,
   "id": "961b0faa",
   "metadata": {},
   "outputs": [
    {
     "name": "stdout",
     "output_type": "stream",
     "text": [
      "enter a value to find its natural number sum: 16\n",
      "136.0\n"
     ]
    }
   ],
   "source": [
    "#6\n",
    "\n",
    "w=int(input(\"enter a value to find its natural number sum: \"))\n",
    "\n",
    "def fun6(n):\n",
    "    a=n*(n+1)/2\n",
    "    print(a)\n",
    "    \n",
    "fun6(w)"
   ]
  },
  {
   "cell_type": "code",
   "execution_count": null,
   "id": "a9c039eb",
   "metadata": {},
   "outputs": [],
   "source": []
  }
 ],
 "metadata": {
  "kernelspec": {
   "display_name": "Python 3",
   "language": "python",
   "name": "python3"
  },
  "language_info": {
   "codemirror_mode": {
    "name": "ipython",
    "version": 3
   },
   "file_extension": ".py",
   "mimetype": "text/x-python",
   "name": "python",
   "nbconvert_exporter": "python",
   "pygments_lexer": "ipython3",
   "version": "3.8.8"
  }
 },
 "nbformat": 4,
 "nbformat_minor": 5
}
