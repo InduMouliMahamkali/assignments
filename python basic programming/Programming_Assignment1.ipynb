{
 "cells": [
  {
   "cell_type": "markdown",
   "id": "42a8c783",
   "metadata": {},
   "source": [
    "1.\tWrite a Python program to print \"Hello Python\"?\n",
    "2.\tWrite a Python program to do arithmetical operations addition and division.?\n",
    "3.\tWrite a Python program to find the area of a triangle?\n",
    "4.\tWrite a Python program to swap two variables?\n",
    "5.\tWrite a Python program to generate a random number?"
   ]
  },
  {
   "cell_type": "code",
   "execution_count": 1,
   "id": "8a90d253",
   "metadata": {},
   "outputs": [
    {
     "name": "stdout",
     "output_type": "stream",
     "text": [
      "hello python\n",
      "hello python\n"
     ]
    }
   ],
   "source": [
    "#1\n",
    "\n",
    "def fun1(w):\n",
    "    print(w)\n",
    "    \n",
    "w=str(input())\n",
    "fun1(w)"
   ]
  },
  {
   "cell_type": "code",
   "execution_count": 5,
   "id": "deeb4a80",
   "metadata": {},
   "outputs": [
    {
     "name": "stdout",
     "output_type": "stream",
     "text": [
      "4\n",
      "5\n",
      "addition of given inputs is:9\n",
      "division of given input i0.8\n"
     ]
    }
   ],
   "source": [
    "#2\n",
    "\n",
    "e=int(input())\n",
    "f=int(input())\n",
    "\n",
    "def fun2(a,d):\n",
    "    w=a+d\n",
    "    r=a/d\n",
    "    print(\"addition of given inputs is:\"+ str(w))\n",
    "    print(\"division of given input i\"+ str(r))\n",
    "    \n",
    "fun2(e,f)"
   ]
  },
  {
   "cell_type": "code",
   "execution_count": 6,
   "id": "169e1d6d",
   "metadata": {},
   "outputs": [
    {
     "name": "stdout",
     "output_type": "stream",
     "text": [
      "enter the base of the triangle:5\n",
      "enter the height of the triangle:6\n",
      "area of the triangle is:15.0\n"
     ]
    }
   ],
   "source": [
    "#3\n",
    "\n",
    "d=int(input(\"enter the base of the triangle:\"))\n",
    "g=int(input(\"enter the height of the triangle:\"))\n",
    "\n",
    "def fun3(a,s):\n",
    "    t=0.5*a*s\n",
    "    print(\"area of the triangle is:\"+str(t))\n",
    "    \n",
    "fun3(d,g)"
   ]
  },
  {
   "cell_type": "code",
   "execution_count": 8,
   "id": "f47e3984",
   "metadata": {},
   "outputs": [
    {
     "name": "stdout",
     "output_type": "stream",
     "text": [
      "enter the first number to be swap:44\n",
      "enter the second number to be swap:55\n",
      "first number before swap:44\n",
      "second number before swap:55\n",
      "first number after swap:55\n",
      "second number after swap:44\n"
     ]
    }
   ],
   "source": [
    "#4\n",
    "\n",
    "r=int(input(\"enter the first number to be swap:\"))\n",
    "t=int(input(\"enter the second number to be swap:\"))\n",
    "\n",
    "def fun4(q,w):\n",
    "    print(\"first number before swap:\"+str(q))\n",
    "    print(\"second number before swap:\"+str(w))\n",
    "    q,w=w,q\n",
    "    print(\"first number after swap:\"+str(q))\n",
    "    print(\"second number after swap:\"+str(w))\n",
    "    \n",
    "fun4(r,t)"
   ]
  },
  {
   "cell_type": "code",
   "execution_count": 16,
   "id": "0ae8c84d",
   "metadata": {},
   "outputs": [
    {
     "name": "stdout",
     "output_type": "stream",
     "text": [
      "enter the starting number of range:3\n",
      "enter the ending number of range:66\n",
      "26\n"
     ]
    }
   ],
   "source": [
    "#5\n",
    "import numpy as np\n",
    "\n",
    "r=int(input(\"enter the starting number of range:\"))\n",
    "t=int(input(\"enter the ending number of range:\"))\n",
    "\n",
    "def fun5(w,e):\n",
    "    a=np.random.uniform(w,e)\n",
    "    print(int(a))\n",
    "    \n",
    "fun5(r,t)"
   ]
  },
  {
   "cell_type": "code",
   "execution_count": null,
   "id": "11887f69",
   "metadata": {},
   "outputs": [],
   "source": []
  }
 ],
 "metadata": {
  "kernelspec": {
   "display_name": "Python 3",
   "language": "python",
   "name": "python3"
  },
  "language_info": {
   "codemirror_mode": {
    "name": "ipython",
    "version": 3
   },
   "file_extension": ".py",
   "mimetype": "text/x-python",
   "name": "python",
   "nbconvert_exporter": "python",
   "pygments_lexer": "ipython3",
   "version": "3.8.8"
  }
 },
 "nbformat": 4,
 "nbformat_minor": 5
}
