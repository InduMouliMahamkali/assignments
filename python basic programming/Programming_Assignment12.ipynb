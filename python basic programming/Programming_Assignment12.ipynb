{
 "cells": [
  {
   "cell_type": "markdown",
   "id": "4c72aab4",
   "metadata": {},
   "source": [
    "1.\tWrite a Python program to Extract Unique values dictionary values?\n",
    "2.\tWrite a Python program to find the sum of all items in a dictionary?\n",
    "3.\tWrite a Python program to Merging two Dictionaries?\n",
    "4.\tWrite a Python program to convert key-values list to flat dictionary?\n",
    "5.\tWrite a Python program to insertion at the beginning in OrderedDict?\n",
    "6.\tWrite a Python program to check order of character in string using OrderedDict()?\n",
    "7.\tWrite a Python program to sort Python Dictionaries by Key or Value?\n"
   ]
  },
  {
   "cell_type": "code",
   "execution_count": 1,
   "id": "2c624b72",
   "metadata": {},
   "outputs": [
    {
     "name": "stdout",
     "output_type": "stream",
     "text": [
      "The original dictionary is : {'gfg': [5, 6, 7, 8], 'is': [10, 11, 7, 5], 'best': [6, 12, 10, 8], 'for': [1, 2, 5]}\n",
      "The unique values list is : [1, 2, 5, 6, 7, 8, 10, 11, 12]\n"
     ]
    }
   ],
   "source": [
    "#1\n",
    "\n",
    "\n",
    "dit = {'gfg' : [5, 6, 7, 8],\n",
    "            'is' : [10, 11, 7, 5],\n",
    "            'best' : [6, 12, 10, 8],\n",
    "            'for' : [1, 2, 5]}\n",
    "\n",
    "\n",
    "print(\"The original dictionary is : \" + str(dit))\n",
    "\n",
    "def fun1(dit):\n",
    "    \n",
    "    r = list(sorted({ele for val in dit.values() for ele in val}))\n",
    "\n",
    "\n",
    "    print(\"The unique values list is : \" + str(r))\n",
    "\n",
    "    \n",
    "fun1(dit)"
   ]
  },
  {
   "cell_type": "code",
   "execution_count": 2,
   "id": "0f8dea1e",
   "metadata": {},
   "outputs": [
    {
     "name": "stdout",
     "output_type": "stream",
     "text": [
      "Sum : 600\n"
     ]
    }
   ],
   "source": [
    "#2\n",
    "\n",
    "def fun2(m):\n",
    "     \n",
    "    list = []\n",
    "    for i in m:\n",
    "        list.append(m[i])\n",
    "    final = sum(list)\n",
    "     \n",
    "    return final\n",
    "\n",
    "dict = {'a': 100, 'b':200, 'c':300}\n",
    "print(\"Sum :\", fun2(dict))"
   ]
  },
  {
   "cell_type": "code",
   "execution_count": 3,
   "id": "c793306a",
   "metadata": {},
   "outputs": [
    {
     "name": "stdout",
     "output_type": "stream",
     "text": [
      "None\n",
      "{'d': 6, 'c': 4, 'a': 10, 'b': 8}\n"
     ]
    }
   ],
   "source": [
    "#3\n",
    "\n",
    "def Merge(dict1, dict2):\n",
    "    return(dict2.update(dict1))\n",
    "     \n",
    "\n",
    "dict1 = {'a': 10, 'b': 8}\n",
    "dict2 = {'d': 6, 'c': 4}\n",
    " \n",
    "\n",
    "print(Merge(dict1, dict2))\n",
    " \n",
    "\n",
    "print(dict2)"
   ]
  },
  {
   "cell_type": "code",
   "execution_count": 1,
   "id": "c1431467",
   "metadata": {},
   "outputs": [
    {
     "name": "stdout",
     "output_type": "stream",
     "text": [
      "The original dictionary is : {'month': [1, 2, 3], 'name': ['Jan', 'Feb', 'March']}\n",
      "{1: 'Jan', 2: 'Feb', 3: 'March'}\n"
     ]
    }
   ],
   "source": [
    "#4\n",
    "\n",
    "from itertools import product\n",
    "  \n",
    "\n",
    "d = {'month' : [1, 2, 3],\n",
    "             'name' : ['Jan', 'Feb', 'March']}\n",
    "  \n",
    "\n",
    "print(\"The original dictionary is : \" + str(d))\n",
    "  \n",
    "\n",
    "res = dict(zip(d['month'], d['name']))\n",
    "\n",
    "print(str(res))"
   ]
  },
  {
   "cell_type": "markdown",
   "id": "9b36a23f",
   "metadata": {},
   "source": [
    "# code for taking input\n",
    "\n",
    "1. n = int(input(\"enter a n value:\"))\n",
    "2. d = {}\n",
    "\n",
    "3. for i in range(n):\n",
    "4.    keys = input() \n",
    "5.    values = int(input()) \n",
    "6.    d[keys] = values\n",
    "7. print(d)"
   ]
  },
  {
   "cell_type": "code",
   "execution_count": 7,
   "id": "129f3295",
   "metadata": {},
   "outputs": [
    {
     "data": {
      "text/plain": [
       "OrderedDict([('manjeet', '3'), ('akshat', '1'), ('nikhil', '2')])"
      ]
     },
     "execution_count": 7,
     "metadata": {},
     "output_type": "execute_result"
    }
   ],
   "source": [
    "#5\n",
    "\n",
    "\n",
    "from collections import OrderedDict\n",
    "  \n",
    "\n",
    "iniordered_dict = OrderedDict([('akshat', '1'), ('nikhil', '2')])\n",
    "  \n",
    "\n",
    "iniordered_dict.update({'manjeet':'3'})\n",
    "iniordered_dict.move_to_end('manjeet', last = False)\n",
    "\n",
    "iniordered_dict"
   ]
  },
  {
   "cell_type": "code",
   "execution_count": 8,
   "id": "f3b39044",
   "metadata": {},
   "outputs": [
    {
     "name": "stdout",
     "output_type": "stream",
     "text": [
      "enter a word or sentence: this is my first song\n",
      "enter the pattern: tesq\n"
     ]
    },
    {
     "data": {
      "text/plain": [
       "'false'"
      ]
     },
     "execution_count": 8,
     "metadata": {},
     "output_type": "execute_result"
    }
   ],
   "source": [
    "#6\n",
    "\n",
    "from collections import OrderedDict \n",
    "  \n",
    "def fun6(input, pattern): \n",
    "      \n",
    "\n",
    "    dict = OrderedDict.fromkeys(input) \n",
    "  \n",
    "\n",
    "    ptrlen = 0\n",
    "    for key,value in dict.items(): \n",
    "        if (key == pattern[ptrlen]): \n",
    "            ptrlen = ptrlen + 1\n",
    "          \n",
    "\n",
    "        if (ptrlen == (len(pattern))): \n",
    "            return 'true'\n",
    "  \n",
    "\n",
    "    return 'false'\n",
    "  \n",
    "a=str(input(\"enter a word or sentence: \"))\n",
    "b=str(input(\"enter the pattern: \"))\n",
    "\n",
    "fun6(a,b)"
   ]
  },
  {
   "cell_type": "code",
   "execution_count": 15,
   "id": "3bde4ec5",
   "metadata": {},
   "outputs": [
    {
     "name": "stdout",
     "output_type": "stream",
     "text": [
      "enter a n value:7\n",
      "9\n",
      "543\n",
      "6\n",
      "543\n",
      "4\n",
      "8765\n",
      "2\n",
      "7654\n",
      "1\n",
      "65432\n",
      "3\n",
      "345\n",
      "5\n",
      "345\n"
     ]
    }
   ],
   "source": [
    "#7\n",
    "\n",
    "n = int(input(\"enter a n value:\"))\n",
    "d = {}\n",
    "\n",
    "for i in range(n):\n",
    "    keys = input() \n",
    "    values = int(input()) \n",
    "    d[keys] = values\n",
    "\n",
    "#7"
   ]
  },
  {
   "cell_type": "code",
   "execution_count": 23,
   "id": "b6a9b88b",
   "metadata": {},
   "outputs": [
    {
     "name": "stdout",
     "output_type": "stream",
     "text": [
      "dictionary sorted w.r.t keys is: \n",
      "('1', 65432) ('2', 7654) ('3', 345) ('4', 8765) ('5', 345) ('6', 543) ('9', 543) \n",
      "dictionary sorted w.r.t values is: \n",
      "[('3', 345), ('5', 345), ('6', 543), ('9', 543), ('2', 7654), ('4', 8765), ('1', 65432)]\n"
     ]
    }
   ],
   "source": [
    "#7\n",
    "\n",
    "def fun7_by_keys(d):\n",
    "    print(\"dictionary sorted w.r.t keys is: \")\n",
    "    for i in sorted (d) :\n",
    "        \n",
    "        print ((i, d[i]), end =\" \")\n",
    "        \n",
    "fun7_by_keys(d)\n",
    "        \n",
    "def fun7_by_values(d):\n",
    "    print(\"\\ndictionary sorted w.r.t values is: \")\n",
    "    print(sorted(d.items(), key =\n",
    "             lambda kv:(kv[1], kv[0])))  \n",
    "\n",
    "fun7_by_values(d)"
   ]
  },
  {
   "cell_type": "code",
   "execution_count": null,
   "id": "8a2ac987",
   "metadata": {},
   "outputs": [],
   "source": []
  }
 ],
 "metadata": {
  "kernelspec": {
   "display_name": "Python 3",
   "language": "python",
   "name": "python3"
  },
  "language_info": {
   "codemirror_mode": {
    "name": "ipython",
    "version": 3
   },
   "file_extension": ".py",
   "mimetype": "text/x-python",
   "name": "python",
   "nbconvert_exporter": "python",
   "pygments_lexer": "ipython3",
   "version": "3.8.8"
  }
 },
 "nbformat": 4,
 "nbformat_minor": 5
}
