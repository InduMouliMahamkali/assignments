{
 "cells": [
  {
   "cell_type": "markdown",
   "id": "968e9214",
   "metadata": {},
   "source": [
    "Question1\n",
    "Create a function that takes a string and returns a string in which each character is repeated once.\n",
    "Examples\n",
    "double_char(\"String\") ➞ \"SSttrriinngg\"\n",
    "\n",
    "double_char(\"Hello World!\") ➞ \"HHeelllloo  WWoorrlldd!!\"\n",
    "\n",
    "double_char(\"1234!_ \") ➞ \"11223344!!__  \"\n",
    "\n",
    "Question2\n",
    "Create a function that reverses a boolean value and returns the string \"boolean expected\" if another variable type is given.\n",
    "Examples\n",
    "reverse(True) ➞ False\n",
    "\n",
    "reverse(False) ➞ True\n",
    "\n",
    "reverse(0) ➞ \"boolean expected\"\n",
    "\n",
    "reverse(None) ➞ \"boolean expected\"\n",
    "\n",
    "Question3\n",
    "Create a function that returns the thickness (in meters) of a piece of paper after folding it n number of times. The paper starts off with a thickness of 0.5mm.\n",
    "Examples\n",
    "num_layers(1) ➞ \"0.001m\"\n",
    "# Paper folded once is 1mm (equal to 0.001m)\n",
    "\n",
    "num_layers(4) ➞ \"0.008m\"\n",
    "# Paper folded 4 times is 8mm (equal to 0.008m)\n",
    "\n",
    "num_layers(21) ➞ \"1048.576m\"\n",
    "# Paper folded 21 times is 1048576mm (equal to 1048.576m)\n",
    "\n",
    "\n",
    "Question4\n",
    "Create a function that takes a single string as argument and returns an ordered list containing the indices of all capital letters in the string.\n",
    "Examples\n",
    "index_of_caps(\"eDaBiT\") ➞ [1, 3, 5]\n",
    "\n",
    "index_of_caps(\"eQuINoX\") ➞ [1, 3, 4, 6]\n",
    "\n",
    "index_of_caps(\"determine\") ➞ []\n",
    "\n",
    "index_of_caps(\"STRIKE\") ➞ [0, 1, 2, 3, 4, 5]\n",
    "\n",
    "index_of_caps(\"sUn\") ➞ [1]\n",
    "\n",
    "Question5\n",
    "Using list comprehensions, create a function that finds all even numbers from 1 to the given number.\n",
    "Examples\n",
    "find_even_nums(8) ➞ [2, 4, 6, 8]\n",
    "\n",
    "find_even_nums(4) ➞ [2, 4]\n",
    "\n",
    "find_even_nums(2) ➞ [2]\n"
   ]
  },
  {
   "cell_type": "code",
   "execution_count": 2,
   "id": "6dbd2afb",
   "metadata": {},
   "outputs": [
    {
     "name": "stdout",
     "output_type": "stream",
     "text": [
      "enter the number of inputs to be provided: 3\n",
      "enter the string: String\n",
      "the double charater sting is ➞➞ SSttrriinngg\n",
      "------------------------------------------------------------\n",
      "enter the string: Hello World!\n",
      "the double charater sting is ➞➞ HHeelllloo  WWoorrlldd!!\n",
      "------------------------------------------------------------\n",
      "enter the string: 1234!_\n",
      "the double charater sting is ➞➞ 11223344!!__\n",
      "------------------------------------------------------------\n"
     ]
    }
   ],
   "source": [
    "#1\n",
    "\n",
    "def double_char(w):\n",
    "    e=''\n",
    "    for i in w:\n",
    "        e+=i*2\n",
    "    print(f\"the double charater sting is ➞➞ {e}\")\n",
    "    return e\n",
    "s=int(input(\"enter the number of inputs to be provided: \"))\n",
    "for i in range(s):\n",
    "    t=str(input(\"enter the string: \"))\n",
    "    double_char(t)\n",
    "    print(\"--\"*30)"
   ]
  },
  {
   "cell_type": "code",
   "execution_count": 6,
   "id": "b6c2fb34",
   "metadata": {},
   "outputs": [
    {
     "name": "stdout",
     "output_type": "stream",
     "text": [
      "reverse(True) ➞ False\n",
      "reverse(False) ➞ True\n",
      "reverse(0) ➞ Boolean Expected\n",
      "reverse(None) ➞ Boolean Expected\n"
     ]
    }
   ],
   "source": [
    "#2\n",
    "\n",
    "def reverse_bool(w):\n",
    "    if type(w)==bool:\n",
    "        return not w\n",
    "    else:\n",
    "        return \"Boolean Expected\"\n",
    "\n",
    "print(f'reverse(True) ➞ {reverse_bool(True)}')\n",
    "print(f'reverse(False) ➞ {reverse_bool(False)}')\n",
    "print(f'reverse(0) ➞ {reverse_bool(0)}')\n",
    "print(f'reverse(None) ➞ {reverse_bool(None)}')"
   ]
  },
  {
   "cell_type": "code",
   "execution_count": 7,
   "id": "8d6aa7ac",
   "metadata": {},
   "outputs": [
    {
     "name": "stdout",
     "output_type": "stream",
     "text": [
      "Output ➞ 0.001m\n",
      "Output ➞ 0.008m\n",
      "Output ➞ 1048.576m\n"
     ]
    }
   ],
   "source": [
    "#3\n",
    "\n",
    "def num_layers(in_num):\n",
    "    out_num = 0.5\n",
    "    for ele in range(in_num):\n",
    "        out_num *= 2\n",
    "    print(f'Output ➞ {out_num/1000}m')\n",
    "    \n",
    "num_layers(1)\n",
    "num_layers(4)\n",
    "num_layers(21)"
   ]
  },
  {
   "cell_type": "code",
   "execution_count": 8,
   "id": "bc36f8a5",
   "metadata": {},
   "outputs": [
    {
     "name": "stdout",
     "output_type": "stream",
     "text": [
      "enter the number of inputs to be provided: 5\n",
      "enter the string: eDaBiT\n",
      "given string eDaBiT index of the captial characters in srting ➞ ➞  [1, 3, 5]\n",
      "------------------------------------------------------------\n",
      "enter the string: eQuINoX\n",
      "given string eQuINoX index of the captial characters in srting ➞ ➞  [1, 3, 4, 6]\n",
      "------------------------------------------------------------\n",
      "enter the string: determine\n",
      "given string determine index of the captial characters in srting ➞ ➞  []\n",
      "------------------------------------------------------------\n",
      "enter the string: STRIKE\n",
      "given string STRIKE index of the captial characters in srting ➞ ➞  [0, 1, 2, 3, 4, 5]\n",
      "------------------------------------------------------------\n",
      "enter the string: sUn\n",
      "given string sUn index of the captial characters in srting ➞ ➞  [1]\n",
      "------------------------------------------------------------\n"
     ]
    }
   ],
   "source": [
    "#4\n",
    "\n",
    "def fun4(w):\n",
    "    l1=[]\n",
    "    for i in w:\n",
    "        if i.isupper():\n",
    "            l1.append(w.index(i))\n",
    "    print(f\"given string {w} index of the captial characters in srting ➞ ➞  {l1}\")\n",
    "    return l1\n",
    "\n",
    "s=int(input(\"enter the number of inputs to be provided: \"))\n",
    "for i in range(s):\n",
    "    t=str(input(\"enter the string: \"))\n",
    "    fun4(t)\n",
    "    print(\"--\"*30)"
   ]
  },
  {
   "cell_type": "code",
   "execution_count": 9,
   "id": "2f442ada",
   "metadata": {},
   "outputs": [
    {
     "name": "stdout",
     "output_type": "stream",
     "text": [
      "enter the number of inputs to be provided: 3\n",
      "enter the number: 8\n",
      "even numbers between 1 and 8 are ➞➞ [2, 4, 6, 8]\n",
      "------------------------------------------------------------\n",
      "enter the number: 4\n",
      "even numbers between 1 and 4 are ➞➞ [2, 4]\n",
      "------------------------------------------------------------\n",
      "enter the number: 2\n",
      "even numbers between 1 and 2 are ➞➞ [2]\n",
      "------------------------------------------------------------\n"
     ]
    }
   ],
   "source": [
    "#5\n",
    "\n",
    "def fun5(w):\n",
    "    l=[i for i in range(1,w+1) if i%2==0]\n",
    "    print(f\"even numbers between 1 and {w} are ➞➞ {l}\")\n",
    "\n",
    "s=int(input(\"enter the number of inputs to be provided: \"))\n",
    "for i in range(s):\n",
    "    t=int(input(\"enter the number: \"))\n",
    "    fun5(t)\n",
    "    print(\"--\"*30)"
   ]
  },
  {
   "cell_type": "code",
   "execution_count": null,
   "id": "895aa523",
   "metadata": {},
   "outputs": [],
   "source": []
  }
 ],
 "metadata": {
  "kernelspec": {
   "display_name": "Python 3",
   "language": "python",
   "name": "python3"
  },
  "language_info": {
   "codemirror_mode": {
    "name": "ipython",
    "version": 3
   },
   "file_extension": ".py",
   "mimetype": "text/x-python",
   "name": "python",
   "nbconvert_exporter": "python",
   "pygments_lexer": "ipython3",
   "version": "3.8.8"
  }
 },
 "nbformat": 4,
 "nbformat_minor": 5
}
