{
 "cells": [
  {
   "cell_type": "markdown",
   "id": "ce9cbf62",
   "metadata": {},
   "source": [
    "Question 1:\n",
    "\n",
    "Define a class with a generator which can iterate the numbers, which are divisible by 7, between a given range 0 and n.\n",
    "\n",
    "Question 2:\n",
    "Write a program to compute the frequency of the words from the input. The output should output after sorting the key alphanumerically. \n",
    "\n",
    "Suppose the following input is supplied to the program:\n",
    "\n",
    "New to Python or choosing between Python 2 and Python 3? Read Python 2 or Python 3.\n",
    "\n",
    "Then, the output should be:\n",
    "\n",
    "2:2\n",
    "\n",
    "3.:1\n",
    "\n",
    "3?:1\n",
    "\n",
    "New:1\n",
    "\n",
    "Python:5\n",
    "\n",
    "Read:1\n",
    "\n",
    "and:1\n",
    "\n",
    "between:1\n",
    "\n",
    "choosing:1\n",
    "\n",
    "or:2\n",
    "\n",
    "to:1\n",
    "\n",
    "Question 3:\n",
    "\n",
    "\n",
    "\n",
    "Define a class Person and its two child classes: Male and Female. All classes have a method \"getGender\" which can print \"Male\" for Male class and \"Female\" for Female class.\n",
    "\n",
    "Question 4:\n",
    "Please write a program to generate all sentences where subject is in [\"I\", \"You\"] and verb is in [\"Play\", \"Love\"] and the object is in [\"Hockey\",\"Football\"].\n",
    "\n",
    "\n",
    "Question 5:\n",
    "Please write a program to compress and decompress the string \"hello world!hello world!hello world!hello world!\".\n",
    "\n",
    "Question 6:\n",
    "Please write a binary search function which searches an item in a sorted list. The function should return the index of element to be searched in the list.\n"
   ]
  },
  {
   "cell_type": "code",
   "execution_count": 2,
   "id": "74083e76",
   "metadata": {},
   "outputs": [
    {
     "name": "stdout",
     "output_type": "stream",
     "text": [
      "0 7 14 21 28 35 42 49 56 63 70 77 84 91 98 105 112 119 126 133 140 147 154 161 168 175 182 189 196 203 210 217 224 231 238 245 252 259 266 273 280 287 294 "
     ]
    }
   ],
   "source": [
    "#1\n",
    "\n",
    "\n",
    "class div_fun1:\n",
    "    def __init__(self, num):\n",
    "        self.num=num\n",
    "    def fun11(self):\n",
    "        for i in range(0,self.num+1):\n",
    "            if i%7==0:\n",
    "                yield i\n",
    "                \n",
    "ans=div_fun1(300)\n",
    "for j in ans.fun11():\n",
    "    print(j,end=' ')"
   ]
  },
  {
   "cell_type": "code",
   "execution_count": 7,
   "id": "9286853b",
   "metadata": {},
   "outputs": [
    {
     "name": "stdout",
     "output_type": "stream",
     "text": [
      "New to Python or choosing between Python 2 and Python 3? Read Python 2 or Python 3.\n",
      "2:2\n",
      "3.:1\n",
      "3?:1\n",
      "New:1\n",
      "Python:5\n",
      "Read:1\n",
      "and:1\n",
      "between:1\n",
      "choosing:1\n",
      "or:2\n",
      "to:1\n"
     ]
    }
   ],
   "source": [
    "#2\n",
    "\n",
    "\n",
    "a=input()\n",
    "\n",
    "def fun2(e):\n",
    "    \n",
    "    #this function takes any input from the user and prints the frequency of each word given by the user input\n",
    "\n",
    "    d=e.split()\n",
    "    d.sort()\n",
    "    r=[]\n",
    "    for i in d:\n",
    "        if i not in r:\n",
    "            r.append(i)\n",
    "        else:\n",
    "            continue\n",
    "    \n",
    "    \n",
    "    for i in r:\n",
    "        print(f'{i}:{d.count(i)}',end=\"\\n\")\n",
    "        \n",
    "fun2(a)"
   ]
  },
  {
   "cell_type": "code",
   "execution_count": 9,
   "id": "b43e2113",
   "metadata": {},
   "outputs": [
    {
     "name": "stdout",
     "output_type": "stream",
     "text": [
      "Male\n",
      "Female\n"
     ]
    }
   ],
   "source": [
    "#3\n",
    "\n",
    "\n",
    "class Person:\n",
    "    def __init__(self):\n",
    "        self.gender=\"unknown\"\n",
    "        \n",
    "    def getGender(self):\n",
    "        print(self.gender)\n",
    "\n",
    "class Male(Person):\n",
    "    def __init__(self):\n",
    "        self.gender=\"Male\"\n",
    "        \n",
    "class Female(Person):\n",
    "    def __init__(self):\n",
    "        self.gender=\"Female\"\n",
    "        \n",
    "\n",
    "        \n",
    "to_male=Male()\n",
    "to_female=Female()\n",
    "\n",
    "to_male.getGender()\n",
    "to_female.getGender()"
   ]
  },
  {
   "cell_type": "code",
   "execution_count": 11,
   "id": "321661c9",
   "metadata": {},
   "outputs": [
    {
     "name": "stdout",
     "output_type": "stream",
     "text": [
      "I Play Hockey\n",
      "I Play Football\n",
      "I Love Hockey\n",
      "I Love Football\n",
      "You Play Hockey\n",
      "You Play Football\n",
      "You Love Hockey\n",
      "You Love Football\n"
     ]
    }
   ],
   "source": [
    "#4\n",
    "\n",
    "\n",
    "subject = ['I','You']\n",
    "verb = ['Play','Love']\n",
    "objects = ['Hockey','Football']\n",
    "\n",
    "\n",
    "def fun4(a,b,c):\n",
    "    \"\"\"this function takes any three lists and prints\n",
    "    all the possible sentences from the statements\"\"\"\n",
    "    \n",
    "    for i in a:\n",
    "        for j in b:\n",
    "            for k in c:\n",
    "                print(f'{i} {j} {k}')\n",
    "\n",
    "fun4(subject,verb,objects)"
   ]
  },
  {
   "cell_type": "code",
   "execution_count": 14,
   "id": "1819511e",
   "metadata": {},
   "outputs": [
    {
     "name": "stdout",
     "output_type": "stream",
     "text": [
      "b'x\\x9c\\xcbH\\xcd\\xc9\\xc9W(\\xcf/\\xcaIQ\\xcc \\x82\\r\\x00\\xbd[\\x11\\xf5'\n",
      "b'hello world!hello world!hello world!hello world!'\n"
     ]
    }
   ],
   "source": [
    "#5\n",
    "\n",
    "import zlib\n",
    "\n",
    "strs=\"hello world!hello world!hello world!hello world!\"\n",
    "\n",
    "a=bytes(strs,'utf-8')\n",
    "b=zlib.compress(a)\n",
    "print(b)\n",
    "print(zlib.decompress(b))"
   ]
  },
  {
   "cell_type": "code",
   "execution_count": 17,
   "id": "3ec24b8a",
   "metadata": {},
   "outputs": [
    {
     "name": "stdout",
     "output_type": "stream",
     "text": [
      "Array Length: 14\n",
      "Middle Value: 7\n",
      "Middle Value: 10\n",
      "The Value Found at Index: 10\n"
     ]
    }
   ],
   "source": [
    "#6\n",
    "\n",
    "\n",
    "def binary_search_Ascending(array, target):\n",
    "    lower = 0\n",
    "    upper = len(array)\n",
    "    print('Array Length:',upper)\n",
    "    while lower < upper:\n",
    "        x = (lower + upper) // 2\n",
    "        print('Middle Value:',x)\n",
    "        value = array[x]\n",
    "        if target == value:\n",
    "            return x\n",
    "        elif target > value:\n",
    "            lower = x\n",
    "        elif target < value:\n",
    "            upper = x\n",
    "\n",
    "Array = [1,5,8,10,12,13,55,66,73,78,82,85,88,99]\n",
    "print('The Value Found at Index:',binary_search_Ascending(Array, 82))\n",
    "  "
   ]
  },
  {
   "cell_type": "code",
   "execution_count": null,
   "id": "524a268a",
   "metadata": {},
   "outputs": [],
   "source": []
  }
 ],
 "metadata": {
  "kernelspec": {
   "display_name": "Python 3",
   "language": "python",
   "name": "python3"
  },
  "language_info": {
   "codemirror_mode": {
    "name": "ipython",
    "version": 3
   },
   "file_extension": ".py",
   "mimetype": "text/x-python",
   "name": "python",
   "nbconvert_exporter": "python",
   "pygments_lexer": "ipython3",
   "version": "3.8.8"
  }
 },
 "nbformat": 4,
 "nbformat_minor": 5
}
