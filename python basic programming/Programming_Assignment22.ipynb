{
 "cells": [
  {
   "cell_type": "markdown",
   "id": "925aeca2",
   "metadata": {},
   "source": [
    "Question1\n",
    "Create a function that takes three parameters where:\n",
    "•\tx is the start of the range (inclusive).\n",
    "•\ty is the end of the range (inclusive).\n",
    "•\tn is the divisor to be checked against.\n",
    "Return an ordered list with numbers in the range that are divisible by the third parameter n. Return an empty list if there are no numbers that are divisible by n.\n",
    "Examples\n",
    "list_operation(1, 10, 3) ➞ [3, 6, 9]\n",
    "\n",
    "list_operation(7, 9, 2) ➞ [8]\n",
    "\n",
    "list_operation(15, 20, 7) ➞ []\n",
    "\n",
    "Question2\n",
    "Create a function that takes in two lists and returns True if the second list follows the first list by one element, and False otherwise. In other words, determine if the second list is the first list shifted to the right by 1.\n",
    "Examples\n",
    "simon_says([1, 2], [5, 1]) ➞ True\n",
    "\n",
    "simon_says([1, 2], [5, 5]) ➞ False\n",
    "\n",
    "simon_says([1, 2, 3, 4, 5], [0, 1, 2, 3, 4]) ➞ True\n",
    "\n",
    "simon_says([1, 2, 3, 4, 5], [5, 5, 1, 2, 3]) ➞ False\n",
    "Notes\n",
    "•\tBoth input lists will be of the same length, and will have a minimum length of 2.\n",
    "•\tThe values of the 0-indexed element in the second list and the n-1th indexed element in the first list do not matter.\n",
    "\n",
    "Question3\n",
    "A group of friends have decided to start a secret society. The name will be the first letter of each of their names, sorted in alphabetical order.\n",
    "Create a function that takes in a list of names and returns the name of the secret society.\n",
    "Examples\n",
    "society_name([\"Adam\", \"Sarah\", \"Malcolm\"]) ➞ \"AMS\"\n",
    "\n",
    "society_name([\"Harry\", \"Newt\", \"Luna\", \"Cho\"]) ➞ \"CHLN\"\n",
    "\n",
    "society_name([\"Phoebe\", \"Chandler\", \"Rachel\", \"Ross\", \"Monica\", \"Joey\"])\n",
    "\n",
    "Question4\n",
    "An isogram is a word that has no duplicate letters. Create a function that takes a string and returns either True or False depending on whether or not it's an \"isogram\".\n",
    "Examples\n",
    "is_isogram(\"Algorism\") ➞ True\n",
    "\n",
    "is_isogram(\"PasSword\") ➞ False\n",
    "# Not case sensitive.\n",
    "\n",
    "is_isogram(\"Consecutive\") ➞ False\n",
    "Notes\n",
    "•\tIgnore letter case (should not be case sensitive).\n",
    "•\tAll test cases contain valid one word strings.\n",
    "\n",
    "Question5\n",
    "Create a function that takes a string and returns True or False, depending on whether the characters are in order or not.\n",
    "Examples\n",
    "is_in_order(\"abc\") ➞ True\n",
    "\n",
    "is_in_order(\"edabit\") ➞ False\n",
    "\n",
    "is_in_order(\"123\") ➞ True\n",
    "\n",
    "is_in_order(\"xyzz\") ➞ True\n",
    "Notes\n",
    "You don't have to handle empty strings.\n"
   ]
  },
  {
   "cell_type": "code",
   "execution_count": 1,
   "id": "1de859d7",
   "metadata": {
    "scrolled": true
   },
   "outputs": [
    {
     "name": "stdout",
     "output_type": "stream",
     "text": [
      "enter the number of inputs to be given: 3\n",
      "enter the starting of range: 1\n",
      "enter the ending of range: 10\n",
      "enter the divisor n: 3\n",
      "numbers that are divisible by the given number 3 is:➞➞ [3, 6, 9]\n",
      "------------------------------------------------------------\n",
      "enter the starting of range: 7\n",
      "enter the ending of range: 9\n",
      "enter the divisor n: 2\n",
      "numbers that are divisible by the given number 2 is:➞➞ [8]\n",
      "------------------------------------------------------------\n",
      "enter the starting of range: 15\n",
      "enter the ending of range: 20\n",
      "enter the divisor n: 7\n",
      "numbers that are divisible by the given number 7 is:➞➞ []\n",
      "------------------------------------------------------------\n"
     ]
    }
   ],
   "source": [
    "#1\n",
    "\n",
    "def list_operation(q,w,e):\n",
    "    l=[]\n",
    "    for i in range(q,w+1):\n",
    "        if i%e==0:\n",
    "            l.append(i)\n",
    "    print(f\"numbers that are divisible by the given number {e} is:➞➞ {l}\")\n",
    "n=int(input(\"enter the number of inputs to be given: \"))\n",
    "for i in range(n):\n",
    "    start=int(input(\"enter the starting of range: \"))\n",
    "    end=int(input(\"enter the ending of range: \"))\n",
    "    divisor=int(input(\"enter the divisor n: \"))\n",
    "    list_operation(start,end,divisor)\n",
    "    print(\"--\"*30)"
   ]
  },
  {
   "cell_type": "code",
   "execution_count": 5,
   "id": "169ecc03",
   "metadata": {},
   "outputs": [
    {
     "name": "stdout",
     "output_type": "stream",
     "text": [
      "([1, 2], [5, 1]) ➞➞ True\n",
      "([1, 2], [5, 5]) ➞➞ False\n",
      "([1, 2, 3, 4, 5], [0, 1, 2, 3, 4]) ➞➞ True\n",
      "([1, 2, 3, 4, 5], [5, 5, 1, 2, 3]) ➞➞ False\n"
     ]
    }
   ],
   "source": [
    "#2\n",
    "\n",
    "def simon_says(l1,l2):\n",
    "    if len(l1) == len(l2) and len(l1) >=2 and len(l2) >=2:\n",
    "        if(l1[:-1]==l2[1:]):\n",
    "            print(f\"{l1,l2} ➞➞ {True}\")\n",
    "        else:\n",
    "            print(f\"{l1,l2} ➞➞ {False}\")\n",
    "\n",
    "simon_says([1, 2], [5, 1])\n",
    "simon_says([1, 2], [5, 5])\n",
    "simon_says([1, 2, 3, 4, 5], [0, 1, 2, 3, 4])\n",
    "simon_says([1, 2, 3, 4, 5], [5, 5, 1, 2, 3])"
   ]
  },
  {
   "cell_type": "code",
   "execution_count": 8,
   "id": "b13b8af0",
   "metadata": {},
   "outputs": [
    {
     "name": "stdout",
     "output_type": "stream",
     "text": [
      "['Adam', 'Sarah', 'Malcolm'] ➞➞ AMS\n",
      "['Harry', 'Newt', 'Luna', 'Cho'] ➞➞ CHLN\n",
      "['Phoebe', 'Chandler', 'Rachel', 'Ross', 'Monica', 'Joey'] ➞➞ CJMPRR\n"
     ]
    }
   ],
   "source": [
    "#3\n",
    "\n",
    "def society_name(q):\n",
    "    l=[]\n",
    "    for i in q:\n",
    "        l.append(i[0])\n",
    "    w=''.join(sorted(l))\n",
    "    print(f\"{q} ➞➞ {w}\")\n",
    "    \n",
    "society_name([\"Adam\", \"Sarah\", \"Malcolm\"])\n",
    "society_name([\"Harry\", \"Newt\", \"Luna\", \"Cho\"])\n",
    "society_name([\"Phoebe\", \"Chandler\", \"Rachel\", \"Ross\", \"Monica\", \"Joey\"])"
   ]
  },
  {
   "cell_type": "code",
   "execution_count": 9,
   "id": "df229a70",
   "metadata": {},
   "outputs": [
    {
     "name": "stdout",
     "output_type": "stream",
     "text": [
      "algorism ➞➞ True\n",
      "password ➞➞ False\n",
      "consecutive ➞➞ False\n"
     ]
    }
   ],
   "source": [
    "#4\n",
    "\n",
    "def is_isogram(q):\n",
    "    lower_q=q.lower()\n",
    "    if len(lower_q)==len(set(lower_q)):\n",
    "        print(f\"{lower_q} ➞➞ {True}\")\n",
    "    else:\n",
    "        print(f\"{lower_q} ➞➞ {False}\")\n",
    "\n",
    "is_isogram(\"Algorism\")\n",
    "is_isogram(\"PasSword\")\n",
    "is_isogram(\"Consecutive\")"
   ]
  },
  {
   "cell_type": "code",
   "execution_count": 10,
   "id": "a42abe7d",
   "metadata": {},
   "outputs": [
    {
     "name": "stdout",
     "output_type": "stream",
     "text": [
      "abc  ➞➞ True\n",
      "edabit  ➞➞ False\n",
      "123  ➞➞ True\n",
      "xyzz  ➞➞ True\n"
     ]
    }
   ],
   "source": [
    "#5\n",
    "\n",
    "def is_in_order(q):\n",
    "    sorted_q=''.join(sorted(q))\n",
    "    if q==sorted_q:\n",
    "        print(f\"{q}  ➞➞ {True}\")\n",
    "    else:\n",
    "        print(f\"{q}  ➞➞ {False}\")\n",
    "\n",
    "is_in_order(\"abc\")\n",
    "is_in_order(\"edabit\")\n",
    "is_in_order(\"123\")\n",
    "is_in_order(\"xyzz\")"
   ]
  }
 ],
 "metadata": {
  "kernelspec": {
   "display_name": "Python 3",
   "language": "python",
   "name": "python3"
  },
  "language_info": {
   "codemirror_mode": {
    "name": "ipython",
    "version": 3
   },
   "file_extension": ".py",
   "mimetype": "text/x-python",
   "name": "python",
   "nbconvert_exporter": "python",
   "pygments_lexer": "ipython3",
   "version": "3.8.8"
  }
 },
 "nbformat": 4,
 "nbformat_minor": 5
}
