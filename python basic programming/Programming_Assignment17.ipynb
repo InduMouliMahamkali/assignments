{
 "cells": [
  {
   "cell_type": "markdown",
   "id": "3123f5da",
   "metadata": {},
   "source": [
    "Question1. Create a function that takes three arguments a, b, c and returns the sum of the numbers that are evenly divided by c from the range a, b inclusive.\n",
    "Examples\n",
    "evenly_divisible(1, 10, 20) ➞ 0\n",
    "# No number between 1 and 10 can be evenly divided by 20.\n",
    "\n",
    "evenly_divisible(1, 10, 2) ➞ 30\n",
    "# 2 + 4 + 6 + 8 + 10 = 30\n",
    "\n",
    "evenly_divisible(1, 10, 3) ➞ 18\n",
    "# 3 + 6 + 9 = 18\n",
    "\n",
    "\n",
    "Question2. Create a function that returns True if a given inequality expression is correct and False otherwise.\n",
    "Examples\n",
    "correct_signs(\"3 < 7 < 11\") ➞ True\n",
    "\n",
    "correct_signs(\"13 > 44 > 33 > 1\") ➞ False\n",
    "\n",
    "correct_signs(\"1 < 2 < 6 < 9 > 3\") ➞ True\n",
    "\n",
    "Question3. Create a function that replaces all the vowels in a string with a specified character.\n",
    "Examples\n",
    "replace_vowels(\"the aardvark\", \"#\") ➞ \"th# ##rdv#rk\"\n",
    "\n",
    "replace_vowels(\"minnie mouse\", \"?\") ➞ \"m?nn?? m??s?\"\n",
    "\n",
    "replace_vowels(\"shakespeare\", \"*\") ➞ \"sh*k*sp**r*\"\n",
    "\n",
    "Question4. Write a function that calculates the factorial of a number recursively.\n",
    "Examples\n",
    "factorial(5) ➞ 120\n",
    "\n",
    "factorial(3) ➞ 6\n",
    "\n",
    "factorial(1) ➞ 1\n",
    "\n",
    "factorial(0) ➞ 1\n",
    "\n",
    "Question 5\n",
    "Hamming distance is the number of characters that differ between two strings.\n",
    "To illustrate:\n",
    "String1: \"abcbba\"\n",
    "String2: \"abcbda\"\n",
    "\n",
    "Hamming Distance: 1 - \"b\" vs. \"d\" is the only difference.\n",
    "Create a function that computes the hamming distance between two strings.\n",
    "Examples\n",
    "hamming_distance(\"abcde\", \"bcdef\") ➞ 5\n",
    "\n",
    "hamming_distance(\"abcde\", \"abcde\") ➞ 0\n",
    "\n",
    "hamming_distance(\"strong\", \"strung\") ➞ 1\n"
   ]
  },
  {
   "cell_type": "code",
   "execution_count": 1,
   "id": "45629ac5",
   "metadata": {},
   "outputs": [
    {
     "name": "stdout",
     "output_type": "stream",
     "text": [
      "sum of all the numbers between 1 and 10 which are divisible by 2 is : 30\n"
     ]
    }
   ],
   "source": [
    "#1\n",
    "\n",
    "def evenly_divisible(q,w,e):\n",
    "    lst=[]\n",
    "    for i in range(q,w+1):\n",
    "        if i%e==0:\n",
    "            lst.append(i)\n",
    "    print(f\"sum of all the numbers between {q} and {w} which are divisible by {e} is : {sum(lst)}\")\n",
    "\n",
    "evenly_divisible(1,10,2)"
   ]
  },
  {
   "cell_type": "code",
   "execution_count": 2,
   "id": "f71fd100",
   "metadata": {},
   "outputs": [
    {
     "name": "stdout",
     "output_type": "stream",
     "text": [
      "enter the inequality to be evaluated: 3 < 7 < 11\n",
      "given inequality 3 < 7 < 11 the bool value for it  ➞ True\n",
      "--------------------\n",
      "enter the inequality to be evaluated: 13 > 44 > 33 > 1\n",
      "given inequality 13 > 44 > 33 > 1 the bool value for it  ➞ False\n",
      "--------------------\n",
      "enter the inequality to be evaluated: 1 < 2 < 6 < 9 > 3\n",
      "given inequality 1 < 2 < 6 < 9 > 3 the bool value for it  ➞ True\n",
      "--------------------\n"
     ]
    }
   ],
   "source": [
    "#2\n",
    "\n",
    "def fun2(s):\n",
    "    ans_bool=eval(s)\n",
    "    print(f\"given inequality {s} the bool value for it  ➞ {ans_bool}\")\n",
    "    return ans_bool\n",
    "\n",
    "w=int(input())\n",
    "for i in range(w):\n",
    "    a=input(\"enter the inequality to be evaluated: \")\n",
    "    fun2(a)\n",
    "    print(\"-\"*20)"
   ]
  },
  {
   "cell_type": "code",
   "execution_count": 6,
   "id": "56cf0628",
   "metadata": {},
   "outputs": [
    {
     "name": "stdout",
     "output_type": "stream",
     "text": [
      "enter the number of inputs to execute: 3\n",
      "enter the string: the aardvark\n",
      "enter the replacement character: #\n",
      "After replacing the vowels from the given string the aardvark with given replacement charater #  ➞ th# ##rdv#rk\n",
      "----------------------------------------\n",
      "enter the string: minnie mouse\n",
      "enter the replacement character: ?\n",
      "After replacing the vowels from the given string minnie mouse with given replacement charater ?  ➞ m?nn?? m??s?\n",
      "----------------------------------------\n",
      "enter the string: shakespeare\n",
      "enter the replacement character: *\n",
      "After replacing the vowels from the given string shakespeare with given replacement charater *  ➞ sh*k*sp**r*\n",
      "----------------------------------------\n"
     ]
    }
   ],
   "source": [
    "#3\n",
    "\n",
    "def fun_char_replace(w,e):\n",
    "    vow=(\"a\",\"e\",\"i\",\"o\",\"u\",\"A\",\"E\",\"I\",\"O\",\"U\")\n",
    "    w_dup=w\n",
    "    for i in w_dup:\n",
    "        if i in vow:\n",
    "            w_dup=w_dup.replace(i,e)\n",
    "    print(f\"After replacing the vowels from the given string {w} with given replacement charater {e}  ➞ {w_dup}\")\n",
    "t=int(input(\"enter the number of inputs to execute: \"))\n",
    "for i in range(t):\n",
    "    a,s=str(input(\"enter the string: \")),str(input(\"enter the replacement character: \"))\n",
    "    fun_char_replace(a,s)\n",
    "    print(\"--\"*20)"
   ]
  },
  {
   "cell_type": "code",
   "execution_count": 7,
   "id": "c2a93de4",
   "metadata": {},
   "outputs": [
    {
     "name": "stdout",
     "output_type": "stream",
     "text": [
      "enter the number of inputs you provide: 4\n",
      "enter the factorial number: 5\n",
      "factorial(5) is ➞ 120\n",
      "----------------------------------------\n",
      "enter the factorial number: 3\n",
      "factorial(3) is ➞ 6\n",
      "----------------------------------------\n",
      "enter the factorial number: 1\n",
      "factorial(1) is ➞ 1\n",
      "----------------------------------------\n",
      "enter the factorial number: 0\n",
      "factorial(0) is ➞ 1\n",
      "----------------------------------------\n"
     ]
    }
   ],
   "source": [
    "#4\n",
    "\n",
    "def fun_factorial(n):\n",
    "    if n==0:\n",
    "        return 1\n",
    "    return n*fun_factorial(n-1)\n",
    "t=int(input(\"enter the number of inputs you provide: \"))\n",
    "for i in range(t):\n",
    "    d=int(input(\"enter the factorial number: \"))\n",
    "    print(f\"factorial({d}) is ➞ {fun_factorial(d)}\")\n",
    "    print(\"--\"*20)"
   ]
  },
  {
   "cell_type": "code",
   "execution_count": 8,
   "id": "0e1abcb7",
   "metadata": {},
   "outputs": [
    {
     "name": "stdout",
     "output_type": "stream",
     "text": [
      "Enter the String_1: abcde\n",
      "Enter the String_2: bcdef\n",
      "Hamning Distance b/w abcde and bcdef ➞ 5\n",
      "Enter the String_1: abcde\n",
      "Enter the String_2: abcde\n",
      "Hamning Distance b/w abcde and abcde ➞ 0\n",
      "Enter the String_1: strong\n",
      "Enter the String_2: strung\n",
      "Hamning Distance b/w strong and strung ➞ 1\n"
     ]
    }
   ],
   "source": [
    "#5\n",
    "\n",
    "def genHamDistance():\n",
    "    in_string_1 = input('Enter the String_1: ')\n",
    "    in_string_2 = input('Enter the String_2: ')\n",
    "    if len(in_string_1) == len(in_string_2):\n",
    "        count = 0\n",
    "        for i in range(len(in_string_1)):\n",
    "            if in_string_1[i] != in_string_2[i]:\n",
    "                count = count+1\n",
    "        print(f'Hamning Distance b/w {in_string_1} and {in_string_2} ➞ {count}')\n",
    "    else:\n",
    "        print('Both Strings Must be of Same Length')\n",
    "\n",
    "for x in range(3):\n",
    "    genHamDistance()"
   ]
  },
  {
   "cell_type": "code",
   "execution_count": null,
   "id": "251ee155",
   "metadata": {},
   "outputs": [],
   "source": []
  }
 ],
 "metadata": {
  "kernelspec": {
   "display_name": "Python 3",
   "language": "python",
   "name": "python3"
  },
  "language_info": {
   "codemirror_mode": {
    "name": "ipython",
    "version": 3
   },
   "file_extension": ".py",
   "mimetype": "text/x-python",
   "name": "python",
   "nbconvert_exporter": "python",
   "pygments_lexer": "ipython3",
   "version": "3.8.8"
  }
 },
 "nbformat": 4,
 "nbformat_minor": 5
}
