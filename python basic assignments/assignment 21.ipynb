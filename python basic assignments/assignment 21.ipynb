{
 "cells": [
  {
   "cell_type": "markdown",
   "metadata": {},
   "source": [
    "1. Add the current date to the text file today.txt as a string.\n",
    "2. Read the text file today.txt into the string today_string\n",
    "3. Parse the date from today_string.\n",
    "4. List the files in your current directory\n",
    "5. Create a list of all of the files in your parent directory (minimum five files should be available).\n",
    "6. Use multiprocessing to create three separate processes. Make each one wait a random number of seconds between one and five, print the current time, and then exit.\n",
    "7. Create a date object of your day of birth.\n",
    "8. What day of the week was your day of birth?\n",
    "9. When will you be (or when were you) 10,000 days old?"
   ]
  },
  {
   "cell_type": "code",
   "execution_count": 14,
   "metadata": {},
   "outputs": [
    {
     "name": "stdout",
     "output_type": "stream",
     "text": [
      "15-02-2022\n"
     ]
    }
   ],
   "source": [
    "#1\n",
    "\n",
    "import datetime\n",
    "\n",
    "file = open('today.txt','w')\n",
    "file.write(datetime.datetime.now().strftime(\"%d-%m-%Y\"))\n",
    "file.close()\n",
    "\n",
    "file = open('today.txt','r')\n",
    "print(file.read())\n",
    "file.close()"
   ]
  },
  {
   "cell_type": "code",
   "execution_count": 15,
   "metadata": {},
   "outputs": [
    {
     "name": "stdout",
     "output_type": "stream",
     "text": [
      "15-02-2022\n"
     ]
    }
   ],
   "source": [
    "#2\n",
    "\n",
    "file = open('today.txt','r')\n",
    "today_string = file.read()\n",
    "print(today_string)"
   ]
  },
  {
   "cell_type": "code",
   "execution_count": 16,
   "metadata": {},
   "outputs": [
    {
     "name": "stdout",
     "output_type": "stream",
     "text": [
      "2022-02-15 00:00:00\n"
     ]
    }
   ],
   "source": [
    "#3\n",
    "\n",
    "from datetime import datetime\n",
    "parsed_data = datetime.strptime(today_string, '%d-%m-%Y')\n",
    "print(parsed_data)"
   ]
  },
  {
   "cell_type": "code",
   "execution_count": 4,
   "metadata": {},
   "outputs": [
    {
     "name": "stdout",
     "output_type": "stream",
     "text": [
      "assignment 15.ipynb\n",
      "assignment 16.ipynb\n",
      "assignment 17.ipynb\n",
      "assignment 18.ipynb\n",
      "assignment 19.ipynb\n",
      "assignment 20.ipynb\n",
      "assignment 21.ipynb\n",
      "assignment 22.ipynb\n",
      "assignment 23.ipynb\n",
      "assignment 24.ipynb\n",
      "assignment 25.ipynb\n",
      "Assignment_1.docx\n",
      "Assignment_10.docx\n",
      "Assignment_11.docx\n",
      "Assignment_12.docx\n",
      "Assignment_13.docx\n",
      "Assignment_14.docx\n",
      "Assignment_18.docx\n",
      "Assignment_2.docx\n",
      "Assignment_21.docx\n",
      "Assignment_3.docx\n",
      "Assignment_4.docx\n",
      "Assignment_5.docx\n",
      "Assignment_6.docx\n",
      "Assignment_7.docx\n",
      "Assignment_8.docx\n",
      "Assignment_9.docx\n",
      "today.txt\n",
      "zoo.py\n",
      "assignment 15-checkpoint.ipynb\n",
      "assignment 16-checkpoint.ipynb\n",
      "assignment 17-checkpoint.ipynb\n",
      "assignment 18-checkpoint.ipynb\n",
      "assignment 19-checkpoint.ipynb\n",
      "assignment 20-checkpoint.ipynb\n",
      "assignment 21-checkpoint.ipynb\n",
      "assignment 22-checkpoint.ipynb\n",
      "assignment 23-checkpoint.ipynb\n",
      "assignment 24-checkpoint.ipynb\n",
      "assignment 25-checkpoint.ipynb\n",
      "zoo.cpython-38.pyc\n"
     ]
    }
   ],
   "source": [
    "#4\n",
    "\n",
    "import os\n",
    "for folders, subfolders, files in os.walk(os.getcwd()):\n",
    "    for file in files:\n",
    "        print(file)"
   ]
  },
  {
   "cell_type": "code",
   "execution_count": 5,
   "metadata": {},
   "outputs": [
    {
     "data": {
      "text/plain": [
       "['.ipynb_checkpoints',\n",
       " 'assignment 15.ipynb',\n",
       " 'assignment 16.ipynb',\n",
       " 'assignment 17.ipynb',\n",
       " 'assignment 18.ipynb',\n",
       " 'assignment 19.ipynb',\n",
       " 'assignment 20.ipynb',\n",
       " 'assignment 21.ipynb',\n",
       " 'assignment 22.ipynb',\n",
       " 'assignment 23.ipynb',\n",
       " 'assignment 24.ipynb',\n",
       " 'assignment 25.ipynb',\n",
       " 'Assignment_1.docx',\n",
       " 'Assignment_10.docx',\n",
       " 'Assignment_11.docx',\n",
       " 'Assignment_12.docx',\n",
       " 'Assignment_13.docx',\n",
       " 'Assignment_14.docx',\n",
       " 'Assignment_18.docx',\n",
       " 'Assignment_2.docx',\n",
       " 'Assignment_21.docx',\n",
       " 'Assignment_3.docx',\n",
       " 'Assignment_4.docx',\n",
       " 'Assignment_5.docx',\n",
       " 'Assignment_6.docx',\n",
       " 'Assignment_7.docx',\n",
       " 'Assignment_8.docx',\n",
       " 'Assignment_9.docx',\n",
       " 'today.txt',\n",
       " 'zoo.py',\n",
       " '__pycache__']"
      ]
     },
     "execution_count": 5,
     "metadata": {},
     "output_type": "execute_result"
    }
   ],
   "source": [
    "#5\n",
    "\n",
    "import os \n",
    "os.listdir()"
   ]
  },
  {
   "cell_type": "code",
   "execution_count": 13,
   "metadata": {},
   "outputs": [],
   "source": [
    "#6\n",
    "\n",
    "import multiprocessing\n",
    "import time \n",
    "import random\n",
    "import datetime\n",
    "\n",
    "def procOne():\n",
    "    print(f'Proc_one_Starttime -> {datetime.datetime.now()}')\n",
    "    time.sleep(random.randint(1,5))\n",
    "    print(f'Proc_one_Endtime -> {datetime.datetime.now()}')\n",
    "    \n",
    "def procTwo():\n",
    "    print(f'Proc_two_Starttime -> {datetime.datetime.now()}')\n",
    "    time.sleep(random.randint(1,5))\n",
    "    print(f'Proc_two_Endtime -> {datetime.datetime.now()}')\n",
    "\n",
    "def procThree():\n",
    "    print(f'Proc_two_Starttime -> {datetime.datetime.now()}')\n",
    "    time.sleep(random.randint(1,5))\n",
    "    print(f'Proc_two_Endtime -> {datetime.datetime.now()}')\n",
    "      \n",
    "p1 = multiprocessing.Process(target=procOne)\n",
    "p2 = multiprocessing.Process(target=procTwo)\n",
    "p3 = multiprocessing.Process(target=procThree)\n",
    "\n",
    "p1.start()\n",
    "p2.start()\n",
    "p3.start()\n",
    "\n",
    "p1.join()\n",
    "p2.join()\n",
    "p3.join()"
   ]
  },
  {
   "cell_type": "markdown",
   "metadata": {},
   "source": [
    "run the above code in other ide to get the output"
   ]
  },
  {
   "cell_type": "code",
   "execution_count": 7,
   "metadata": {},
   "outputs": [
    {
     "name": "stdout",
     "output_type": "stream",
     "text": [
      "1997-04-22 00:00:00 <class 'datetime.datetime'>\n"
     ]
    }
   ],
   "source": [
    "#7\n",
    "\n",
    "from datetime import datetime\n",
    "my_dob = datetime.strptime('22/04/1997','%d/%m/%Y')\n",
    "print(my_dob, type(my_dob))"
   ]
  },
  {
   "cell_type": "code",
   "execution_count": 8,
   "metadata": {},
   "outputs": [
    {
     "data": {
      "text/plain": [
       "'Tuesday'"
      ]
     },
     "execution_count": 8,
     "metadata": {},
     "output_type": "execute_result"
    }
   ],
   "source": [
    "#8\n",
    "\n",
    "from datetime import datetime\n",
    "my_dob = datetime(1997,4,22)\n",
    "my_dob.strftime(\"%A\")"
   ]
  },
  {
   "cell_type": "code",
   "execution_count": 9,
   "metadata": {},
   "outputs": [
    {
     "data": {
      "text/plain": [
       "datetime.datetime(1969, 12, 5, 0, 0)"
      ]
     },
     "execution_count": 9,
     "metadata": {},
     "output_type": "execute_result"
    }
   ],
   "source": [
    "#9\n",
    "\n",
    "from datetime import datetime, timedelta\n",
    "my_dob = datetime.strptime(\"22/04/1997\",'%d/%m/%Y')\n",
    "future_date = my_dob-timedelta(10000)\n",
    "future_date"
   ]
  },
  {
   "cell_type": "code",
   "execution_count": null,
   "metadata": {},
   "outputs": [],
   "source": []
  }
 ],
 "metadata": {
  "kernelspec": {
   "display_name": "Python 3",
   "language": "python",
   "name": "python3"
  },
  "language_info": {
   "codemirror_mode": {
    "name": "ipython",
    "version": 3
   },
   "file_extension": ".py",
   "mimetype": "text/x-python",
   "name": "python",
   "nbconvert_exporter": "python",
   "pygments_lexer": "ipython3",
   "version": "3.8.8"
  }
 },
 "nbformat": 4,
 "nbformat_minor": 4
}
