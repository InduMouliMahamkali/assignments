{
 "cells": [
  {
   "cell_type": "markdown",
   "metadata": {},
   "source": [
    "1. What is the result of the code, and why?\n",
    "def func(a, b=6, c=8):\n",
    "    print(a, b, c)\n",
    "func(1, 2)\n",
    "2. What is the result of this code, and why?\n",
    "def func(a, b, c=5):\n",
    "    print(a, b, c)\n",
    "func(1, c=3, b=2)\n",
    "3. How about this code: what is its result, and why?\n",
    "def func(a, *pargs):\n",
    "    print(a, pargs)\n",
    "func(1, 2, 3)\n",
    "4. What does this code print, and why?\n",
    "def func(a, **kargs):\n",
    "    print(a, kargs)\n",
    "func(a=1, c=3, b=2)\n",
    "5. What gets printed by this, and explain?\n",
    "def func(a, b, c=8, d=5): print(a, b, c, d)\n",
    "func(1, *(5, 6))\n",
    "6. what is the result of this, and explain?\n",
    "def func(a, b, c): a = 2; b[0] = 'x'; c['a'] = 'y'\n",
    "l=1; m=[1]; n={'a':0}\n",
    "func(l, m, n)\n",
    "l, m, n"
   ]
  },
  {
   "cell_type": "code",
   "execution_count": 5,
   "metadata": {},
   "outputs": [
    {
     "name": "stdout",
     "output_type": "stream",
     "text": [
      "1 2 8\n",
      "Here we defined the function arguments a,b,c in the func() definition, but while calling the function we overrided the \n",
      "argument b and retains the value of c\n"
     ]
    }
   ],
   "source": [
    "#question 1\n",
    "\n",
    "def func(a, b=6, c=8):\n",
    "    print(a, b, c)\n",
    "func(1, 2)\n",
    "print('Here we defined the function arguments a,b,c in the func() definition, but while calling the function we overrided the \\nargument b and retains the value of c')"
   ]
  },
  {
   "cell_type": "code",
   "execution_count": 6,
   "metadata": {},
   "outputs": [
    {
     "name": "stdout",
     "output_type": "stream",
     "text": [
      "1 2 3\n",
      " in the above code even though the order of the arguments are changed during the function call we have specified the \n",
      "argument and have overrided the argument c\n"
     ]
    }
   ],
   "source": [
    "#question 2\n",
    "\n",
    "def func(a, b, c=5):\n",
    "    print(a, b, c)\n",
    "func(1, c=3, b=2)\n",
    "print(' in the above code even though the order of the arguments are changed during the function call we have specified the \\nargument and have overrided the argument c')"
   ]
  },
  {
   "cell_type": "code",
   "execution_count": 7,
   "metadata": {},
   "outputs": [
    {
     "name": "stdout",
     "output_type": "stream",
     "text": [
      "1 (2, 3)\n",
      " here we gave the argument called as *kwargs where we can provide many arguments and we provided two arguments 2 and 3\n"
     ]
    }
   ],
   "source": [
    "#question 3\n",
    "\n",
    "def func(a, *pargs):\n",
    "    print(a, pargs)\n",
    "func(1, 2, 3)\n",
    "print(\" here we gave the argument called as *kwargs where we can provide many arguments and we provided two arguments 2 and 3\")"
   ]
  },
  {
   "cell_type": "code",
   "execution_count": 8,
   "metadata": {},
   "outputs": [
    {
     "name": "stdout",
     "output_type": "stream",
     "text": [
      "1 {'c': 3, 'b': 2}\n",
      "here we gave the keyword argument called *kwargs, where we can provide many key value pairs and we provided keys of a,b,c\n"
     ]
    }
   ],
   "source": [
    "#question 4\n",
    "\n",
    "def func(a, **kargs):\n",
    "    print(a, kargs)\n",
    "func(a=1, c=3, b=2)\n",
    "\n",
    "print('here we gave the keyword argument called *kwargs, where we can provide many key value pairs and we provided keys of a,b,c')"
   ]
  },
  {
   "cell_type": "code",
   "execution_count": 10,
   "metadata": {},
   "outputs": [
    {
     "name": "stdout",
     "output_type": "stream",
     "text": [
      "1 5 6 5\n",
      "here the function requires four positional arguments, as we mentioned the *args while calling the funtion in parantheses \n",
      "those values are positioned to b and c while d remains the same while declaring the function\n"
     ]
    }
   ],
   "source": [
    "#question 5\n",
    "\n",
    "def func(a, b, c=8, d=5): print(a, b, c, d)\n",
    "func(1, *(5, 6))\n",
    "print('here the function requires four positional arguments, as we mentioned the *args while calling the funtion in parantheses \\nthose values are positioned to b and c while d remains the same while declaring the function')"
   ]
  },
  {
   "cell_type": "code",
   "execution_count": 19,
   "metadata": {},
   "outputs": [
    {
     "data": {
      "text/plain": [
       "(1, ['x'], {'a': 'y'})"
      ]
     },
     "execution_count": 19,
     "metadata": {},
     "output_type": "execute_result"
    }
   ],
   "source": [
    "#question 6\n",
    "\n",
    "def func(a, b, c): a = 2; b[0] = 'x'; c['a'] = 'y'\n",
    "l=1; m=[1]; n={'a':0}\n",
    "func(l, m, n)\n",
    "l,m,n\n"
   ]
  },
  {
   "cell_type": "code",
   "execution_count": 20,
   "metadata": {},
   "outputs": [
    {
     "name": "stdout",
     "output_type": "stream",
     "text": [
      "here we have just overrided the arguments a,b,c in the function definition to l,m,n and called the func() function \n"
     ]
    }
   ],
   "source": [
    "print('here we have just overrided the arguments a,b,c in the function definition to l,m,n and called the func() function ')"
   ]
  },
  {
   "cell_type": "code",
   "execution_count": null,
   "metadata": {},
   "outputs": [],
   "source": []
  }
 ],
 "metadata": {
  "kernelspec": {
   "display_name": "Python 3",
   "language": "python",
   "name": "python3"
  },
  "language_info": {
   "codemirror_mode": {
    "name": "ipython",
    "version": 3
   },
   "file_extension": ".py",
   "mimetype": "text/x-python",
   "name": "python",
   "nbconvert_exporter": "python",
   "pygments_lexer": "ipython3",
   "version": "3.8.5"
  }
 },
 "nbformat": 4,
 "nbformat_minor": 4
}
