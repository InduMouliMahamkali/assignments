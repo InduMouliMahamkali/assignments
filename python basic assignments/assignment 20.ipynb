{
 "cells": [
  {
   "cell_type": "markdown",
   "metadata": {},
   "source": [
    "1. Set the variable test1 to the string 'This is a test of the emergency text system,' and save test1 to a file named test.txt.\n",
    "2. Read the contents of the file test.txt into the variable test2. Is there a difference between test 1 and test 2?\n",
    "3. Create a CSV file called books.csv by using these lines:\n",
    "title,author,year\n",
    "The Weirdstone of Brisingamen,Alan Garner,1960\n",
    "Perdido Street Station,China Miéville,2000\n",
    "Thud!,Terry Pratchett,2005\n",
    "The Spellman Files,Lisa Lutz,2007\n",
    "Small Gods,Terry Pratchett,1992\n",
    "4. Use the sqlite3 module to create a SQLite database called books.db, and a table called books with these fields: title (text), author (text), and year (integer).\n",
    "5. Read books.csv and insert its data into the book table.\n",
    "6. Select and print the title column from the book table in alphabetical order.\n",
    "7. From the book table, select and print all columns in the order of publication.\n",
    "8. Use the sqlalchemy module to connect to the sqlite3 database books.db that you just made in exercise 6.\n",
    "9. Install the Redis server and the Python redis library (pip install redis) on your computer. Create a Redis hash called test with the fields count (1) and name ('Fester Bestertester'). Print all the fields for test.\n",
    "10. Increment the count field of test and print it.\n",
    "\n"
   ]
  },
  {
   "cell_type": "code",
   "execution_count": 1,
   "metadata": {},
   "outputs": [],
   "source": [
    "#question 1\n",
    "\n",
    "test1=open('test.txt','w+')\n",
    "test1.write('This is a test of the emergency text system')\n",
    "test1.close()"
   ]
  },
  {
   "cell_type": "code",
   "execution_count": 2,
   "metadata": {},
   "outputs": [
    {
     "name": "stdout",
     "output_type": "stream",
     "text": [
      "This is a test of the emergency text system\n"
     ]
    }
   ],
   "source": [
    "#question 2\n",
    "\n",
    "test1=open('test.txt','r')\n",
    "print(test1.read())"
   ]
  },
  {
   "cell_type": "code",
   "execution_count": 3,
   "metadata": {},
   "outputs": [
    {
     "name": "stdout",
     "output_type": "stream",
     "text": [
      "This is a test of the emergency text system\n"
     ]
    }
   ],
   "source": [
    "test2=open('test.txt','r')\n",
    "print(test2.read())"
   ]
  },
  {
   "cell_type": "code",
   "execution_count": 15,
   "metadata": {},
   "outputs": [
    {
     "data": {
      "text/html": [
       "<div>\n",
       "<style scoped>\n",
       "    .dataframe tbody tr th:only-of-type {\n",
       "        vertical-align: middle;\n",
       "    }\n",
       "\n",
       "    .dataframe tbody tr th {\n",
       "        vertical-align: top;\n",
       "    }\n",
       "\n",
       "    .dataframe thead th {\n",
       "        text-align: right;\n",
       "    }\n",
       "</style>\n",
       "<table border=\"1\" class=\"dataframe\">\n",
       "  <thead>\n",
       "    <tr style=\"text-align: right;\">\n",
       "      <th></th>\n",
       "      <th>title</th>\n",
       "      <th>author</th>\n",
       "      <th>year</th>\n",
       "    </tr>\n",
       "  </thead>\n",
       "  <tbody>\n",
       "    <tr>\n",
       "      <th>0</th>\n",
       "      <td>The Weirdstone of Brisingamen</td>\n",
       "      <td>Alan Garner</td>\n",
       "      <td>1960</td>\n",
       "    </tr>\n",
       "    <tr>\n",
       "      <th>1</th>\n",
       "      <td>Perdido Street Station</td>\n",
       "      <td>China Miéville</td>\n",
       "      <td>2000</td>\n",
       "    </tr>\n",
       "    <tr>\n",
       "      <th>2</th>\n",
       "      <td>Thud!</td>\n",
       "      <td>Terry Pratchett</td>\n",
       "      <td>2005</td>\n",
       "    </tr>\n",
       "    <tr>\n",
       "      <th>3</th>\n",
       "      <td>The Spellman Files</td>\n",
       "      <td>Lisa Lutz</td>\n",
       "      <td>2007</td>\n",
       "    </tr>\n",
       "    <tr>\n",
       "      <th>4</th>\n",
       "      <td>Small Gods</td>\n",
       "      <td>Terry Pratchett</td>\n",
       "      <td>1992</td>\n",
       "    </tr>\n",
       "  </tbody>\n",
       "</table>\n",
       "</div>"
      ],
      "text/plain": [
       "                           title           author  year\n",
       "0  The Weirdstone of Brisingamen      Alan Garner  1960\n",
       "1         Perdido Street Station   China Miéville  2000\n",
       "2                          Thud!  Terry Pratchett  2005\n",
       "3             The Spellman Files        Lisa Lutz  2007\n",
       "4                     Small Gods  Terry Pratchett  1992"
      ]
     },
     "execution_count": 15,
     "metadata": {},
     "output_type": "execute_result"
    }
   ],
   "source": [
    "#question 3\n",
    "\n",
    "import pandas as pd\n",
    "\n",
    "#title,author,year\n",
    "#The Weirdstone of Brisingamen,Alan Garner,1960\n",
    "#Perdido Street Station,China Miéville,2000\n",
    "#Thud!,Terry Pratchett,2005\n",
    "#The Spellman Files,Lisa Lutz,2007\n",
    "#Small Gods,Terry Pratchett,1992\n",
    "\n",
    "title=[\"The Weirdstone of Brisingamen\",\"Perdido Street Station\",\"Thud!\",\"The Spellman Files\",\"Small Gods\"]\n",
    "author=[\"Alan Garner\",\"China Miéville\",\"Terry Pratchett\",\"Lisa Lutz\",\"Terry Pratchett\"]\n",
    "year=[1960,2000,2005,2007,1992]\n",
    "\n",
    "dict={'title':title,'author':author,'year':year}\n",
    "\n",
    "df=pd.DataFrame(dict)\n",
    "\n",
    "df.to_csv('books.csv')\n",
    "df"
   ]
  },
  {
   "cell_type": "code",
   "execution_count": 16,
   "metadata": {},
   "outputs": [
    {
     "name": "stdout",
     "output_type": "stream",
     "text": [
      "True\n",
      "Database Created!!\n",
      "Table Created!!\n",
      "Values inserted!!\n"
     ]
    }
   ],
   "source": [
    "#question 4 and 5\n",
    "\n",
    "import mysql.connector as connection\n",
    "import pandas as pd\n",
    "import csv\n",
    "\n",
    "try:\n",
    "    mydb = connection.connect(host=\"localhost\", user=\"root\", passwd=\"mouli\",use_pure=True)\n",
    "    #check if the connection is established\n",
    "    print(mydb.is_connected())\n",
    "    #create a new database\n",
    "    query = \"Create database IF NOT EXISTS booksdb;\"\n",
    "    cursor = mydb.cursor() #create a cursor to execute queries\n",
    "    cursor.execute(query)\n",
    "    print(\"Database Created!!\")\n",
    "    mydb.close() #close the connection\n",
    "\n",
    "    #Establish a new connection to the database created above\n",
    "    mydb = connection.connect(host=\"localhost\", database = 'booksdb',user=\"root\", passwd=\"mouli\", use_pure=True)\n",
    "\n",
    "    #create a new table to store glass data\n",
    "    query = \"CREATE TABLE IF NOT EXISTS books (title VARCHAR(40), author VARCHAR(40), year INT(4))\"\n",
    "    cursor = mydb.cursor()  # create a cursor to execute queries\n",
    "    cursor.execute(query)\n",
    "    print(\"Table Created!!\")\n",
    "    \n",
    "    df=pd.read_csv('C:/Users/Mouli/Documents/ineuron/Assignments questions/python basic assignments/books.csv')\n",
    "    \n",
    "    for index,row in df.iterrows():\n",
    "        cursor.execute(\"INSERT INTO booksdb.books (title,author,year) values(%s,%s,%s)\",(row.title,row.author,row.year)) \n",
    "\n",
    "\n",
    "    print(\"Values inserted!!\")\n",
    "    mydb.commit()\n",
    "    cursor.close()\n",
    "    mydb.close()\n",
    "\n",
    "except Exception as e:\n",
    "    #mydb.close()\n",
    "    print(str(e))"
   ]
  },
  {
   "cell_type": "code",
   "execution_count": 18,
   "metadata": {},
   "outputs": [
    {
     "name": "stdout",
     "output_type": "stream",
     "text": [
      "True\n",
      "                            title\n",
      "0          Perdido Street Station\n",
      "1          Perdido Street Station\n",
      "2          Perdido Street Station\n",
      "3          Perdido Street Station\n",
      "4                      Small Gods\n",
      "5                      Small Gods\n",
      "6                      Small Gods\n",
      "7                      Small Gods\n",
      "8              The Spellman Files\n",
      "9              The Spellman Files\n",
      "10             The Spellman Files\n",
      "11             The Spellman Files\n",
      "12  The Weirdstone of Brisingamen\n",
      "13  The Weirdstone of Brisingamen\n",
      "14  The Weirdstone of Brisingamen\n",
      "15  The Weirdstone of Brisingamen\n",
      "16                          Thud!\n",
      "17                          Thud!\n",
      "18                          Thud!\n",
      "19                          Thud!\n"
     ]
    }
   ],
   "source": [
    "#question 6\n",
    "\n",
    "import mysql.connector as connection\n",
    "import pandas as pandas\n",
    "\n",
    "try:\n",
    "\n",
    "    mydb = connection.connect(host=\"localhost\", database='booksdb', user=\"root\", passwd=\"mouli\", use_pure=True)\n",
    "    # check if the connection is established\n",
    "    print(mydb.is_connected())\n",
    "    query = \"SELECT title FROM booksdb.books ORDER BY title;\"\n",
    "    result_dataFrame = pandas.read_sql(query,mydb)\n",
    "    print(result_dataFrame)\n",
    "\n",
    "    mydb.close()  # close the connection\n",
    "\n",
    "except Exception as e:\n",
    "    #mydb.close()\n",
    "    print(str(e))"
   ]
  },
  {
   "cell_type": "code",
   "execution_count": 20,
   "metadata": {},
   "outputs": [
    {
     "name": "stdout",
     "output_type": "stream",
     "text": [
      "True\n",
      "                            title           author  year\n",
      "0   The Weirdstone of Brisingamen      Alan Garner  1960\n",
      "1   The Weirdstone of Brisingamen      Alan Garner  1960\n",
      "2   The Weirdstone of Brisingamen      Alan Garner  1960\n",
      "3   The Weirdstone of Brisingamen      Alan Garner  1960\n",
      "4                      Small Gods  Terry Pratchett  1992\n",
      "5                      Small Gods  Terry Pratchett  1992\n",
      "6                      Small Gods  Terry Pratchett  1992\n",
      "7                      Small Gods  Terry Pratchett  1992\n",
      "8          Perdido Street Station   China Miéville  2000\n",
      "9          Perdido Street Station   China Miéville  2000\n",
      "10         Perdido Street Station   China Miéville  2000\n",
      "11         Perdido Street Station   China Miéville  2000\n",
      "12                          Thud!  Terry Pratchett  2005\n",
      "13                          Thud!  Terry Pratchett  2005\n",
      "14                          Thud!  Terry Pratchett  2005\n",
      "15                          Thud!  Terry Pratchett  2005\n",
      "16             The Spellman Files        Lisa Lutz  2007\n",
      "17             The Spellman Files        Lisa Lutz  2007\n",
      "18             The Spellman Files        Lisa Lutz  2007\n",
      "19             The Spellman Files        Lisa Lutz  2007\n"
     ]
    }
   ],
   "source": [
    "#question 7\n",
    "\n",
    "import mysql.connector as connection\n",
    "import pandas as pandas\n",
    "\n",
    "try:\n",
    "\n",
    "    mydb = connection.connect(host=\"localhost\", database='booksdb', user=\"root\", passwd=\"mouli\", use_pure=True)\n",
    "    # check if the connection is established\n",
    "    print(mydb.is_connected())\n",
    "    query = \"SELECT * FROM booksdb.books ORDER BY year;\"\n",
    "    result_dataFrame = pandas.read_sql(query,mydb)\n",
    "    print(result_dataFrame)\n",
    "\n",
    "    mydb.close()  # close the connection\n",
    "\n",
    "except Exception as e:\n",
    "    #mydb.close()\n",
    "    print(str(e))"
   ]
  },
  {
   "cell_type": "code",
   "execution_count": 1,
   "metadata": {},
   "outputs": [],
   "source": [
    "#question 8\n",
    "import sqlite3\n",
    "from sqlalchemy import create_engine\n",
    "engine=create_engine('sqlite:///booksdb.db')\n",
    "conn=engine.connect()"
   ]
  },
  {
   "cell_type": "code",
   "execution_count": null,
   "metadata": {},
   "outputs": [],
   "source": [
    "#question 9\n",
    "import redis\n",
    "conn = redis.Redis()\n",
    "conn.hset('test', {'count': 1, 'name': 'Fester Bestertester'})\n",
    "conn.hgetall('test')\n",
    "\n"
   ]
  },
  {
   "cell_type": "code",
   "execution_count": null,
   "metadata": {},
   "outputs": [],
   "source": [
    "#question 10\n",
    "conn.hincrby('test', 'count', 3)\n",
    "conn.hget('test', 'count')"
   ]
  }
 ],
 "metadata": {
  "kernelspec": {
   "display_name": "Python 3",
   "language": "python",
   "name": "python3"
  },
  "language_info": {
   "codemirror_mode": {
    "name": "ipython",
    "version": 3
   },
   "file_extension": ".py",
   "mimetype": "text/x-python",
   "name": "python",
   "nbconvert_exporter": "python",
   "pygments_lexer": "ipython3",
   "version": "3.8.5"
  }
 },
 "nbformat": 4,
 "nbformat_minor": 4
}
