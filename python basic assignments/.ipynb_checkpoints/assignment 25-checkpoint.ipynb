{
 "cells": [
  {
   "cell_type": "code",
   "execution_count": 3,
   "metadata": {},
   "outputs": [],
   "source": [
    "#1.What is the difference between enclosing a list comprehension in square brackets and parentheses?\n",
    "#2.What is the relationship between generators and iterators?\n",
    "#3.What are the signs that a function is a generator function?\n",
    "#4.What is the purpose of a yield statement?\n",
    "#5.What is the relationship between map calls and list comprehensions? Make a comparison and contrast between the two."
   ]
  },
  {
   "cell_type": "markdown",
   "metadata": {},
   "source": [
    "# question 1\n",
    "\n",
    "if the list comphrension is enclosed in square brackets[] while generator function is enclosed in parentheses()"
   ]
  },
  {
   "cell_type": "markdown",
   "metadata": {},
   "source": [
    "# question 2\n",
    "\n",
    "generators: are the functions which yields the sequence of values using yield() method. Every generator is an iterator.\n",
    "\n",
    "iterators: are the objects which uses next() method to get the next value of a sequence. Every iterator is not a generator."
   ]
  },
  {
   "cell_type": "markdown",
   "metadata": {},
   "source": [
    "# question 3\n",
    "\n",
    "1. functions are used to implement a generator function\n",
    "2. all the local variables are stored before yield function\n",
    "3. generator are mostly used in loops to generate an iterator by returing a value.\n",
    "4. generator uses yield keyword."
   ]
  },
  {
   "cell_type": "markdown",
   "metadata": {},
   "source": [
    "# question 4\n",
    "\n",
    "yield is much like a return statement, insteas of stopping the execution of the function and returning yied provides the value of the code looping over the generator."
   ]
  },
  {
   "cell_type": "markdown",
   "metadata": {},
   "source": [
    "# question 5\n",
    "\n",
    "List comprehension is easier to read as compared to map. List comprehension are used when a list of results is required, as map only returns a map object and does not return any list. Map is faster in case of calling an already defined function."
   ]
  },
  {
   "cell_type": "code",
   "execution_count": null,
   "metadata": {},
   "outputs": [],
   "source": []
  }
 ],
 "metadata": {
  "kernelspec": {
   "display_name": "Python 3",
   "language": "python",
   "name": "python3"
  },
  "language_info": {
   "codemirror_mode": {
    "name": "ipython",
    "version": 3
   },
   "file_extension": ".py",
   "mimetype": "text/x-python",
   "name": "python",
   "nbconvert_exporter": "python",
   "pygments_lexer": "ipython3",
   "version": "3.8.5"
  }
 },
 "nbformat": 4,
 "nbformat_minor": 4
}
