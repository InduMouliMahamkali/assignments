{
 "cells": [
  {
   "cell_type": "markdown",
   "metadata": {},
   "source": [
    "1. What is the relationship between def statements and lambda expressions ?\n",
    "2. What is the benefit of lambda?\n",
    "3. Compare and contrast map, filter, and reduce.\n",
    "4. What are function annotations, and how are they used?\n",
    "5. What are recursive functions, and how are they used?\n",
    "6. What are some general design guidelines for coding functions?\n",
    "7. Name three or more ways that functions can communicate results to a caller."
   ]
  },
  {
   "cell_type": "markdown",
   "metadata": {},
   "source": [
    "# question 1\n",
    "\n",
    "def statement creates a funcction object and binds it to a name and has no value, while a lambda expression consists of only one expression which evaluates to a function object"
   ]
  },
  {
   "cell_type": "markdown",
   "metadata": {},
   "source": [
    "# question 2\n",
    "\n",
    "lambda helps in declaring a small anonymous function and can be used whenever function object is required."
   ]
  },
  {
   "cell_type": "markdown",
   "metadata": {},
   "source": [
    "# question 3\n",
    "\n",
    "map() and filter() function iterates through all items in the given iterable and executes the function, but here the filter() function creates a new list. \n",
    "\n",
    "reduce() works differently than map() and filter() as it does not return a new list based on the function and iteranle we've passed thus returns a single value."
   ]
  },
  {
   "cell_type": "markdown",
   "metadata": {},
   "source": [
    "# question 4\n",
    "\n",
    "annotations in python provide various parts of functions with arbitary python expression at compile time, they are completly optional both for parameters and return value.example:"
   ]
  },
  {
   "cell_type": "code",
   "execution_count": 3,
   "metadata": {},
   "outputs": [
    {
     "name": "stdout",
     "output_type": "stream",
     "text": [
      "1\n"
     ]
    }
   ],
   "source": [
    "def func(x:'annotating x', y: 'annotating y', z: int) -> float: print(x + y + z)\n",
    "func(3,7,-9)"
   ]
  },
  {
   "cell_type": "markdown",
   "metadata": {},
   "source": [
    "# question 5\n",
    "\n",
    "A recursive function is a function that calls itself during its execution, this process may repeat several times returns the output at the end of every iteration. this are used for working on things that have many possible branches and are too complex for iterative approach. example:"
   ]
  },
  {
   "cell_type": "markdown",
   "metadata": {},
   "source": [
    "# question 6\n",
    "\n",
    "1) limited use of global variable \n",
    "2) naming convention for variables, constants and functions \n",
    "3) proper indentation \n",
    "4) proper return values for exceptional handling\n",
    "5) donot use difficult code style nad maintain modularity\n",
    "6) code should be well documented"
   ]
  },
  {
   "cell_type": "markdown",
   "metadata": {},
   "source": [
    "# question 7\n",
    "\n",
    "in python we can call the function through either\n",
    "1. call by value\n",
    "2. call bny reference"
   ]
  },
  {
   "cell_type": "markdown",
   "metadata": {},
   "source": []
  }
 ],
 "metadata": {
  "kernelspec": {
   "display_name": "Python 3",
   "language": "python",
   "name": "python3"
  },
  "language_info": {
   "codemirror_mode": {
    "name": "ipython",
    "version": 3
   },
   "file_extension": ".py",
   "mimetype": "text/x-python",
   "name": "python",
   "nbconvert_exporter": "python",
   "pygments_lexer": "ipython3",
   "version": "3.8.5"
  }
 },
 "nbformat": 4,
 "nbformat_minor": 4
}
