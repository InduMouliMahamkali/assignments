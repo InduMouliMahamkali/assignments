{
 "cells": [
  {
   "cell_type": "markdown",
   "metadata": {},
   "source": [
    "#1. What is the result of the code, and explain?\n",
    "\n",
    "\n",
    "X = 'iNeuron'\n",
    "def func():\n",
    "print(X)\n",
    "\n",
    "\n",
    "func()\n",
    "\n",
    "\n",
    "#2. What is the result of the code, and explain?\n",
    "\n",
    "\n",
    "X = 'iNeuron'\n",
    "def func():\n",
    "    X = 'NI!'\n",
    "\n",
    "\n",
    "func()\n",
    "print(X)\n",
    "\n",
    "\n",
    "#3 What does this code print, and why?\n",
    "\n",
    "\n",
    "X = 'iNeuron'\n",
    "def func():\n",
    "    X = 'NI'\n",
    "print(X)\n",
    "\n",
    "\n",
    "func()\n",
    "print(X)\n",
    "\n",
    "\n",
    "#4. What output does this code produce? Why?\n",
    "\n",
    "\n",
    "X = 'iNeuron'\n",
    "def func():\n",
    "    global X\n",
    "    X = 'NI'\n",
    "\n",
    "\n",
    "func()\n",
    "print(X)\n",
    "\n",
    "\n",
    "#5. What about this code—what’s the output, and why?\n",
    "\n",
    "\n",
    "X = 'iNeuron'\n",
    "def func():\n",
    "    X = 'NI'\n",
    "def nested():\n",
    "    print(X)\n",
    "nested()\n",
    "\n",
    "\n",
    "func()\n",
    "X\n",
    "\n",
    "\n",
    "#6. How about this code: what is its output in Python 3, and explain?\n",
    "\n",
    "\n",
    "def func():\n",
    "    X = 'NI'\n",
    "def nested():\n",
    "    nonlocal X\n",
    "    X = 'Spam'\n",
    "nested()\n",
    "print(X)\n",
    "\n",
    "\n",
    "func()"
   ]
  },
  {
   "cell_type": "code",
   "execution_count": 9,
   "metadata": {},
   "outputs": [
    {
     "name": "stdout",
     "output_type": "stream",
     "text": [
      "iNeuron\n",
      " Here the fun definition is inheriting the global X value\n"
     ]
    }
   ],
   "source": [
    "#question 1\n",
    "\n",
    "X = 'iNeuron' \n",
    "def func():\n",
    "    print(X)\n",
    "\n",
    "\n",
    "func()\n",
    "print(\" Here the fun definition is inheriting the global X value\")"
   ]
  },
  {
   "cell_type": "code",
   "execution_count": 10,
   "metadata": {},
   "outputs": [
    {
     "name": "stdout",
     "output_type": "stream",
     "text": [
      "iNeuron\n",
      "Here the fun definition is locally changing the value of X, hence the global value is not affected \n"
     ]
    }
   ],
   "source": [
    "#question 2\n",
    "X = 'iNeuron'\n",
    "def func():\n",
    "    X = 'NI!'\n",
    "\n",
    "\n",
    "func()\n",
    "print(X)\n",
    "print(\"Here the fun definition is locally changing the value of X, hence the global value is not affected \")"
   ]
  },
  {
   "cell_type": "code",
   "execution_count": 11,
   "metadata": {},
   "outputs": [
    {
     "name": "stdout",
     "output_type": "stream",
     "text": [
      "NI\n",
      "iNeuron\n",
      "Here also we are changing the the value of variable of x locally but, here we are printing both the function value and the \n",
      "global value \n"
     ]
    }
   ],
   "source": [
    "#question 3\n",
    "\n",
    "X = 'iNeuron'\n",
    "def func():\n",
    "    X = 'NI'\n",
    "    print(X)\n",
    "\n",
    "\n",
    "func()\n",
    "print(X)\n",
    "print(\"Here also we are changing the the value of variable of x locally but, here we are printing both the function value and the \\nglobal value \")"
   ]
  },
  {
   "cell_type": "code",
   "execution_count": 12,
   "metadata": {},
   "outputs": [
    {
     "name": "stdout",
     "output_type": "stream",
     "text": [
      "NI\n",
      "Here we are changing the value of variable X globally in the func() degfiniton. Hence the value gets changed globally\n"
     ]
    }
   ],
   "source": [
    "#question 4\n",
    "\n",
    "X = 'iNeuron'\n",
    "def func():\n",
    "    global X\n",
    "    X = 'NI'\n",
    "\n",
    "\n",
    "func()\n",
    "print(X)\n",
    "print(\"Here we are changing the value of variable X globally in the func() degfiniton. Hence the value gets changed globally\")"
   ]
  },
  {
   "cell_type": "code",
   "execution_count": 17,
   "metadata": {},
   "outputs": [
    {
     "name": "stdout",
     "output_type": "stream",
     "text": [
      "iNeuron\n",
      "Here the value of variable of variable X is changed locally in func() definition and the value of variable is inherited \n",
      "by the nested() function definition and finally we are calling the variable X\n"
     ]
    }
   ],
   "source": [
    "#question 5\n",
    "\n",
    "X = 'iNeuron'\n",
    "def func():\n",
    "    X = 'NI'\n",
    "def nested():\n",
    "    print(X)\n",
    "nested()\n",
    "\n",
    "func()\n",
    "X\n",
    "print(\"Here the value of variable of variable X is changed locally in func() definition and the value of variable is inherited \\nby the nested() function definition and finally we are calling the variable X\")"
   ]
  },
  {
   "cell_type": "code",
   "execution_count": 15,
   "metadata": {},
   "outputs": [
    {
     "name": "stdout",
     "output_type": "stream",
     "text": [
      "Spam\n",
      "In the above code, there is a nested nested() function. We use nonlocal keywords to create a nonlocal variable. \n",
      "The nested() function is defined in the scope of another function func().\n"
     ]
    }
   ],
   "source": [
    "#question 6\n",
    "\n",
    "def func():\n",
    "    X = 'NI'\n",
    "    def nested():\n",
    "        nonlocal X\n",
    "        X = 'Spam'\n",
    "    nested()\n",
    "    print(X)\n",
    "\n",
    "\n",
    "func()\n",
    "print(\"In the above code, there is a nested nested() function. We use nonlocal keywords to create a nonlocal variable. \\nThe nested() function is defined in the scope of another function func().\")"
   ]
  },
  {
   "cell_type": "code",
   "execution_count": null,
   "metadata": {},
   "outputs": [],
   "source": []
  }
 ],
 "metadata": {
  "kernelspec": {
   "display_name": "Python 3",
   "language": "python",
   "name": "python3"
  },
  "language_info": {
   "codemirror_mode": {
    "name": "ipython",
    "version": 3
   },
   "file_extension": ".py",
   "mimetype": "text/x-python",
   "name": "python",
   "nbconvert_exporter": "python",
   "pygments_lexer": "ipython3",
   "version": "3.8.5"
  }
 },
 "nbformat": 4,
 "nbformat_minor": 4
}
