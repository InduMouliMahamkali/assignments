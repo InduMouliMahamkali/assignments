{
 "cells": [
  {
   "cell_type": "markdown",
   "metadata": {},
   "source": [
    "Q1. What is the meaning of multiple inheritance?\n",
    "\n",
    "\n",
    "\n",
    "Q2. What is the concept of delegation?\n",
    "\n",
    "\n",
    "\n",
    "Q3. What is the concept of composition?\n",
    "\n",
    "\n",
    "\n",
    "Q4. What are bound methods and how do we use them?\n",
    "\n",
    "\n",
    "\n",
    "Q5. What is the purpose of pseudoprivate attributes?\n"
   ]
  },
  {
   "cell_type": "markdown",
   "metadata": {},
   "source": [
    "#answer 1\n",
    "\n",
    "when the class or object inherits characteristics from one or more parent classes or objects it is called as mjultiple inheritance"
   ]
  },
  {
   "cell_type": "markdown",
   "metadata": {},
   "source": [
    "#answer 2\n",
    "\n",
    "Delegation is the process of shifting the authority and responsibility of particular function, task or decision to another."
   ]
  },
  {
   "cell_type": "markdown",
   "metadata": {},
   "source": [
    "#answer 3\n",
    "\n",
    "Composit is a concept where a class can contain relationship with different class components with different complex objects and other types."
   ]
  },
  {
   "cell_type": "markdown",
   "metadata": {},
   "source": [
    "#answer 4\n",
    "\n",
    "bound method is the one which is dependent on the instance of the class as the first argument."
   ]
  },
  {
   "cell_type": "markdown",
   "metadata": {},
   "source": [
    "#answer 5\n",
    "\n",
    "pseudo private attributes are created in an objects internal methods that can be accessed by the object as an private attribute"
   ]
  }
 ],
 "metadata": {
  "kernelspec": {
   "display_name": "Python 3",
   "language": "python",
   "name": "python3"
  },
  "language_info": {
   "codemirror_mode": {
    "name": "ipython",
    "version": 3
   },
   "file_extension": ".py",
   "mimetype": "text/x-python",
   "name": "python",
   "nbconvert_exporter": "python",
   "pygments_lexer": "ipython3",
   "version": "3.8.5"
  }
 },
 "nbformat": 4,
 "nbformat_minor": 4
}
