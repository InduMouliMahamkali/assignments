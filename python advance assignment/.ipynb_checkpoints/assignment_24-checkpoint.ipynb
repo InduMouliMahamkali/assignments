{
 "cells": [
  {
   "cell_type": "markdown",
   "id": "25f24f63",
   "metadata": {},
   "source": [
    " Q1. Is it permissible to use several import statements to import the same module? What would the goal be? Can you think of a situation where it would be beneficial?\n",
    "\n",
    "Q2. What are some of a module's characteristics? (Name at least one.)\n",
    "\n",
    "Q3. Circular importing, such as when two modules import each other, can lead to dependencies and bugs that aren't visible. How can you go about creating a program that avoids mutual importing?\n",
    "\n",
    "Q4. Why is  _ _all_ _ in Python?\n",
    "\n",
    "Q5. In what situation is it useful to refer to the _ _name_ _ attribute or the string '_ _main_ _'?\n",
    "\n",
    "Q6. What are some of the benefits of attaching a program counter to the RPN interpreter application, which interprets an RPN script line by line?\n",
    "\n",
    "Q7. What are the minimum expressions or statements (or both) that you'd need to render a basic programming language like RPN primitive but complete— that is, capable of carrying out any computerised task theoretically possible?\n"
   ]
  },
  {
   "cell_type": "markdown",
   "id": "c01f277f",
   "metadata": {},
   "source": [
    "# Answer 1\n",
    "\n",
    "Yes, it is permissible to use several import statements to import the same module. It is used in case when we have to import multiple functions from same module."
   ]
  },
  {
   "cell_type": "markdown",
   "id": "21cc9d6d",
   "metadata": {},
   "source": [
    "# Answer 2\n",
    "\n",
    "\n",
    "__name__ : It returns the name of the module\n",
    "\n",
    "__doc__ : It denotes the documentation string line written in a module code.\n",
    "\n",
    "__file__ : It holds the name and path of the module file from which it is loaded.\n",
    "\n",
    "___dict___ : It return a dictionary object of module attributes, functions and other definitions and their respective values.\n",
    "\n",
    "___str___ : returns the string representation of the object."
   ]
  },
  {
   "cell_type": "markdown",
   "id": "6d9a797a",
   "metadata": {},
   "source": [
    "# Answer 3\n",
    "\n",
    "Circular importing means importing the two modules in each other. If suppose we are wokring in MOD1.py file and it is importing some function say F2() from some other module say MOD2.PY file or we can do vice-versa. What will happen is: This will give an import error.\n",
    "\n",
    "This is because when we import F2() function from module MOD2.py, then this will execute MOD2.py file. And in MOD2.py file there is an another statement of importing MOD1.py module.\n",
    "\n",
    "This will result in endless loop. To avoid this error just do one thingWe can use if name == 'main'\n",
    "\n",
    "In the function, you can't directly refer to the function in the program. The addition of this sentence avoids the endless loop of the program ."
   ]
  },
  {
   "cell_type": "markdown",
   "id": "aa6499b8",
   "metadata": {},
   "source": [
    "# Answer 4\n",
    "\n",
    "It provides list of all modules present in a library."
   ]
  },
  {
   "cell_type": "markdown",
   "id": "f5d74a04",
   "metadata": {},
   "source": [
    "# Answer 5\n",
    "\n",
    "During the time of execution of the code if we want to refer the module in which we are working on then we uses name attribute. In that case it will return the module in which we are working on. Suppose if that moudle is being imported from some other module then name will have the name of that moudle from where the current module has been imported. The current module in which we are working is refer to the string main ."
   ]
  },
  {
   "cell_type": "markdown",
   "id": "3c61f052",
   "metadata": {},
   "source": [
    "# Answer 6\n",
    "\n",
    "RPN wliminates the need for parentheses and resuces tje key strokes op users can complete calculations more quickly amd efficietly."
   ]
  },
  {
   "cell_type": "markdown",
   "id": "fbe16841",
   "metadata": {},
   "source": [
    "# Answer 7\n",
    "\n",
    "there must be atleas 1 one expression or statement to the right of the = symbol, by which the value is assigned toe the variable the left of the =."
   ]
  },
  {
   "cell_type": "code",
   "execution_count": null,
   "id": "c45d3fd1",
   "metadata": {},
   "outputs": [],
   "source": []
  }
 ],
 "metadata": {
  "kernelspec": {
   "display_name": "Python 3",
   "language": "python",
   "name": "python3"
  },
  "language_info": {
   "codemirror_mode": {
    "name": "ipython",
    "version": 3
   },
   "file_extension": ".py",
   "mimetype": "text/x-python",
   "name": "python",
   "nbconvert_exporter": "python",
   "pygments_lexer": "ipython3",
   "version": "3.8.8"
  }
 },
 "nbformat": 4,
 "nbformat_minor": 5
}
