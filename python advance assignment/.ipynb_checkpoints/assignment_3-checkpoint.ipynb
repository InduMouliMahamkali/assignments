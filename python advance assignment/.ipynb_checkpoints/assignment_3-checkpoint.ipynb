{
 "cells": [
  {
   "cell_type": "markdown",
   "metadata": {},
   "source": [
    "1. What is the concept of an abstract superclass?\n",
    "\n",
    "\n",
    "\n",
    "2. What happens when a class statement's top level contains a basic assignment statement?\n",
    "\n",
    "\n",
    "\n",
    "3. Why does a class need to manually call a superclass's __init__ method?\n",
    "\n",
    "\n",
    "\n",
    "4. How can you augment, instead of completely replacing, an inherited method?\n",
    "\n",
    "\n",
    "\n",
    "5. How is the local scope of a class different from that of a function?\n"
   ]
  },
  {
   "cell_type": "markdown",
   "metadata": {},
   "source": [
    "#answer 1\n",
    "\n",
    "The abstract superclass is the common super class for several subclasses."
   ]
  },
  {
   "cell_type": "markdown",
   "metadata": {},
   "source": [
    "#answer 2\n",
    "\n",
    "If the class statement top level contains basic assignment statement then it is bound to the local namespace "
   ]
  },
  {
   "cell_type": "markdown",
   "metadata": {},
   "source": [
    "#answer 3\n",
    "\n",
    "Instances of a class almost always have instance variables, and they need to be created in __init__ to ensure that every instance automatically has them."
   ]
  },
  {
   "cell_type": "markdown",
   "metadata": {},
   "source": [
    "#answer 4\n",
    "\n",
    "we can augument the subclass method by creating a functionality rather than replacing the entire superclass implementations"
   ]
  },
  {
   "cell_type": "markdown",
   "metadata": {},
   "source": [
    "#answer 5\n",
    "\n",
    "Local scope of a class is not visible to every function."
   ]
  },
  {
   "cell_type": "code",
   "execution_count": null,
   "metadata": {},
   "outputs": [],
   "source": []
  }
 ],
 "metadata": {
  "kernelspec": {
   "display_name": "Python 3",
   "language": "python",
   "name": "python3"
  },
  "language_info": {
   "codemirror_mode": {
    "name": "ipython",
    "version": 3
   },
   "file_extension": ".py",
   "mimetype": "text/x-python",
   "name": "python",
   "nbconvert_exporter": "python",
   "pygments_lexer": "ipython3",
   "version": "3.8.5"
  }
 },
 "nbformat": 4,
 "nbformat_minor": 4
}
