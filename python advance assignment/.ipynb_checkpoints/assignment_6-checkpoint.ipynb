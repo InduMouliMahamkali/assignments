{
 "cells": [
  {
   "cell_type": "markdown",
   "metadata": {},
   "source": [
    "Q1. Describe three applications for exception processing.\n",
    "\n",
    "\n",
    "\n",
    "Q2. What happens if you don't do something extra to treat an exception?\n",
    "\n",
    "\n",
    "\n",
    "Q3. What are your options for recovering from an exception in your script?\n",
    "\n",
    "\n",
    "\n",
    "Q4. Describe two methods for triggering exceptions in your script.\n",
    "\n",
    "\n",
    "\n",
    "Q5. Identify two methods for specifying actions to be executed at termination time, regardless of whether or not an exception exists.\n"
   ]
  },
  {
   "cell_type": "markdown",
   "metadata": {},
   "source": [
    "#answer 1\n",
    "\n",
    "1.internet communication\n",
    "2.arithmetic exceptions such as division by zero and so on.\n",
    "3.operating systems use exception handling to resolve deadlocks,recover from crash and so forth"
   ]
  },
  {
   "cell_type": "markdown",
   "metadata": {},
   "source": [
    "#answer 2\n",
    "\n",
    "If an exception is arised the system will abort the program and displays the orignal exception message on the console."
   ]
  },
  {
   "cell_type": "markdown",
   "metadata": {},
   "source": [
    "#answer 3\n",
    "\n",
    "If an exception is ought to be occured we simply catch that exceotion and rewrite the program"
   ]
  },
  {
   "cell_type": "markdown",
   "metadata": {},
   "source": [
    "#answer 4\n",
    "\n",
    "We use the in-build try method to catch the exception and raise method catch the own exceptions"
   ]
  },
  {
   "cell_type": "markdown",
   "metadata": {},
   "source": [
    "#answer 5\n",
    "\n",
    "we use the catch block and finally block to excecute regardless of exceptions at runtime."
   ]
  }
 ],
 "metadata": {
  "kernelspec": {
   "display_name": "Python 3",
   "language": "python",
   "name": "python3"
  },
  "language_info": {
   "codemirror_mode": {
    "name": "ipython",
    "version": 3
   },
   "file_extension": ".py",
   "mimetype": "text/x-python",
   "name": "python",
   "nbconvert_exporter": "python",
   "pygments_lexer": "ipython3",
   "version": "3.8.5"
  }
 },
 "nbformat": 4,
 "nbformat_minor": 4
}
