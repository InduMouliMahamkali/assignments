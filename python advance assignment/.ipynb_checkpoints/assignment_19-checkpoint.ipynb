{
 "cells": [
  {
   "cell_type": "markdown",
   "id": "479263c9",
   "metadata": {},
   "source": [
    " Q1. Define the relationship between a class and its instances. Is it a one-to-one or a one-to-many partnership, for example?\n",
    "\n",
    "Q2. What kind of data is held only in an instance?\n",
    "\n",
    "Q3. What kind of knowledge is stored in a class?\n",
    "\n",
    "Q4. What exactly is a method, and how is it different from a regular function?\n",
    "\n",
    "Q5. Is inheritance supported in Python, and if so, what is the syntax?\n",
    "\n",
    "Q6. How much encapsulation (making instance or class variables private) does Python support?\n",
    "\n",
    "Q7. How do you distinguish between a class variable and an instance variable?\n",
    "\n",
    "Q8. When, if ever, can self be included in a class's method definitions?\n",
    "\n",
    "Q9. What is the difference between the _ _add_ _ and the _ _radd_ _ methods?\n",
    "\n",
    "Q10. When is it necessary to use a reflection method? When do you not need it, even though you support the operation in question?\n",
    "\n",
    "Q11. What is the _ _iadd_ _ method called?\n",
    "\n",
    "Q12. Is the _ _init_ _ method inherited by subclasses? What do you do if you need to customize its behavior within a subclass?\n"
   ]
  },
  {
   "cell_type": "markdown",
   "id": "d31ae1d5",
   "metadata": {},
   "source": [
    "# Answer 1\n",
    "\n",
    "Text files are special subset of binary files that are used to store human readable characters as a rich text document or plain text document. Text files also store data in sequential bytes but bits in text file represents characters.\n",
    "\n",
    "Binary files are those typical files that store data in the form of sequence of bytes grouped into eight bits or sometimes sixteen bits. These bits represent custom data and such files can store multiple types of data (images, audio, text, etc) under a single file."
   ]
  },
  {
   "cell_type": "markdown",
   "id": "9d5a03a6",
   "metadata": {},
   "source": [
    "# Answer 2\n",
    "\n",
    "Text files are less prone to get corrupted as any undesired change may just show up once the file is opened and then can easily be removed. Whereas Use binary files instead of text files for image data."
   ]
  },
  {
   "cell_type": "markdown",
   "id": "11264dfb",
   "metadata": {},
   "source": [
    "# Answer 3\n",
    "\n",
    "Binary operations deal with raw data One needs to identify how many bytes one would read or write."
   ]
  },
  {
   "cell_type": "markdown",
   "id": "f1213b07",
   "metadata": {},
   "source": [
    "# Answer 4\n",
    "\n",
    "When a file is opened using the with keyword, if some exceptions occur after opening a file, or at the end of the file it automatically does the closing of the file. There by not leaving an file in open mode and there would no need to explicitly close a file."
   ]
  },
  {
   "cell_type": "markdown",
   "id": "3df12cf9",
   "metadata": {},
   "source": [
    "# Answer 5\n",
    "\n",
    " Yes, Python have the trailing newline while reading a line of text. When we write a newline has to be provided in python excpicitly."
   ]
  },
  {
   "cell_type": "markdown",
   "id": "328d9464",
   "metadata": {},
   "source": [
    "# Answer 6\n",
    "\n",
    "The file operations enable for random-access operation are seek() and tell()"
   ]
  },
  {
   "cell_type": "markdown",
   "id": "e08d1a8d",
   "metadata": {},
   "source": [
    "# Answer 7\n",
    "\n",
    "The struct package is mostly used while converting a common python types into C language types."
   ]
  },
  {
   "cell_type": "markdown",
   "id": "241580f3",
   "metadata": {},
   "source": [
    "# Answer 8\n",
    "\n",
    "Pickling is best option for creating a new binary file using python."
   ]
  },
  {
   "cell_type": "markdown",
   "id": "7f175153",
   "metadata": {},
   "source": [
    "# Answer 9\n",
    "\n",
    "Shelve package is used to pickle data but treats the entire file as dictionary."
   ]
  },
  {
   "cell_type": "markdown",
   "id": "578db624",
   "metadata": {},
   "source": [
    "# Answer 10\n",
    "\n",
    "Only string data type can be used as key in this special dictionary object, whereas any picklable Python object can be used as value."
   ]
  },
  {
   "cell_type": "markdown",
   "id": "841ceca0",
   "metadata": {},
   "source": [
    "# Answer 11\n",
    "\n",
    "This function is used to assign and add the current value. this function is called fro."
   ]
  },
  {
   "cell_type": "markdown",
   "id": "5c7d29f8",
   "metadata": {},
   "source": [
    "# Answer 12\n",
    "\n",
    "We use the super function to customize the subclass."
   ]
  },
  {
   "cell_type": "code",
   "execution_count": null,
   "id": "a0ed8aaf",
   "metadata": {},
   "outputs": [],
   "source": []
  }
 ],
 "metadata": {
  "kernelspec": {
   "display_name": "Python 3",
   "language": "python",
   "name": "python3"
  },
  "language_info": {
   "codemirror_mode": {
    "name": "ipython",
    "version": 3
   },
   "file_extension": ".py",
   "mimetype": "text/x-python",
   "name": "python",
   "nbconvert_exporter": "python",
   "pygments_lexer": "ipython3",
   "version": "3.8.8"
  }
 },
 "nbformat": 4,
 "nbformat_minor": 5
}
