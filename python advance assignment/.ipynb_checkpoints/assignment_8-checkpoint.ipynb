{
 "cells": [
  {
   "cell_type": "markdown",
   "metadata": {},
   "source": [
    "Q1. What are the two latest user-defined exception constraints in Python 3.X?\n",
    "\n",
    "\n",
    "\n",
    "Q2. How are class-based exceptions that have been raised matched to handlers?\n",
    "\n",
    "\n",
    "\n",
    "Q3. Describe two methods for attaching context information to exception artefacts.\n",
    "\n",
    "\n",
    "\n",
    "Q4. Describe two methods for specifying the text of an exception object's error message.\n",
    "\n",
    "\n",
    "\n",
    "Q5. Why do you no longer use string-based exceptions?\n"
   ]
  },
  {
   "cell_type": "markdown",
   "metadata": {},
   "source": [
    "# answer 1\n",
    "\n",
    "multi level exceptions and standard exceptions are the two new constraints in python 3"
   ]
  },
  {
   "cell_type": "markdown",
   "metadata": {},
   "source": [
    "# answer 2\n",
    "\n",
    "The exceptions that can be handled are class based and can be handled between try and endtry."
   ]
  },
  {
   "cell_type": "markdown",
   "metadata": {},
   "source": [
    "# answer 3\n",
    "\n",
    "__context__, __cause__ and __trackback__ are methods for attaching context information to exceptions."
   ]
  },
  {
   "cell_type": "markdown",
   "metadata": {},
   "source": [
    "# answer 4\n",
    "\n",
    "__str__() method and raise method are two methods to specify the text of an exceptions."
   ]
  },
  {
   "cell_type": "markdown",
   "metadata": {},
   "source": [
    "# answer 5\n",
    "\n",
    "we can use both string based and class based exceptions as the class based exceptions are hace many nice properties when used as exceptions it is desirable to migrate to using class based exception handling."
   ]
  },
  {
   "cell_type": "code",
   "execution_count": null,
   "metadata": {},
   "outputs": [],
   "source": []
  }
 ],
 "metadata": {
  "kernelspec": {
   "display_name": "Python 3",
   "language": "python",
   "name": "python3"
  },
  "language_info": {
   "codemirror_mode": {
    "name": "ipython",
    "version": 3
   },
   "file_extension": ".py",
   "mimetype": "text/x-python",
   "name": "python",
   "nbconvert_exporter": "python",
   "pygments_lexer": "ipython3",
   "version": "3.8.5"
  }
 },
 "nbformat": 4,
 "nbformat_minor": 4
}
