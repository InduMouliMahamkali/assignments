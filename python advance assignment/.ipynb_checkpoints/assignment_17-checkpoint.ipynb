{
 "cells": [
  {
   "cell_type": "markdown",
   "id": "296e23be",
   "metadata": {},
   "source": [
    "Q1. Explain the difference between greedy and non-greedy syntax with visual terms in as few words as possible. What is the bare minimum effort required to transform a greedy pattern into a non-greedy one? What characters or characters can you introduce or change?\n",
    "\n",
    "\n",
    "\n",
    "Q2. When exactly does greedy versus non-greedy make a difference?  What if you're looking for a non-greedy match but the only one available is greedy?\n",
    "\n",
    "\n",
    "\n",
    "Q3. In a simple match of a string, which looks only for one match and does not do any replacement, is the use of a nontagged group likely to make any practical difference?\n",
    "\n",
    "\n",
    "\n",
    "Q4. Describe a scenario in which using a nontagged category would have a significant impact on the program's outcomes.\n",
    "\n",
    "\n",
    "\n",
    "Q5. Unlike a normal regex pattern, a look-ahead condition does not consume the characters it examines. Describe a situation in which this could make a difference in the results of your programme.\n",
    "\n",
    "\n",
    "\n",
    "Q6. In standard expressions, what is the difference between positive look-ahead and negative look-ahead?\n",
    "\n",
    "\n",
    "\n",
    "Q7. What is the benefit of referring to groups by name rather than by number in a standard expression?\n",
    "\n",
    "\n",
    "\n",
    "Q8. Can you identify repeated items within a target string using named groups, as in \"The cow jumped over the moon\"?\n",
    "\n",
    "\n",
    "\n",
    "Q9. When parsing a string, what is at least one thing that the Scanner interface does for you that the re.findall feature does not?\n",
    "\n",
    "\n",
    "\n",
    "Q10. Does a scanner object have to be named scanner?\n"
   ]
  },
  {
   "cell_type": "markdown",
   "id": "3e0e5b38",
   "metadata": {},
   "source": [
    "#  Answer 1\n",
    "\n",
    "The sifference between greedy and non greedy syntax is that greedy will find the longest possible matches of a given string whereas non greedy will find few possible matches.\n",
    "\n",
    "The minimum efforts to change the greedy syntax into non greedy is by changing the \"?\" at the end of the syntax."
   ]
  },
  {
   "cell_type": "markdown",
   "id": "54a2b305",
   "metadata": {},
   "source": [
    "#  Answer 2\n",
    "\n",
    "Greedy makes sense when we want to match the longest possible chatacters, whereas non greedy will makes sense when we want to match the shortest possible match.\n",
    "\n",
    "If there is no non greedy match the we will change the pattern matching method of the regrex expression."
   ]
  },
  {
   "cell_type": "markdown",
   "id": "22156c6f",
   "metadata": {},
   "source": [
    "# Answer 3\n",
    "\n",
    "The non tagged group will not make any difference."
   ]
  },
  {
   "cell_type": "code",
   "execution_count": 1,
   "id": "3647cee4",
   "metadata": {},
   "outputs": [
    {
     "name": "stdout",
     "output_type": "stream",
     "text": [
      "Phone number found -> 234\n",
      "Phone number found -> 234\n"
     ]
    }
   ],
   "source": [
    "import re\n",
    "phoneNumRegex = re.compile(r'\\d\\d\\d')\n",
    "num = phoneNumRegex.search('My number is 234-567-8901.')\n",
    "print(f'Phone number found -> {num.group()}') # Non Tagged group\n",
    "print(f'Phone number found -> {num.group(0)}')  # Tagged Group"
   ]
  },
  {
   "cell_type": "markdown",
   "id": "4cd1ded6",
   "metadata": {},
   "source": [
    "# Answer 4\n",
    "\n",
    "one scenario is when reading the float values, where we want to capture the decimal values also."
   ]
  },
  {
   "cell_type": "code",
   "execution_count": 3,
   "id": "e8add916",
   "metadata": {},
   "outputs": [
    {
     "data": {
      "text/plain": [
       "('13545', '45665')"
      ]
     },
     "execution_count": 3,
     "metadata": {},
     "output_type": "execute_result"
    }
   ],
   "source": [
    "import re\n",
    "text='13545.45665'\n",
    "pattern=r'(\\d+)(?:.)(\\d+)'\n",
    "regobj=re.compile(pattern)\n",
    "matobj=regobj.search(text)\n",
    "matobj.groups()"
   ]
  },
  {
   "cell_type": "markdown",
   "id": "6deb72d8",
   "metadata": {},
   "source": [
    "# Answer 5\n",
    "\n",
    "While counting the number of multiple lines or mutiple sentence in a string the positive look ahead makes a difference, without which we wont get the correct count of lines or sentences in a string."
   ]
  },
  {
   "cell_type": "markdown",
   "id": "00725352",
   "metadata": {},
   "source": [
    "# Answer 6\n",
    "\n",
    " Positive Lookahead allows to add a condition for what follows. Negative Lookahead is similar, but it looks behind. That is, it allows to match a pattern only if there’s something before it."
   ]
  },
  {
   "cell_type": "markdown",
   "id": "29b00a6c",
   "metadata": {},
   "source": [
    "# Answer 7\n",
    "\n",
    "Referring to groups by name rather than by number in a standard expression helps to keep the code clear and easy to understand."
   ]
  },
  {
   "cell_type": "markdown",
   "id": "061cf8ae",
   "metadata": {},
   "source": [
    "# Answer 8"
   ]
  },
  {
   "cell_type": "code",
   "execution_count": 4,
   "id": "cbc47f1e",
   "metadata": {},
   "outputs": [
    {
     "data": {
      "text/plain": [
       "['The', 'the']"
      ]
     },
     "execution_count": 4,
     "metadata": {},
     "output_type": "execute_result"
    }
   ],
   "source": [
    "import re\n",
    "text = \"The cow jumped over the moon\"\n",
    "regobj=re.compile(r'(?P<w1>The)',re.I)\n",
    "regobj.findall(text)"
   ]
  },
  {
   "cell_type": "markdown",
   "id": "bd4f093d",
   "metadata": {},
   "source": [
    "# Answer 9\n",
    "\n",
    "re.findall() module is used to search for all occurrences that match a given pattern. In contrast, re.search() will only return the first occurrence that matches the specified pattern. re.findall() will iterate over all the lines of the file and will return all non-overlapping matches of pattern in a single step."
   ]
  },
  {
   "cell_type": "markdown",
   "id": "08d3635c",
   "metadata": {},
   "source": [
    "# Answer 10\n",
    "\n",
    "No, we can name the object according to our requirement or simply 'our wish'."
   ]
  },
  {
   "cell_type": "code",
   "execution_count": null,
   "id": "6a6061e7",
   "metadata": {},
   "outputs": [],
   "source": []
  },
  {
   "cell_type": "code",
   "execution_count": null,
   "id": "94f4e615",
   "metadata": {},
   "outputs": [],
   "source": []
  }
 ],
 "metadata": {
  "kernelspec": {
   "display_name": "Python 3",
   "language": "python",
   "name": "python3"
  },
  "language_info": {
   "codemirror_mode": {
    "name": "ipython",
    "version": 3
   },
   "file_extension": ".py",
   "mimetype": "text/x-python",
   "name": "python",
   "nbconvert_exporter": "python",
   "pygments_lexer": "ipython3",
   "version": "3.8.8"
  }
 },
 "nbformat": 4,
 "nbformat_minor": 5
}
