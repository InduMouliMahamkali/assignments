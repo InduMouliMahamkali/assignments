{
 "cells": [
  {
   "cell_type": "markdown",
   "metadata": {},
   "source": [
    "Q1. What is the difference between __getattr__ and __getattribute__?\n",
    "\n",
    "\n",
    "\n",
    "Q2. What is the difference between properties and descriptors?\n",
    "\n",
    "\n",
    "\n",
    "Q3. What are the key differences in functionality between __getattr__ and __getattribute__, as well as properties and descriptors?\n"
   ]
  },
  {
   "cell_type": "markdown",
   "metadata": {},
   "source": [
    "# answer 1\n",
    "\n",
    "1. __getattr__ is used when the attribute was not found the usual way.\n",
    "2. Where as __getattribute__ is used before looking at the actual attributes of the object."
   ]
  },
  {
   "cell_type": "markdown",
   "metadata": {},
   "source": [
    "# answer 2\n",
    "\n",
    "1. Decsriptors are a low level mechanism that lets you hook inti an objects attributes being accessed.\n",
    "2. properties are high level applications of descriptor, where properties are implemented using descriptors."
   ]
  },
  {
   "cell_type": "markdown",
   "metadata": {},
   "source": [
    "# answer 3\n",
    "\n",
    "1. The key difference between __getattr__ and __getattribute__ is that __getattr__ is only invoked ig the attribute wasn't found the usual ways. Its's good for implementing a fallback for missing attrinutes and is probably the one of two you want.\n",
    "\n",
    "2. The key difference between properties and decsriptors is that properties are implementes using decsriptors."
   ]
  },
  {
   "cell_type": "code",
   "execution_count": null,
   "metadata": {},
   "outputs": [],
   "source": []
  }
 ],
 "metadata": {
  "kernelspec": {
   "display_name": "Python 3",
   "language": "python",
   "name": "python3"
  },
  "language_info": {
   "codemirror_mode": {
    "name": "ipython",
    "version": 3
   },
   "file_extension": ".py",
   "mimetype": "text/x-python",
   "name": "python",
   "nbconvert_exporter": "python",
   "pygments_lexer": "ipython3",
   "version": "3.8.5"
  }
 },
 "nbformat": 4,
 "nbformat_minor": 4
}
