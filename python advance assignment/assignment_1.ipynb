{
 "cells": [
  {
   "cell_type": "markdown",
   "metadata": {},
   "source": [
    "Q1. What is the purpose of Python's OOP?\n",
    "\n",
    "\n",
    "\n",
    "Q2. Where does an inheritance search look for an attribute?\n",
    "\n",
    "\n",
    "\n",
    "Q3. How do you distinguish between a class object and an instance object?\n",
    "\n",
    "\n",
    "\n",
    "Q4. What makes the first argument in a class’s method function special?\n",
    "\n",
    "\n",
    "\n",
    "Q5. What is the purpose of the __init__ method?\n",
    "\n",
    "\n",
    "\n",
    "Q6. What is the process for creating a class instance?\n",
    "\n",
    "\n",
    "\n",
    "Q7. What is the process for creating a class?\n",
    "\n",
    "\n",
    "\n",
    "Q8. How would you define the superclasses of a class?\n"
   ]
  },
  {
   "cell_type": "markdown",
   "metadata": {},
   "source": [
    "#answer 1\n",
    "\n",
    "The OOPs approach gives\n",
    "1. modularity to the code\n",
    "2. it helps in easily modifies the existing code\n",
    "3. the program looks structural with clean code\n",
    "4. as the opp is based on classes they can be resuable."
   ]
  },
  {
   "cell_type": "markdown",
   "metadata": {},
   "source": [
    "#answer 2\n",
    "\n",
    "The inheritance search looks for an attribute in the object"
   ]
  },
  {
   "cell_type": "markdown",
   "metadata": {},
   "source": [
    "#answer 3\n",
    "\n",
    "Class object is the original blueprint of the object where as the instance object is just the virtual copy of the object in the menory."
   ]
  },
  {
   "cell_type": "markdown",
   "metadata": {},
   "source": [
    "#answer 4\n",
    "\n",
    "The first argument in a class method \"self\" is special as it is the reference to the current instance of the calss"
   ]
  },
  {
   "cell_type": "markdown",
   "metadata": {},
   "source": [
    "#answer 5\n",
    "\n",
    "The __init__ method is a predefined method in python oops for initializing an class object after creation"
   ]
  },
  {
   "cell_type": "markdown",
   "metadata": {},
   "source": [
    "#answer 6\n",
    "\n",
    "For creating the instance of a class we can call the class using its name and pass any arguments which will be accepted by the __init__ method"
   ]
  },
  {
   "cell_type": "markdown",
   "metadata": {},
   "source": [
    "#answer 7\n",
    "\n",
    "We can create a class by using the in-build keyword Class in python and add the self parameter."
   ]
  },
  {
   "cell_type": "markdown",
   "metadata": {},
   "source": [
    "#answer 8\n",
    "\n",
    "A super class is a class by which many subclasses can be created. the subclass inherits all the properties of superclass"
   ]
  },
  {
   "cell_type": "code",
   "execution_count": null,
   "metadata": {},
   "outputs": [],
   "source": []
  }
 ],
 "metadata": {
  "kernelspec": {
   "display_name": "Python 3",
   "language": "python",
   "name": "python3"
  },
  "language_info": {
   "codemirror_mode": {
    "name": "ipython",
    "version": 3
   },
   "file_extension": ".py",
   "mimetype": "text/x-python",
   "name": "python",
   "nbconvert_exporter": "python",
   "pygments_lexer": "ipython3",
   "version": "3.8.5"
  }
 },
 "nbformat": 4,
 "nbformat_minor": 4
}
