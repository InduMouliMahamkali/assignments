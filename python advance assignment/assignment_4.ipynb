{
 "cells": [
  {
   "cell_type": "markdown",
   "metadata": {},
   "source": [
    "Q1. Which two operator overloading methods can you use in your classes to support iteration?\n",
    "\n",
    "\n",
    "\n",
    "Q2. In what contexts do the two operator overloading methods manage printing?\n",
    "\n",
    "\n",
    "\n",
    "Q3. In a class, how do you intercept slice operations?\n",
    "\n",
    "\n",
    "\n",
    "Q4. In a class, how do you capture in-place addition?\n",
    "\n",
    "\n",
    "\n",
    "Q5. When is it appropriate to use operator overloading?\n"
   ]
  },
  {
   "cell_type": "markdown",
   "metadata": {},
   "source": [
    "#answer 1\n",
    "\n",
    "The __iter__ and __next__ methods can be used in classes that supports iterations"
   ]
  },
  {
   "cell_type": "markdown",
   "metadata": {},
   "source": [
    "#answer 2\n",
    "\n",
    "For example the addition operator (+) acts as both addithion of integers and concatenation operation for string. In such cases it manages to print the statements."
   ]
  },
  {
   "cell_type": "markdown",
   "metadata": {},
   "source": [
    "#answer 3\n",
    "\n",
    "to intercept class in python we provide arguments to the slice() as start,stop,step"
   ]
  },
  {
   "cell_type": "markdown",
   "metadata": {},
   "source": [
    "#answer 4\n",
    "\n",
    "__iadd__ method helps in capturing the in place arguments"
   ]
  },
  {
   "cell_type": "markdown",
   "metadata": {},
   "source": [
    "#answer 5\n",
    "\n",
    "we use operator overloading when the type of the class is diggerent like int and string"
   ]
  }
 ],
 "metadata": {
  "kernelspec": {
   "display_name": "Python 3",
   "language": "python",
   "name": "python3"
  },
  "language_info": {
   "codemirror_mode": {
    "name": "ipython",
    "version": 3
   },
   "file_extension": ".py",
   "mimetype": "text/x-python",
   "name": "python",
   "nbconvert_exporter": "python",
   "pygments_lexer": "ipython3",
   "version": "3.8.5"
  }
 },
 "nbformat": 4,
 "nbformat_minor": 4
}
