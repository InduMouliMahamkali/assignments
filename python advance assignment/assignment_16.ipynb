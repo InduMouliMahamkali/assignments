{
 "cells": [
  {
   "cell_type": "markdown",
   "metadata": {},
   "source": [
    "Q1. What is the benefit of regular expressions?\n",
    "\n",
    "\n",
    "\n",
    "Q2. Describe the difference between the effects of \"(ab)c+\" and \"a(bc)+.\" Which of these, if any, is the unqualified pattern \"abc+\"?\n",
    "\n",
    "\n",
    "\n",
    "Q3. How much do you need to use the following sentence while using regular expressions?\n",
    "\n",
    "\n",
    "\n",
    "import re\n",
    "\n",
    "\n",
    "\n",
    "\n",
    "\n",
    "Q4. Which characters have special significance in square brackets when expressing a range, and under what circumstances?\n",
    "\n",
    "\n",
    "\n",
    "Q5. How does compiling a regular-expression object benefit you?\n",
    "\n",
    "\n",
    "\n",
    "Q6. What are some examples of how to use the match object returned by re.match and re.search?\n",
    "\n",
    "\n",
    "\n",
    "Q7. What is the difference between using a vertical bar (|) as an alteration and using square brackets as a character set?\n",
    "\n",
    "\n",
    "\n",
    "Q8. In regular-expression search patterns, why is it necessary to use the raw-string indicator (r)? In   replacement strings?\n",
    "\n",
    "\n"
   ]
  },
  {
   "cell_type": "markdown",
   "metadata": {},
   "source": [
    "# answer 1\n",
    "\n",
    "Regular expressions are used for searching through (usually textual) data. They allow you to search for pieces of text that match a certain form, instead of searching for a piece of text identical to the one you supply."
   ]
  },
  {
   "cell_type": "markdown",
   "metadata": {},
   "source": [
    "# answer 2\n",
    "\n",
    "The difference is that the a(bc)+ captures the results with bc and other. While, (ab)c+ captures the results with ab and others.\n",
    "\n",
    "And the expression abc+ returns the expression with abc."
   ]
  },
  {
   "cell_type": "markdown",
   "metadata": {},
   "source": [
    "# answer 3\n",
    "\n",
    "The statement \"import re\" will used every time we want to use any regular expression operations"
   ]
  },
  {
   "cell_type": "markdown",
   "metadata": {},
   "source": [
    "# answer 4\n",
    "\n",
    "\n",
    "Inside a character class metacharacters(backslash (\\),circumflex anchor and hyphen(^)) have special meaning.\n",
    "\n",
    "we must use a backslash when you use character class metacharacters as literals inside a character class only."
   ]
  },
  {
   "cell_type": "markdown",
   "metadata": {},
   "source": [
    "# answer 5\n",
    "\n",
    "We use regular expression pagttern intopattern objects so that we could use it for pattern matching. It gives an advantage of searching a patter again without rewriting it, and compile the regex pattern which will be used for matching later."
   ]
  },
  {
   "cell_type": "markdown",
   "metadata": {},
   "source": [
    "# answer 6\n",
    "\n",
    "Both the functions re.search() and re.match() are imported from re moduole. These functions are very efficient and fast for searching characters in a string, returns the characters if found else returns none.\n",
    "\n",
    "There is a difference in both the methods,\n",
    "\n",
    "re.match() searches for the character only at the begining of the string.\n",
    "\n",
    "While re.search() searches for the character anywhere in the string.\n",
    "\n",
    "# example"
   ]
  },
  {
   "cell_type": "code",
   "execution_count": 1,
   "metadata": {},
   "outputs": [
    {
     "name": "stdout",
     "output_type": "stream",
     "text": [
      "<re.Match object; span=(75, 81), match='string'>\n",
      "None\n",
      "<re.Match object; span=(0, 6), match='string'>\n",
      "<re.Match object; span=(0, 6), match='string'>\n"
     ]
    }
   ],
   "source": [
    "import re\n",
    " \n",
    "Substring ='string'\n",
    "  \n",
    "String1 ='''We are learning regex with geeksforgeeks\n",
    "         regex is very useful for string matching.\n",
    "          It is fast too.'''\n",
    "String2 ='''string We are learning regex with geeksforgeeks\n",
    "         regex is very useful for string matching.\n",
    "          It is fast too.'''\n",
    " \n",
    "\n",
    "print(re.search(Substring, String1, re.IGNORECASE))\n",
    "\n",
    "print(re.match(Substring, String1, re.IGNORECASE))\n",
    " \n",
    "\n",
    "print(re.search(Substring, String2, re.IGNORECASE))\n",
    "\n",
    "print(re.match(Substring, String2, re.IGNORECASE))"
   ]
  },
  {
   "cell_type": "markdown",
   "metadata": {},
   "source": [
    "# answer 7\n",
    "\n",
    "The vertical bar in regex means \"or\" operation, like search for character in a or b\n",
    "\n",
    "whereas, square brackets are a character class meaning any character from a or b."
   ]
  },
  {
   "cell_type": "markdown",
   "metadata": {},
   "source": [
    "# answer 8\n",
    "\n",
    "\n",
    "In regular expression (r) is used in a raw string so that the backslash (\\) will not be skiped."
   ]
  }
 ],
 "metadata": {
  "kernelspec": {
   "display_name": "Python 3",
   "language": "python",
   "name": "python3"
  },
  "language_info": {
   "codemirror_mode": {
    "name": "ipython",
    "version": 3
   },
   "file_extension": ".py",
   "mimetype": "text/x-python",
   "name": "python",
   "nbconvert_exporter": "python",
   "pygments_lexer": "ipython3",
   "version": "3.8.8"
  }
 },
 "nbformat": 4,
 "nbformat_minor": 4
}
