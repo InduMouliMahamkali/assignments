{
 "cells": [
  {
   "cell_type": "markdown",
   "id": "89c8b72f",
   "metadata": {},
   "source": [
    "Q1. Describe the differences between text and binary files in a single paragraph.\n",
    "\n",
    "\n",
    "\n",
    "Q2. What are some scenarios where using text files will be the better option? When would you like to use binary files instead of text files?\n",
    "\n",
    "\n",
    "\n",
    "Q3. What are some of the issues with using binary operations to read and write a Python integer directly to disc?\n",
    "\n",
    "\n",
    "\n",
    "Q4. Describe a benefit of using the with keyword instead of explicitly opening a file.\n",
    "\n",
    "\n",
    "\n",
    "Q5. Does Python have the trailing newline while reading a line of text? Does Python append a newline when you write a line of text?\n",
    "\n",
    "\n",
    "\n",
    "Q6. What file operations enable for random-access operation?\n",
    "\n",
    "\n",
    "\n",
    "Q7. When do you think you'll use the struct package the most?\n",
    "\n",
    "\n",
    "\n",
    "Q8. When is pickling the best option?\n",
    "\n",
    "\n",
    "\n",
    "Q9. When will it be best to use the shelve package?\n",
    "\n",
    "\n",
    "\n",
    "Q10. What is a special restriction when using the shelve package, as opposed to using other data dictionaries?\n"
   ]
  },
  {
   "cell_type": "code",
   "execution_count": null,
   "id": "121a8934",
   "metadata": {},
   "outputs": [],
   "source": []
  }
 ],
 "metadata": {
  "kernelspec": {
   "display_name": "Python 3",
   "language": "python",
   "name": "python3"
  },
  "language_info": {
   "codemirror_mode": {
    "name": "ipython",
    "version": 3
   },
   "file_extension": ".py",
   "mimetype": "text/x-python",
   "name": "python",
   "nbconvert_exporter": "python",
   "pygments_lexer": "ipython3",
   "version": "3.8.8"
  }
 },
 "nbformat": 4,
 "nbformat_minor": 5
}
