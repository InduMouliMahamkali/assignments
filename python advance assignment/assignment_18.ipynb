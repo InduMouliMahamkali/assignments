{
 "cells": [
  {
   "cell_type": "markdown",
   "id": "89c8b72f",
   "metadata": {},
   "source": [
    "Q1. Describe the differences between text and binary files in a single paragraph.\n",
    "\n",
    "\n",
    "\n",
    "Q2. What are some scenarios where using text files will be the better option? When would you like to use binary files instead of text files?\n",
    "\n",
    "\n",
    "\n",
    "Q3. What are some of the issues with using binary operations to read and write a Python integer directly to disc?\n",
    "\n",
    "\n",
    "\n",
    "Q4. Describe a benefit of using the with keyword instead of explicitly opening a file.\n",
    "\n",
    "\n",
    "\n",
    "Q5. Does Python have the trailing newline while reading a line of text? Does Python append a newline when you write a line of text?\n",
    "\n",
    "\n",
    "\n",
    "Q6. What file operations enable for random-access operation?\n",
    "\n",
    "\n",
    "\n",
    "Q7. When do you think you'll use the struct package the most?\n",
    "\n",
    "\n",
    "\n",
    "Q8. When is pickling the best option?\n",
    "\n",
    "\n",
    "\n",
    "Q9. When will it be best to use the shelve package?\n",
    "\n",
    "\n",
    "\n",
    "Q10. What is a special restriction when using the shelve package, as opposed to using other data dictionaries?\n"
   ]
  },
  {
   "cell_type": "markdown",
   "id": "41b4d141",
   "metadata": {},
   "source": [
    "#  Answer 1\n",
    "\n",
    "Text file store data in the form of bytes and each bit represent a character. We can store human readable text or plain text documents. Binary files store the data in the form of bytes stored in group of 8. As binary bits represent custome data we can store text, audio, video, images and many more in single format."
   ]
  },
  {
   "cell_type": "markdown",
   "id": "0e38bb08",
   "metadata": {},
   "source": [
    "# Answer 2\n",
    "\n",
    "Text files are better option when that files are to be read by any person to know its content. whereas, binary files can be used when we need to group the data compactly and want to encode or use the file for some or other machine or AI understandable situations. "
   ]
  },
  {
   "cell_type": "markdown",
   "id": "1b46e073",
   "metadata": {},
   "source": [
    "# Answer 3\n",
    "\n",
    "Binary operations deal with raw data One needs to identify how many bytes one would read or write."
   ]
  },
  {
   "cell_type": "markdown",
   "id": "4b018c48",
   "metadata": {},
   "source": [
    "# Answer 4\n",
    "\n",
    "When a file is opened using the with keyword, if some exceptions occur after opening a file, or at the end of the file it automatically does the closing of the file. There by not leaving an file in open mode and there would no need to explicitly close a file."
   ]
  },
  {
   "cell_type": "markdown",
   "id": "3854051d",
   "metadata": {},
   "source": [
    "#  Answer 5\n",
    "\n",
    "Yes, Python have the trailing newline while reading a line of text. When we write a newline has to be provided in python excpicitly."
   ]
  },
  {
   "cell_type": "markdown",
   "id": "d3be47ba",
   "metadata": {},
   "source": [
    "#  Answer 6\n",
    "\n",
    "The file operations enable for random-access operation are seek() and tell()"
   ]
  },
  {
   "cell_type": "markdown",
   "id": "04687468",
   "metadata": {},
   "source": [
    "#  Answer 7\n",
    "\n",
    "The struct package is mostly used while converting a common python types into C language types."
   ]
  },
  {
   "cell_type": "markdown",
   "id": "7e10032a",
   "metadata": {},
   "source": [
    "# Answer 8\n",
    "\n",
    " Pickling is best option for creating a new binary file using python."
   ]
  },
  {
   "cell_type": "markdown",
   "id": "ec8c6b20",
   "metadata": {},
   "source": [
    "# Answer 9\n",
    "\n",
    "Shelve package is used to pickle data but treats the entire file as dictionary."
   ]
  },
  {
   "cell_type": "markdown",
   "id": "e8fd4820",
   "metadata": {},
   "source": [
    "#  Answer 10\n",
    "\n",
    "Only string data type can be used as key in this special dictionary object, whereas any picklable Python object can be used as value."
   ]
  },
  {
   "cell_type": "code",
   "execution_count": null,
   "id": "70a0d88d",
   "metadata": {},
   "outputs": [],
   "source": []
  }
 ],
 "metadata": {
  "kernelspec": {
   "display_name": "Python 3",
   "language": "python",
   "name": "python3"
  },
  "language_info": {
   "codemirror_mode": {
    "name": "ipython",
    "version": 3
   },
   "file_extension": ".py",
   "mimetype": "text/x-python",
   "name": "python",
   "nbconvert_exporter": "python",
   "pygments_lexer": "ipython3",
   "version": "3.8.8"
  }
 },
 "nbformat": 4,
 "nbformat_minor": 5
}
