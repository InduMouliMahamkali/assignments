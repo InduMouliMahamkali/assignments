{
 "cells": [
  {
   "cell_type": "markdown",
   "metadata": {},
   "source": [
    "1.\tWhat are the new features added in Python 3.8 version?\n",
    "2.\tWhat is monkey patching in Python?\n",
    "3.\tWhat is the difference between a shallow copy and deep copy?\n",
    "4.\tWhat is the maximum possible length of an identifier?\n",
    "5.\tWhat is generator comprehension?\n"
   ]
  },
  {
   "cell_type": "markdown",
   "metadata": {},
   "source": [
    "# answer 1\n",
    "\n",
    " Python 3.8 brings a number of slick syntax changes, memory sharing, more efficient serialization and deserialization, revamped dictionaries, and much more."
   ]
  },
  {
   "cell_type": "markdown",
   "metadata": {},
   "source": [
    "# answer 2\n",
    "\n",
    "The term monkey patch refers to dynamic modifications of a class or module. We can actually change the behaviot of code at run time."
   ]
  },
  {
   "cell_type": "markdown",
   "metadata": {},
   "source": [
    "# answer 3\n",
    "\n",
    "Shallow copy inserts references into the objects found in the original.\n",
    "\n",
    "Deep copy constructs a new compound object and then inserts copies into the objects found in the original"
   ]
  },
  {
   "cell_type": "markdown",
   "metadata": {},
   "source": [
    "# answer 4\n",
    "\n",
    "The maximum possible length of an identifier in python is 79 characters."
   ]
  },
  {
   "cell_type": "markdown",
   "metadata": {},
   "source": [
    "# answer 5\n",
    "\n",
    "The generator comprehension is a single line specification for defining a generator in python."
   ]
  },
  {
   "cell_type": "code",
   "execution_count": null,
   "metadata": {},
   "outputs": [],
   "source": []
  }
 ],
 "metadata": {
  "kernelspec": {
   "display_name": "Python 3",
   "language": "python",
   "name": "python3"
  },
  "language_info": {
   "codemirror_mode": {
    "name": "ipython",
    "version": 3
   },
   "file_extension": ".py",
   "mimetype": "text/x-python",
   "name": "python",
   "nbconvert_exporter": "python",
   "pygments_lexer": "ipython3",
   "version": "3.8.5"
  }
 },
 "nbformat": 4,
 "nbformat_minor": 4
}
