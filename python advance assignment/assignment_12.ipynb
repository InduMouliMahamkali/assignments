{
 "cells": [
  {
   "cell_type": "markdown",
   "metadata": {},
   "source": [
    "Q1. Does assigning a value to a string's indexed character violate Python's string immutability?\n",
    "\n",
    "\n",
    "\n",
    "Q2. Does using the += operator to concatenate strings violate Python's string immutability? Why or why not?\n",
    "\n",
    "\n",
    "\n",
    "Q3. In Python, how many different ways are there to index a character?\n",
    "\n",
    "\n",
    "\n",
    "Q4. What is the relationship between indexing and slicing?\n",
    "\n",
    "\n",
    "\n",
    "Q5. What is an indexed character's exact data type? What is the data form of a slicing-generated substring?\n",
    "\n",
    "\n",
    "\n",
    "Q6. What is the relationship between string and character \"types\" in Python?\n",
    "\n",
    "\n",
    "\n",
    "Q7. Identify at least two operators and one method that allow you to combine one or more smaller strings to create a larger string.\n",
    "\n",
    "\n",
    "\n",
    "Q8. What is the benefit of first checking the target string with in or not in before using the index method to find a substring?\n",
    "\n",
    "\n",
    "\n",
    "Q9. Which operators and built-in string methods produce simple Boolean (true/false) results?\n"
   ]
  },
  {
   "cell_type": "markdown",
   "metadata": {},
   "source": [
    "# answer 1\n",
    "\n",
    "Python string is immutable, we cannot overwrite the values of immutable objects. However we can assign the variable again. Its not modifying the string object we are creating a new string object."
   ]
  },
  {
   "cell_type": "markdown",
   "metadata": {},
   "source": [
    "# answer 2\n",
    "\n",
    "Using the += operator of concatenation doesnt voilate the string immutability. This operation just adds the string at the right to the last of left string."
   ]
  },
  {
   "cell_type": "markdown",
   "metadata": {},
   "source": [
    "# answer 3\n",
    "\n",
    "In python there two ways for indexing a string\n",
    "1. positive indexing, which starts from 0 to n from left to right\n",
    "2. negative indexing, which starts from -1 to -n from right to left."
   ]
  },
  {
   "cell_type": "markdown",
   "metadata": {},
   "source": [
    "# answer 4\n",
    "\n",
    "Slicing is the way by which we can a particular data from the whole data set. which is done by using the index value of the data."
   ]
  },
  {
   "cell_type": "code",
   "execution_count": 10,
   "metadata": {},
   "outputs": [
    {
     "name": "stdout",
     "output_type": "stream",
     "text": [
      "<class 'str'>\n",
      "<class 'str'>\n"
     ]
    }
   ],
   "source": [
    "# answer 5\n",
    "\n",
    "a='indu mouli'\n",
    "print(type(a[8]))\n",
    "print(type(a[1:8]))"
   ]
  },
  {
   "cell_type": "markdown",
   "metadata": {},
   "source": [
    "From the above code we can say that the data type of both indexed character and sliced substring is of type 'str' that is string.\n",
    "\n",
    "here it is a string indexing and slicing if we take a list we get the type as a list."
   ]
  },
  {
   "cell_type": "markdown",
   "metadata": {},
   "source": [
    "# answer 6\n",
    "\n",
    "the word string is an object while the character \"string\" is a python string which is an array of bytes representing unicode characters. we can access them using the square brackets[]."
   ]
  },
  {
   "cell_type": "markdown",
   "metadata": {},
   "source": [
    "# answer 7\n",
    "\n",
    "The two operators that allows us to combine one or more smaller string are + and * operators. The + operator is used for concatenation and the * operator is used for string multiplaction."
   ]
  },
  {
   "cell_type": "code",
   "execution_count": 17,
   "metadata": {},
   "outputs": [
    {
     "data": {
      "text/plain": [
       "'sting addition'"
      ]
     },
     "execution_count": 17,
     "metadata": {},
     "output_type": "execute_result"
    }
   ],
   "source": [
    "a=\"sting\"\n",
    "b=\"addition\"\n",
    "a+\" \"+b"
   ]
  },
  {
   "cell_type": "code",
   "execution_count": 18,
   "metadata": {},
   "outputs": [
    {
     "data": {
      "text/plain": [
       "'moulimoulimouli'"
      ]
     },
     "execution_count": 18,
     "metadata": {},
     "output_type": "execute_result"
    }
   ],
   "source": [
    "a='mouli'\n",
    "a*3"
   ]
  },
  {
   "cell_type": "markdown",
   "metadata": {},
   "source": [
    "# answer 8\n",
    "\n",
    "The benifit of using the in or not in is that in case if the sub string is not present it gives the error message stoping the furtur program."
   ]
  },
  {
   "cell_type": "markdown",
   "metadata": {},
   "source": [
    "# answer 9\n",
    "\n",
    "The == operator gives the output whether given statement is true or false."
   ]
  }
 ],
 "metadata": {
  "kernelspec": {
   "display_name": "Python 3",
   "language": "python",
   "name": "python3"
  },
  "language_info": {
   "codemirror_mode": {
    "name": "ipython",
    "version": 3
   },
   "file_extension": ".py",
   "mimetype": "text/x-python",
   "name": "python",
   "nbconvert_exporter": "python",
   "pygments_lexer": "ipython3",
   "version": "3.8.5"
  }
 },
 "nbformat": 4,
 "nbformat_minor": 4
}
