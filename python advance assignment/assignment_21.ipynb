{
 "cells": [
  {
   "cell_type": "markdown",
   "id": "adfbc892",
   "metadata": {},
   "source": [
    "Q1. What is a probability distribution, exactly? If the values are meant to be random, how can you predict them at all?\n",
    "\n",
    "\n",
    "\n",
    "Q2. Is there a distinction between true random numbers and pseudo-random numbers, if there is one? Why are the latter considered “good enough”?\n",
    "\n",
    "\n",
    "\n",
    "Q3. What are the two main factors that influence the behaviour of a \"normal\" probability distribution?\n",
    "\n",
    "\n",
    "\n",
    "Q4. Provide a real-life example of a normal distribution.\n",
    "\n",
    "\n",
    "\n",
    "Q5. In the short term, how can you expect a probability distribution to behave? What do you think will happen as the number of trials grows?\n",
    "\n",
    "\n",
    "\n",
    "Q6. What kind of object can be shuffled by using random.shuffle?\n",
    "\n",
    "\n",
    "\n",
    "Q7. Describe the math package's general categories of functions.\n",
    "\n",
    "\n",
    "\n",
    "Q8. What is the relationship between exponentiation and logarithms?\n",
    "\n",
    "\n",
    "\n",
    "Q9. What are the three logarithmic functions that Python supports?\n"
   ]
  },
  {
   "cell_type": "markdown",
   "id": "5f4f95be",
   "metadata": {},
   "source": [
    "# Answer 1\n",
    "\n",
    "It tells us which values a random variable is most likely to take on and which values are less likely. Based on the previous data and the occurences of the random event, we can predict the outcome in terms of probabilities."
   ]
  },
  {
   "cell_type": "markdown",
   "id": "8a5f585c",
   "metadata": {},
   "source": [
    "# Answer 2\n",
    "\n",
    "True Random Numbers are true physical values while pseudo-random numbers are generated internally by a program . Latter is considered good enough as they have sort of uniform distribution."
   ]
  },
  {
   "cell_type": "markdown",
   "id": "386176f9",
   "metadata": {},
   "source": [
    "# Answer 3\n",
    "\n",
    "Normal Probability Distribution are influenced by two factors mean and the variance."
   ]
  },
  {
   "cell_type": "markdown",
   "id": "df0836b5",
   "metadata": {},
   "source": [
    "# Answer 4\n",
    "\n",
    "A Real-life example of a normal distribution are heights or blood pressure measurements"
   ]
  },
  {
   "cell_type": "markdown",
   "id": "e60cf6df",
   "metadata": {},
   "source": [
    "# Answer 5\n",
    "\n",
    "Variance will decrease with number of trials"
   ]
  },
  {
   "cell_type": "markdown",
   "id": "cb85722e",
   "metadata": {},
   "source": [
    "# Answer 6\n",
    "\n",
    "lists (list), strings (str) and tuples (tuple) objects can be shuffled by using random.shuffle."
   ]
  },
  {
   "cell_type": "markdown",
   "id": "afe1be33",
   "metadata": {},
   "source": [
    "# Answer 7\n",
    "\n",
    "The Math package's general categories of functions are:\n",
    "\n",
    "-Trigonometric functions\n",
    "\n",
    "-Quadratic functions\n",
    "\n",
    "-Exponential functions\n",
    "\n",
    "-Hyperbolic functions\n",
    "\n",
    "-Periodic functions\n",
    "\n",
    "-Arithmetic functions\n",
    "\n",
    "-Logarithimic functions\n",
    "\n",
    "-Conversions to Integer"
   ]
  },
  {
   "cell_type": "markdown",
   "id": "71833ea3",
   "metadata": {},
   "source": [
    "# Answer 8\n",
    "\n",
    "Exponentiation and logarithms are inverse of each other."
   ]
  },
  {
   "cell_type": "markdown",
   "id": "0822de88",
   "metadata": {},
   "source": [
    "# Answer 9\n",
    "\n",
    "log2(x) - logarithmic value of x to base 2\n",
    "\n",
    "log10(x) - logarithmic value of x to base 10\n",
    "\n",
    "log1p(a) - This function is used to compute logarithm(1+a) ."
   ]
  },
  {
   "cell_type": "code",
   "execution_count": null,
   "id": "2f4a38a7",
   "metadata": {},
   "outputs": [],
   "source": []
  }
 ],
 "metadata": {
  "kernelspec": {
   "display_name": "Python 3",
   "language": "python",
   "name": "python3"
  },
  "language_info": {
   "codemirror_mode": {
    "name": "ipython",
    "version": 3
   },
   "file_extension": ".py",
   "mimetype": "text/x-python",
   "name": "python",
   "nbconvert_exporter": "python",
   "pygments_lexer": "ipython3",
   "version": "3.8.8"
  }
 },
 "nbformat": 4,
 "nbformat_minor": 5
}
